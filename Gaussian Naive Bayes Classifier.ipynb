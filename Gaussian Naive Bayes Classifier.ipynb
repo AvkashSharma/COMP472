{
 "cells": [
  {
   "cell_type": "markdown",
   "metadata": {},
   "source": [
    "# GNB-DS1"
   ]
  },
  {
   "cell_type": "markdown",
   "metadata": {},
   "source": [
    "Gaussian Naive Bayes Classifier, with default parameter values"
   ]
  },
  {
   "cell_type": "markdown",
   "metadata": {},
   "source": [
    "#### Import Libraries"
   ]
  },
  {
   "cell_type": "code",
   "execution_count": 41,
   "metadata": {},
   "outputs": [],
   "source": [
    "import numpy as np\n",
    "import pandas as pd\n",
    "from sklearn.naive_bayes import GaussianNB"
   ]
  },
  {
   "cell_type": "markdown",
   "metadata": {},
   "source": [
    "#### Import data"
   ]
  },
  {
   "cell_type": "code",
   "execution_count": 42,
   "metadata": {},
   "outputs": [],
   "source": [
    "# Import dataset according to selection\n",
    "dataset_train1 = pd.read_csv(\"dataset/train_1.csv\", header=None)\n",
    "dataset_val1 = pd.read_csv(\"dataset/val_1.csv\",header=None)\n",
    "dataset_test1 = pd.read_csv(\"dataset/test_no_label_1.csv\",header=None)\n",
    "dataset_test1_with_label = pd.read_csv(\"dataset/test_with_label_1.csv\",header=None)\n",
    "\n",
    "# X = data, Y = target \n",
    "X_train1 = dataset_train1.iloc[:, :-1].values\n",
    "Y_train1 = dataset_train1.iloc[:, -1].values\n",
    "X_val1 = dataset_val1.iloc[:, :-1].values\n",
    "Y_val1 = dataset_val1.iloc[:, -1].values\n",
    "X_test1 = dataset_test1.iloc[:, ].values\n",
    "Y_test1 = dataset_test1_with_label.iloc[:,-1]"
   ]
  },
  {
   "cell_type": "markdown",
   "metadata": {},
   "source": [
    "#### Train Model"
   ]
  },
  {
   "cell_type": "code",
   "execution_count": 44,
   "metadata": {},
   "outputs": [
    {
     "data": {
      "text/plain": [
       "GaussianNB(priors=None, var_smoothing=1e-09)"
      ]
     },
     "execution_count": 44,
     "metadata": {},
     "output_type": "execute_result"
    }
   ],
   "source": [
    "classifier = GaussianNB()\n",
    "classifier.fit(X_train1,Y_train1)"
   ]
  },
  {
   "cell_type": "markdown",
   "metadata": {},
   "source": [
    "#### VALIDATE - Predict using Validation Data"
   ]
  },
  {
   "cell_type": "code",
   "execution_count": 45,
   "metadata": {},
   "outputs": [],
   "source": [
    "Y_val1_pred = classifier.predict(X_val1)"
   ]
  },
  {
   "cell_type": "markdown",
   "metadata": {},
   "source": [
    "#### VALIDATE - Output - Confusion matrix validate Set"
   ]
  },
  {
   "cell_type": "code",
   "execution_count": 31,
   "metadata": {},
   "outputs": [],
   "source": [
    "from sklearn.metrics import confusion_matrix, accuracy_score, classification_report\n",
    "# cm = confusion_matrix(Y_val1, Y_val1_pred)\n",
    "# cr = classification_report(Y_val1, Y_val1_pred)\n",
    "# print(Y_val1_pred)\n",
    "# print(cm)\n",
    "# print(cr)"
   ]
  },
  {
   "cell_type": "markdown",
   "metadata": {},
   "source": [
    "#### TEST - Predict using Test set"
   ]
  },
  {
   "cell_type": "code",
   "execution_count": 37,
   "metadata": {},
   "outputs": [],
   "source": [
    "Y_test1_pred = classifier.predict(X_test1)"
   ]
  },
  {
   "cell_type": "markdown",
   "metadata": {},
   "source": [
    "#### Test - Output - Confusion matrix Test Set"
   ]
  },
  {
   "cell_type": "code",
   "execution_count": 39,
   "metadata": {},
   "outputs": [
    {
     "name": "stdout",
     "output_type": "stream",
     "text": [
      "[[2 0 0 0 0 0 0 0 0 0 0 0 1 0 0 0 0 1 0 0 0 0 0 0 0 0]\n",
      " [0 2 0 0 0 0 0 0 0 0 0 0 0 0 0 0 0 0 0 0 0 0 0 0 0 0]\n",
      " [0 0 3 0 0 0 1 0 0 0 0 0 0 0 0 0 0 0 0 0 0 0 0 0 0 0]\n",
      " [0 1 0 2 0 0 0 0 0 0 0 0 0 0 0 0 0 0 0 0 0 0 0 0 0 0]\n",
      " [0 1 0 0 0 1 0 0 0 0 0 0 0 0 0 0 0 0 0 0 0 0 0 0 0 0]\n",
      " [0 0 0 0 0 1 0 0 0 0 0 0 1 0 0 0 0 0 0 0 0 0 0 0 0 0]\n",
      " [0 1 0 0 0 0 2 0 0 0 0 0 1 0 0 0 0 0 0 0 0 0 0 0 0 0]\n",
      " [1 0 0 0 0 0 0 1 0 0 0 0 0 1 0 0 0 0 0 0 0 0 0 0 0 0]\n",
      " [0 0 0 0 0 0 0 0 3 0 0 0 0 0 0 0 0 0 0 0 0 0 0 0 0 0]\n",
      " [0 1 0 0 0 0 0 0 0 2 0 0 0 0 0 0 1 0 0 0 0 0 0 0 0 0]\n",
      " [0 0 0 0 0 0 0 0 0 0 1 0 0 0 0 0 0 2 0 0 0 0 0 0 0 0]\n",
      " [0 0 0 0 0 0 0 0 0 0 0 3 0 0 0 0 0 0 0 0 0 0 0 0 0 1]\n",
      " [0 0 0 0 0 0 0 0 0 0 0 0 2 1 0 0 0 0 0 0 0 0 0 0 0 0]\n",
      " [0 0 0 1 0 0 0 0 0 0 0 0 0 3 0 0 0 0 0 0 0 0 0 0 0 0]\n",
      " [0 0 0 0 0 0 0 0 0 0 0 0 0 0 3 0 0 0 0 0 0 0 0 0 0 0]\n",
      " [1 0 0 0 0 0 0 0 0 0 0 0 0 0 0 2 0 0 0 0 0 0 0 0 0 0]\n",
      " [0 0 0 0 0 0 0 0 0 0 0 0 0 0 0 0 3 0 0 0 0 0 0 0 0 0]\n",
      " [0 0 0 0 0 0 0 0 0 0 1 0 0 0 0 0 0 3 0 0 0 0 0 0 0 0]\n",
      " [0 0 0 0 0 0 0 0 0 0 0 0 0 0 0 0 1 0 2 0 0 0 0 0 0 0]\n",
      " [0 0 0 0 0 0 0 0 0 0 0 0 0 0 0 0 0 0 0 2 0 0 0 0 0 0]\n",
      " [0 0 0 0 0 0 0 0 0 0 0 0 0 0 0 0 0 0 0 0 3 0 0 0 0 0]\n",
      " [0 0 0 0 0 0 0 0 0 0 0 0 0 0 0 0 0 0 0 0 0 2 1 0 0 0]\n",
      " [0 0 0 0 0 0 0 0 0 0 0 0 0 0 0 0 0 0 0 0 0 0 3 0 0 0]\n",
      " [0 0 0 0 0 0 0 0 0 0 0 0 1 0 0 0 0 0 0 0 0 0 0 1 0 0]\n",
      " [0 0 0 0 0 0 0 0 0 0 0 0 0 0 0 0 0 0 0 0 0 1 0 0 2 0]\n",
      " [0 0 0 0 0 0 0 0 0 0 0 0 1 0 0 0 0 0 0 0 0 0 0 0 0 2]]\n",
      "              precision    recall  f1-score   support\n",
      "\n",
      "           0       0.50      0.50      0.50         4\n",
      "           1       0.33      1.00      0.50         2\n",
      "           2       1.00      0.75      0.86         4\n",
      "           3       0.67      0.67      0.67         3\n",
      "           4       0.00      0.00      0.00         2\n",
      "           5       0.50      0.50      0.50         2\n",
      "           6       0.67      0.50      0.57         4\n",
      "           7       1.00      0.33      0.50         3\n",
      "           8       1.00      1.00      1.00         3\n",
      "           9       1.00      0.50      0.67         4\n",
      "          10       0.50      0.33      0.40         3\n",
      "          11       1.00      0.75      0.86         4\n",
      "          12       0.29      0.67      0.40         3\n",
      "          13       0.60      0.75      0.67         4\n",
      "          14       1.00      1.00      1.00         3\n",
      "          15       1.00      0.67      0.80         3\n",
      "          16       0.60      1.00      0.75         3\n",
      "          17       0.50      0.75      0.60         4\n",
      "          18       1.00      0.67      0.80         3\n",
      "          19       1.00      1.00      1.00         2\n",
      "          20       1.00      1.00      1.00         3\n",
      "          21       0.67      0.67      0.67         3\n",
      "          22       0.75      1.00      0.86         3\n",
      "          23       1.00      0.50      0.67         2\n",
      "          24       1.00      0.67      0.80         3\n",
      "          25       0.67      0.67      0.67         3\n",
      "\n",
      "    accuracy                           0.69        80\n",
      "   macro avg       0.74      0.69      0.68        80\n",
      "weighted avg       0.75      0.69      0.69        80\n",
      "\n"
     ]
    }
   ],
   "source": [
    "from sklearn.metrics import confusion_matrix, accuracy_score, classification_report\n",
    "cm = confusion_matrix(Y_test1, Y_test1_pred)\n",
    "cr = classification_report(Y_test1, Y_test1_pred)\n",
    "print(cm)\n",
    "print(cr)\n",
    "\n",
    "# output result \n",
    "pd.DataFrame(Y_test1_pred).to_csv('output/GNB-DS1.csv', header = None)\n",
    "# append report\n",
    "with open('output/GNB-DS1.csv','a') as f:\n",
    "    f.write('\\n\\nConfusion Matrix\\n\\n')\n",
    "    f.write(pd.DataFrame(cm).to_csv())\n",
    "    f.write('\\n\\n Classification Report\\n\\n')\n",
    "    f.write(cr)"
   ]
  },
  {
   "cell_type": "markdown",
   "metadata": {},
   "source": [
    "# GNB-DS2"
   ]
  },
  {
   "cell_type": "markdown",
   "metadata": {},
   "source": [
    "#### Import Libraries"
   ]
  },
  {
   "cell_type": "code",
   "execution_count": 25,
   "metadata": {},
   "outputs": [],
   "source": [
    "import numpy as np\n",
    "import pandas as pd\n",
    "from sklearn.naive_bayes import GaussianNB"
   ]
  },
  {
   "cell_type": "markdown",
   "metadata": {},
   "source": [
    "#### Import Data"
   ]
  },
  {
   "cell_type": "code",
   "execution_count": 26,
   "metadata": {},
   "outputs": [],
   "source": [
    "# Import dataset according to selection\n",
    "dataset_train2 = pd.read_csv(\"dataset/train_2.csv\", header=None)\n",
    "dataset_val2 = pd.read_csv(\"dataset/val_2.csv\",header=None)\n",
    "dataset_test2 = pd.read_csv(\"dataset/test_no_label_2.csv\",header=None)\n",
    "dataset_test2_with_label = pd.read_csv(\"dataset/test_with_label_2.csv\",header=None)\n",
    "\n",
    "# X = data, Y = target \n",
    "X_train2 = dataset_train2.iloc[:, :-1].values\n",
    "Y_train2 = dataset_train2.iloc[:, -1].values\n",
    "X_val2 = dataset_val2.iloc[:, :-1].values\n",
    "Y_val2 = dataset_val2.iloc[:, -1].values\n",
    "X_test2 = dataset_test2.iloc[:, ].values\n",
    "Y_test2 = dataset_test2_with_label.iloc[:,-1]"
   ]
  },
  {
   "cell_type": "markdown",
   "metadata": {},
   "source": [
    "#### Train Model"
   ]
  },
  {
   "cell_type": "code",
   "execution_count": 27,
   "metadata": {},
   "outputs": [
    {
     "data": {
      "text/plain": [
       "GaussianNB(priors=None, var_smoothing=1e-09)"
      ]
     },
     "execution_count": 27,
     "metadata": {},
     "output_type": "execute_result"
    }
   ],
   "source": [
    "classifier2 = GaussianNB()\n",
    "classifier2.fit(X_train2,Y_train2)"
   ]
  },
  {
   "cell_type": "markdown",
   "metadata": {},
   "source": [
    "#### VALIDATE - Predict using Validation Data"
   ]
  },
  {
   "cell_type": "code",
   "execution_count": 33,
   "metadata": {},
   "outputs": [],
   "source": [
    "Y_val2_pred = classifier2.predict(X_val2)"
   ]
  },
  {
   "cell_type": "markdown",
   "metadata": {},
   "source": [
    "#### VALIDATE - Output - Confusion matrix validate Set"
   ]
  },
  {
   "cell_type": "code",
   "execution_count": 34,
   "metadata": {},
   "outputs": [
    {
     "name": "stdout",
     "output_type": "stream",
     "text": [
      "[9 7 1 ... 1 4 1]\n",
      "[[ 60  11   3  60  29   0   0   0   1   1]\n",
      " [ 14 341   2  14   1   2   0   1   0   0]\n",
      " [  6   0  29   0   0   1   4   0   2   3]\n",
      " [  1   3   1  40   0   0   0   0   0   0]\n",
      " [  5   1   6   7  68   4   8   0   1  50]\n",
      " [  5   0   4  11   6  91  14   0   2  32]\n",
      " [  0   1   0   0   0   0  42   0   1   1]\n",
      " [  1   3   0   1   0   0   0  39   0   1]\n",
      " [  6   6  65   2   0   1  16   1  48   5]\n",
      " [  6   2  10   2  11  19  63   0   1 261]]\n",
      "              precision    recall  f1-score   support\n",
      "\n",
      "           0       0.58      0.36      0.45       165\n",
      "           1       0.93      0.91      0.92       375\n",
      "           2       0.24      0.64      0.35        45\n",
      "           3       0.29      0.89      0.44        45\n",
      "           4       0.59      0.45      0.51       150\n",
      "           5       0.77      0.55      0.64       165\n",
      "           6       0.29      0.93      0.44        45\n",
      "           7       0.95      0.87      0.91        45\n",
      "           8       0.86      0.32      0.47       150\n",
      "           9       0.74      0.70      0.72       375\n",
      "\n",
      "    accuracy                           0.65      1560\n",
      "   macro avg       0.62      0.66      0.58      1560\n",
      "weighted avg       0.73      0.65      0.66      1560\n",
      "\n"
     ]
    }
   ],
   "source": [
    "from sklearn.metrics import confusion_matrix, accuracy_score, classification_report\n",
    "cm = confusion_matrix(Y_val2, Y_val2_pred)\n",
    "cr = classification_report(Y_val2, Y_val2_pred)\n",
    "print(Y_val2_pred)\n",
    "print(cm)\n",
    "print(cr)"
   ]
  },
  {
   "cell_type": "markdown",
   "metadata": {},
   "source": [
    "#### TEST - Predict using Test set"
   ]
  },
  {
   "cell_type": "code",
   "execution_count": 35,
   "metadata": {},
   "outputs": [],
   "source": [
    "Y_test2_pred = classifier2.predict(X_test2)"
   ]
  },
  {
   "cell_type": "markdown",
   "metadata": {},
   "source": [
    "#### Test - Output - Confusion matrix Test Set"
   ]
  },
  {
   "cell_type": "code",
   "execution_count": 40,
   "metadata": {},
   "outputs": [
    {
     "name": "stdout",
     "output_type": "stream",
     "text": [
      "[[ 26   4   1  14   8   1   0   0   1   0]\n",
      " [  6 111   1   6   0   1   0   0   0   0]\n",
      " [  0   0  12   0   1   0   0   0   1   1]\n",
      " [  1   0   0  14   0   0   0   0   0   0]\n",
      " [  2   0   1   6  20   2   4   0   0  15]\n",
      " [  0   0   1   1   1  34   8   0   0  10]\n",
      " [  3   1   0   0   0   0  11   0   0   0]\n",
      " [  0   1   0   0   0   0   0  14   0   0]\n",
      " [  1   2  26   0   0   0   5   0  15   1]\n",
      " [  4   1   1   0   4   7  17   0   0  91]]\n",
      "              precision    recall  f1-score   support\n",
      "\n",
      "           0       0.60      0.47      0.53        55\n",
      "           1       0.93      0.89      0.91       125\n",
      "           2       0.28      0.80      0.41        15\n",
      "           3       0.34      0.93      0.50        15\n",
      "           4       0.59      0.40      0.48        50\n",
      "           5       0.76      0.62      0.68        55\n",
      "           6       0.24      0.73      0.37        15\n",
      "           7       1.00      0.93      0.97        15\n",
      "           8       0.88      0.30      0.45        50\n",
      "           9       0.77      0.73      0.75       125\n",
      "\n",
      "    accuracy                           0.67       520\n",
      "   macro avg       0.64      0.68      0.60       520\n",
      "weighted avg       0.75      0.67      0.68       520\n",
      "\n"
     ]
    }
   ],
   "source": [
    "from sklearn.metrics import confusion_matrix, accuracy_score, classification_report\n",
    "cm2 = confusion_matrix(Y_test2, Y_test2_pred)\n",
    "cr2 = classification_report(Y_test2, Y_test2_pred)\n",
    "print(cm2)\n",
    "print(cr2)\n",
    "\n",
    "# output result \n",
    "pd.DataFrame(Y_test2_pred).to_csv('output/GNB-DS2.csv', header = None)\n",
    "# append report\n",
    "with open('output/GNB-DS2.csv','a') as f:\n",
    "    f.write('\\n\\nConfusion Matrix\\n\\n')\n",
    "    f.write(pd.DataFrame(cm2).to_csv())\n",
    "    f.write('\\n\\n Classification Report\\n\\n')\n",
    "    f.write(cr2)"
   ]
  },
  {
   "cell_type": "code",
   "execution_count": null,
   "metadata": {},
   "outputs": [],
   "source": []
  }
 ],
 "metadata": {
  "kernelspec": {
   "display_name": "Python 3",
   "language": "python",
   "name": "python3"
  },
  "language_info": {
   "codemirror_mode": {
    "name": "ipython",
    "version": 3
   },
   "file_extension": ".py",
   "mimetype": "text/x-python",
   "name": "python",
   "nbconvert_exporter": "python",
   "pygments_lexer": "ipython3",
   "version": "3.7.4"
  }
 },
 "nbformat": 4,
 "nbformat_minor": 2
}
