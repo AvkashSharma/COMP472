{
 "cells": [
  {
   "cell_type": "markdown",
   "metadata": {},
   "source": [
    "# GNB-DS1"
   ]
  },
  {
   "cell_type": "markdown",
   "metadata": {},
   "source": [
    "Gaussian Naive Bayes Classifier, with default parameter values"
   ]
  },
  {
   "cell_type": "markdown",
   "metadata": {},
   "source": [
    "#### Import Libraries"
   ]
  },
  {
   "cell_type": "code",
   "execution_count": null,
   "metadata": {},
   "outputs": [],
   "source": [
    "import numpy as np\n",
    "import pandas as pd\n",
    "from sklearn.naive_bayes import GaussianNB"
   ]
  },
  {
   "cell_type": "markdown",
   "metadata": {},
   "source": [
    "#### Import data"
   ]
  },
  {
   "cell_type": "code",
   "execution_count": null,
   "metadata": {},
   "outputs": [],
   "source": [
    "# Import dataset according to selection\n",
    "dataset_train1 = pd.read_csv(\"dataset/train_1.csv\", header=None)\n",
    "dataset_val1 = pd.read_csv(\"dataset/val_1.csv\",header=None)\n",
    "dataset_test1 = pd.read_csv(\"dataset/test_no_label_1.csv\",header=None)\n",
    "dataset_test1_with_label = pd.read_csv(\"dataset/test_with_label_1.csv\",header=None)\n",
    "\n",
    "# X = data, Y = target \n",
    "X_train1 = dataset_train1.iloc[:, :-1].values\n",
    "Y_train1 = dataset_train1.iloc[:, -1].values\n",
    "X_val1 = dataset_val1.iloc[:, :-1].values\n",
    "Y_val1 = dataset_val1.iloc[:, -1].values\n",
    "X_test1 = dataset_test1.iloc[:, ].values\n",
    "Y_test1 = dataset_test1_with_label.iloc[:,-1]"
   ]
  },
  {
   "cell_type": "markdown",
   "metadata": {},
   "source": [
    "#### Train Model"
   ]
  },
  {
   "cell_type": "code",
   "execution_count": null,
   "metadata": {},
   "outputs": [],
   "source": [
    "classifier = GaussianNB()\n",
    "classifier.fit(X_train1,Y_train1)"
   ]
  },
  {
   "cell_type": "markdown",
   "metadata": {},
   "source": [
    "#### VALIDATE - Predict using Validation Data"
   ]
  },
  {
   "cell_type": "code",
   "execution_count": null,
   "metadata": {},
   "outputs": [],
   "source": [
    "Y_val1_pred = classifier.predict(X_val1)"
   ]
  },
  {
   "cell_type": "markdown",
   "metadata": {},
   "source": [
    "#### VALIDATE - Output - Confusion matrix validate Set"
   ]
  },
  {
   "cell_type": "code",
   "execution_count": null,
   "metadata": {},
   "outputs": [],
   "source": [
    "from sklearn.metrics import confusion_matrix, accuracy_score, classification_report\n",
    "cm = confusion_matrix(Y_val1, Y_val1_pred)\n",
    "cr = classification_report(Y_val1, Y_val1_pred)\n",
    "print(Y_val1_pred)\n",
    "print(cm)\n",
    "print(cr)"
   ]
  },
  {
   "cell_type": "markdown",
   "metadata": {},
   "source": [
    "#### TEST - Predict using Test set"
   ]
  },
  {
   "cell_type": "code",
   "execution_count": null,
   "metadata": {},
   "outputs": [],
   "source": [
    "Y_test1_pred = classifier.predict(X_test1)"
   ]
  },
  {
   "cell_type": "markdown",
   "metadata": {},
   "source": [
    "#### Test - Output - Confusion matrix Test Set"
   ]
  },
  {
   "cell_type": "code",
   "execution_count": null,
   "metadata": {},
   "outputs": [],
   "source": [
    "from sklearn.metrics import confusion_matrix, accuracy_score, classification_report\n",
    "cm = confusion_matrix(Y_test1, Y_test1_pred)\n",
    "cr = classification_report(Y_test1, Y_test1_pred)\n",
    "print(cm)\n",
    "print(cr)\n",
    "\n",
    "# output result \n",
    "pd.DataFrame(Y_test1_pred).to_csv('output/GNB-DS1.csv', header = None)\n",
    "# append report\n",
    "with open('output/GNB-DS1.csv','a') as f:\n",
    "    f.write('\\n\\nConfusion Matrix\\n\\n')\n",
    "    f.write(pd.DataFrame(cm).to_csv())\n",
    "    f.write('\\n\\n Classification Report\\n\\n')\n",
    "    f.write(cr)"
   ]
  },
  {
   "cell_type": "code",
   "execution_count": null,
   "metadata": {},
   "outputs": [],
   "source": []
  }
 ],
 "metadata": {
  "kernelspec": {
   "display_name": "Python 3",
   "language": "python",
   "name": "python3"
  },
  "language_info": {
   "codemirror_mode": {
    "name": "ipython",
    "version": 3
   },
   "file_extension": ".py",
   "mimetype": "text/x-python",
   "name": "python",
   "nbconvert_exporter": "python",
   "pygments_lexer": "ipython3",
   "version": "3.7.4"
  }
 },
 "nbformat": 4,
 "nbformat_minor": 2
}
