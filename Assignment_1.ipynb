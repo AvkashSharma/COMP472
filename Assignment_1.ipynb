{
 "cells": [
  {
   "cell_type": "markdown",
   "metadata": {
    "colab_type": "text",
    "id": "view-in-github"
   },
   "source": [
    "<a href=\"https://colab.research.google.com/github/AvkashSharma/COMP472/blob/master/Assignment_1.ipynb\" target=\"_parent\"><img src=\"https://colab.research.google.com/assets/colab-badge.svg\" alt=\"Open In Colab\"/></a>"
   ]
  },
  {
   "cell_type": "markdown",
   "metadata": {
    "colab": {},
    "colab_type": "code",
    "id": "ADT9l1BDKGcQ"
   },
   "source": [
    "# Example Heading 1\n",
    "\n",
    "## Example Heading 1.1"
   ]
  },
  {
   "cell_type": "code",
   "execution_count": 3,
   "metadata": {},
   "outputs": [
    {
     "name": "stdout",
     "output_type": "stream",
     "text": [
      "testing jupyter\n"
     ]
    }
   ],
   "source": [
    "import numpy as np\n",
    "import scipy.stats as st\n",
    "import sklearn.linear_model as lm\n",
    "import matplotlib.pyplot as plt\n",
    "%matplotlib inline\n",
    "\n",
    "print('testing jupyter')"
   ]
  },
  {
   "cell_type": "markdown",
   "metadata": {},
   "source": [
    "# GNB-DS1\n",
    "Gaussian Naive Bayes Classifier, with default parameter values"
   ]
  },
  {
   "cell_type": "markdown",
   "metadata": {},
   "source": [
    "# GNB-DS2\n",
    "Gaussian Naive Bayes Classifier, with default parameter values"
   ]
  },
  {
   "cell_type": "markdown",
   "metadata": {},
   "source": [
    "## GNB-DS1"
   ]
  },
  {
   "cell_type": "markdown",
   "metadata": {},
   "source": [
    "### Importing Libraries"
   ]
  },
  {
   "cell_type": "code",
   "execution_count": 18,
   "metadata": {},
   "outputs": [],
   "source": [
    "import numpy as np\n",
    "import pandas as pd"
   ]
  },
  {
   "cell_type": "markdown",
   "metadata": {},
   "source": [
    "### Importing and Splitting the Dataset"
   ]
  },
  {
   "cell_type": "code",
   "execution_count": 19,
   "metadata": {},
   "outputs": [],
   "source": [
    "dataset_train1 = pd.read_csv(\"dataset/train_1.csv\", header=None)\n",
    "dataset_validate1 = pd.read_csv(\"dataset/val_1.csv\",header=None)\n",
    "dataset_test1_no_label_1 = pd.read_csv(\"dataset/test_no_label_1.csv\",header=None)\n",
    "dataset_test1_with_label_1 = pd.read_csv(\"dataset/test_with_label_1.csv\",header=None)\n",
    "X_training_1 = dataset_train1.iloc[:, :-1].values\n",
    "Y_training_1 = dataset_train1.iloc[:, -1].values\n",
    "X_validate_1 = dataset_validate1.iloc[:, :-1].values\n",
    "Y_validate_1 = dataset_validate1.iloc[:, -1].values\n",
    "X_test1 = dataset_test1_no_label_1.iloc[:, ].values\n",
    "Y_test1 = dataset_test1_with_label_1.iloc[:,-1]"
   ]
  },
  {
   "cell_type": "markdown",
   "metadata": {},
   "source": [
    "### Training the Gaussian Naive Bayes model on the Training set"
   ]
  },
  {
   "cell_type": "code",
   "execution_count": 6,
   "metadata": {},
   "outputs": [
    {
     "data": {
      "text/plain": [
       "GaussianNB(priors=None, var_smoothing=1e-09)"
      ]
     },
     "execution_count": 6,
     "metadata": {},
     "output_type": "execute_result"
    }
   ],
   "source": [
    "from sklearn.naive_bayes import GaussianNB\n",
    "classifier = GaussianNB()\n",
    "classifier.fit(X_training_1,Y_training_1)"
   ]
  },
  {
   "cell_type": "markdown",
   "metadata": {},
   "source": [
    "### Sample prediction using X_Validate_1"
   ]
  },
  {
   "cell_type": "code",
   "execution_count": 7,
   "metadata": {},
   "outputs": [],
   "source": [
    "Y_validate1_pred = classifier.predict(X_validate_1)"
   ]
  },
  {
   "cell_type": "markdown",
   "metadata": {},
   "source": [
    "### Applying Classifier on Test set"
   ]
  },
  {
   "cell_type": "code",
   "execution_count": 8,
   "metadata": {},
   "outputs": [],
   "source": [
    "Y_test1_pred = classifier.predict(X_test1)"
   ]
  },
  {
   "cell_type": "markdown",
   "metadata": {},
   "source": [
    "### Confusion Matrix"
   ]
  },
  {
   "cell_type": "code",
   "execution_count": 9,
   "metadata": {
    "collapsed": true
   },
   "outputs": [
    {
     "name": "stdout",
     "output_type": "stream",
     "text": [
      "[[2 0 0 0 0 0 0 0 0 0 0 0 1 0 0 0 0 1 0 0 0 0 0 0 0 0]\n",
      " [0 2 0 0 0 0 0 0 0 0 0 0 0 0 0 0 0 0 0 0 0 0 0 0 0 0]\n",
      " [0 0 3 0 0 0 1 0 0 0 0 0 0 0 0 0 0 0 0 0 0 0 0 0 0 0]\n",
      " [0 1 0 2 0 0 0 0 0 0 0 0 0 0 0 0 0 0 0 0 0 0 0 0 0 0]\n",
      " [0 1 0 0 0 1 0 0 0 0 0 0 0 0 0 0 0 0 0 0 0 0 0 0 0 0]\n",
      " [0 0 0 0 0 1 0 0 0 0 0 0 1 0 0 0 0 0 0 0 0 0 0 0 0 0]\n",
      " [0 1 0 0 0 0 2 0 0 0 0 0 1 0 0 0 0 0 0 0 0 0 0 0 0 0]\n",
      " [1 0 0 0 0 0 0 1 0 0 0 0 0 1 0 0 0 0 0 0 0 0 0 0 0 0]\n",
      " [0 0 0 0 0 0 0 0 3 0 0 0 0 0 0 0 0 0 0 0 0 0 0 0 0 0]\n",
      " [0 1 0 0 0 0 0 0 0 2 0 0 0 0 0 0 1 0 0 0 0 0 0 0 0 0]\n",
      " [0 0 0 0 0 0 0 0 0 0 1 0 0 0 0 0 0 2 0 0 0 0 0 0 0 0]\n",
      " [0 0 0 0 0 0 0 0 0 0 0 3 0 0 0 0 0 0 0 0 0 0 0 0 0 1]\n",
      " [0 0 0 0 0 0 0 0 0 0 0 0 2 1 0 0 0 0 0 0 0 0 0 0 0 0]\n",
      " [0 0 0 1 0 0 0 0 0 0 0 0 0 3 0 0 0 0 0 0 0 0 0 0 0 0]\n",
      " [0 0 0 0 0 0 0 0 0 0 0 0 0 0 3 0 0 0 0 0 0 0 0 0 0 0]\n",
      " [1 0 0 0 0 0 0 0 0 0 0 0 0 0 0 2 0 0 0 0 0 0 0 0 0 0]\n",
      " [0 0 0 0 0 0 0 0 0 0 0 0 0 0 0 0 3 0 0 0 0 0 0 0 0 0]\n",
      " [0 0 0 0 0 0 0 0 0 0 1 0 0 0 0 0 0 3 0 0 0 0 0 0 0 0]\n",
      " [0 0 0 0 0 0 0 0 0 0 0 0 0 0 0 0 1 0 2 0 0 0 0 0 0 0]\n",
      " [0 0 0 0 0 0 0 0 0 0 0 0 0 0 0 0 0 0 0 2 0 0 0 0 0 0]\n",
      " [0 0 0 0 0 0 0 0 0 0 0 0 0 0 0 0 0 0 0 0 3 0 0 0 0 0]\n",
      " [0 0 0 0 0 0 0 0 0 0 0 0 0 0 0 0 0 0 0 0 0 2 1 0 0 0]\n",
      " [0 0 0 0 0 0 0 0 0 0 0 0 0 0 0 0 0 0 0 0 0 0 3 0 0 0]\n",
      " [0 0 0 0 0 0 0 0 0 0 0 0 1 0 0 0 0 0 0 0 0 0 0 1 0 0]\n",
      " [0 0 0 0 0 0 0 0 0 0 0 0 0 0 0 0 0 0 0 0 0 1 0 0 2 0]\n",
      " [0 0 0 0 0 0 0 0 0 0 0 0 1 0 0 0 0 0 0 0 0 0 0 0 0 2]]\n"
     ]
    },
    {
     "data": {
      "text/plain": [
       "0.6875"
      ]
     },
     "execution_count": 9,
     "metadata": {},
     "output_type": "execute_result"
    }
   ],
   "source": [
    "from sklearn.metrics import confusion_matrix, accuracy_score\n",
    "cm = confusion_matrix(Y_test1, Y_test1_pred)\n",
    "print(cm)\n",
    "accuracy_score(Y_test1, Y_test1_pred)"
   ]
  },
  {
   "cell_type": "markdown",
   "metadata": {},
   "source": [
    "### Output file containing output classification"
   ]
  },
  {
   "cell_type": "code",
   "execution_count": 35,
   "metadata": {},
   "outputs": [],
   "source": [
    "pd.DataFrame(Y_test1_pred).to_csv('GNB-DS1.csv', header = None)"
   ]
  },
  {
   "cell_type": "markdown",
   "metadata": {},
   "source": [
    "## GNB-DS2"
   ]
  },
  {
   "cell_type": "markdown",
   "metadata": {},
   "source": [
    "### Importing and splitting the Dataset"
   ]
  },
  {
   "cell_type": "code",
   "execution_count": 29,
   "metadata": {},
   "outputs": [],
   "source": [
    "dataset_train2 = pd.read_csv(\"dataset/train_2.csv\", header=None)\n",
    "dataset_validate2 = pd.read_csv(\"dataset/val_2.csv\",header=None)\n",
    "dataset_test1_no_label_2 = pd.read_csv(\"dataset/test_no_label_2.csv\",header=None)\n",
    "dataset_test1_with_label_2 = pd.read_csv(\"dataset/test_with_label_2.csv\",header=None)\n",
    "X_training_2 = dataset_train1.iloc[:, :-1].values\n",
    "Y_training_2 = dataset_train1.iloc[:, -1].values\n",
    "X_validate_2 = dataset_validate1.iloc[:, :-1].values\n",
    "Y_validate_2 = dataset_validate1.iloc[:, -1].values\n",
    "X_test2 = dataset_test1_no_label_2.iloc[:, ].values\n",
    "Y_test2 = dataset_test1_with_label_2.iloc[:,-1]"
   ]
  },
  {
   "cell_type": "markdown",
   "metadata": {},
   "source": [
    "### Training the Gaussian Naive Bayes model on the Training set"
   ]
  },
  {
   "cell_type": "code",
   "execution_count": 30,
   "metadata": {},
   "outputs": [
    {
     "data": {
      "text/plain": [
       "GaussianNB(priors=None, var_smoothing=1e-09)"
      ]
     },
     "execution_count": 30,
     "metadata": {},
     "output_type": "execute_result"
    }
   ],
   "source": [
    "from sklearn.naive_bayes import GaussianNB\n",
    "classifier = GaussianNB()\n",
    "classifier.fit(X_training_2,Y_training_2)"
   ]
  },
  {
   "cell_type": "markdown",
   "metadata": {},
   "source": [
    "### Sample prediction using X_Validate_2"
   ]
  },
  {
   "cell_type": "code",
   "execution_count": 31,
   "metadata": {
    "collapsed": true
   },
   "outputs": [
    {
     "name": "stdout",
     "output_type": "stream",
     "text": [
      "[[ 1  1]\n",
      " [17 17]\n",
      " [22 12]\n",
      " [ 1 12]\n",
      " [ 1  1]\n",
      " [16 16]\n",
      " [17 17]\n",
      " [25 25]\n",
      " [14 14]\n",
      " [ 9  9]\n",
      " [ 3  3]\n",
      " [ 4  4]\n",
      " [22 21]\n",
      " [12 17]\n",
      " [25 25]\n",
      " [17 10]\n",
      " [16 18]\n",
      " [15 15]\n",
      " [11 11]\n",
      " [25 15]\n",
      " [ 5  5]\n",
      " [ 8  8]\n",
      " [19 19]\n",
      " [21 21]\n",
      " [24 24]\n",
      " [12 22]\n",
      " [15 15]\n",
      " [18 18]\n",
      " [14 20]\n",
      " [ 4  4]\n",
      " [15 15]\n",
      " [20 20]\n",
      " [20 20]\n",
      " [17  0]\n",
      " [24 24]\n",
      " [17 17]\n",
      " [10 10]\n",
      " [13 13]\n",
      " [ 8  8]\n",
      " [23 23]\n",
      " [ 3  3]\n",
      " [ 8 19]\n",
      " [18 18]\n",
      " [20 20]\n",
      " [17  7]\n",
      " [ 1  9]\n",
      " [25 25]\n",
      " [22 22]\n",
      " [ 8  8]\n",
      " [ 2  2]\n",
      " [10 10]\n",
      " [21 23]\n",
      " [13 12]\n",
      " [ 0  7]\n",
      " [16 16]\n",
      " [12  9]\n",
      " [ 2  2]\n",
      " [ 6  6]\n",
      " [ 3  3]\n",
      " [14 14]\n",
      " [11 11]\n",
      " [12  6]\n",
      " [ 3  3]\n",
      " [13 21]\n",
      " [12 23]\n",
      " [14 14]\n",
      " [ 1 17]\n",
      " [16  9]\n",
      " [22 22]\n",
      " [11 11]\n",
      " [10 10]\n",
      " [17  8]\n",
      " [ 3  3]\n",
      " [ 1  4]\n",
      " [ 1  7]\n",
      " [18 18]\n",
      " [ 8  8]\n",
      " [ 4  2]\n",
      " [25 25]\n",
      " [14 14]\n",
      " [ 1 12]\n",
      " [12 20]\n",
      " [ 5 19]\n",
      " [25 25]\n",
      " [ 7  7]\n",
      " [12  6]\n",
      " [17  0]\n",
      " [18 18]\n",
      " [ 3 14]\n",
      " [12 12]\n",
      " [19 19]\n",
      " [ 0 10]\n",
      " [23 23]\n",
      " [ 5  5]\n",
      " [25 25]\n",
      " [12 16]\n",
      " [ 2  2]\n",
      " [12  0]\n",
      " [21 21]\n",
      " [25 25]\n",
      " [16  6]\n",
      " [16 14]\n",
      " [12 13]\n",
      " [13 13]\n",
      " [ 7  7]\n",
      " [15 13]\n",
      " [12 13]\n",
      " [ 9  9]\n",
      " [ 0 13]\n",
      " [13 13]\n",
      " [ 5  5]\n",
      " [ 1 18]\n",
      " [11 11]\n",
      " [14 14]\n",
      " [22 22]\n",
      " [21 21]\n",
      " [10 10]\n",
      " [15 17]\n",
      " [18 18]\n",
      " [10 17]\n",
      " [ 0  0]\n",
      " [15 15]\n",
      " [11 11]\n",
      " [17 17]\n",
      " [17 17]\n",
      " [11 11]\n",
      " [14 14]\n",
      " [ 7  7]\n",
      " [25 25]\n",
      " [22 20]\n",
      " [12  7]\n",
      " [16 16]\n",
      " [17 17]\n",
      " [ 5  9]\n",
      " [12 16]\n",
      " [ 8 19]\n",
      " [22 22]\n",
      " [10  5]\n",
      " [23 23]\n",
      " [12 23]\n",
      " [ 0  0]\n",
      " [ 8  8]\n",
      " [ 1 16]\n",
      " [ 1  1]\n",
      " [ 3 14]\n",
      " [ 6  6]\n",
      " [ 6  6]\n",
      " [ 1  1]\n",
      " [ 3  3]\n",
      " [ 6  6]\n",
      " [22 22]\n",
      " [ 1  1]\n",
      " [12 12]\n",
      " [15  5]\n",
      " [ 5  5]\n",
      " [ 9  9]\n",
      " [ 4  4]\n",
      " [ 8  8]\n",
      " [14 20]\n",
      " [22 22]\n",
      " [13 13]\n",
      " [25 25]\n",
      " [ 0  0]\n",
      " [ 0 12]\n",
      " [12 23]\n",
      " [16 16]\n",
      " [ 4  4]\n",
      " [11 11]\n",
      " [13 13]\n",
      " [ 1 18]\n",
      " [15 15]\n",
      " [22 22]\n",
      " [ 6  6]\n",
      " [25 19]\n",
      " [16 16]\n",
      " [15 15]\n",
      " [14 20]\n",
      " [19 19]\n",
      " [ 3 10]\n",
      " [ 6  6]\n",
      " [ 3  3]\n",
      " [ 1  0]\n",
      " [ 4  4]\n",
      " [12  1]\n",
      " [24 24]\n",
      " [12  5]\n",
      " [11 11]\n",
      " [22 22]\n",
      " [18 18]\n",
      " [12 23]\n",
      " [12  2]\n",
      " [15 15]\n",
      " [22 21]\n",
      " [15 15]\n",
      " [ 9  9]\n",
      " [22 21]\n",
      " [14  2]\n",
      " [10 10]\n",
      " [12  4]\n",
      " [ 1  1]\n",
      " [ 8  8]\n",
      " [ 1  1]\n",
      " [ 1 12]\n",
      " [ 0  0]\n",
      " [ 7  7]\n",
      " [ 1  4]\n",
      " [ 9  9]\n",
      " [ 2  2]\n",
      " [16  2]\n",
      " [12  0]\n",
      " [15 15]\n",
      " [12  7]\n",
      " [10 10]\n",
      " [16 16]\n",
      " [11 11]\n",
      " [ 6  6]\n",
      " [ 8  8]\n",
      " [ 9  9]\n",
      " [16 16]\n",
      " [24 24]\n",
      " [ 0  0]\n",
      " [19 24]\n",
      " [ 2  2]\n",
      " [13 13]\n",
      " [12 24]\n",
      " [ 1  1]\n",
      " [12 12]\n",
      " [19 19]\n",
      " [12 12]\n",
      " [14 14]\n",
      " [ 3  3]\n",
      " [11 11]\n",
      " [24 24]\n",
      " [10 10]\n",
      " [21 21]\n",
      " [24 24]\n",
      " [ 2  2]\n",
      " [ 8  8]\n",
      " [ 5  5]]\n"
     ]
    }
   ],
   "source": [
    "Y_validate2_pred = classifier.predict(X_validate_2)\n",
    "print(np.concatenate((Y_validate2_pred.reshape(len(Y_validate2_pred),1), Y_validate_2.reshape(len(Y_validate_2),1)),1))"
   ]
  },
  {
   "cell_type": "markdown",
   "metadata": {},
   "source": [
    "### Applying Classifier on Test sets"
   ]
  },
  {
   "cell_type": "code",
   "execution_count": 32,
   "metadata": {},
   "outputs": [],
   "source": [
    "Y_test2_pred = classifier.predict(X_test2)"
   ]
  },
  {
   "cell_type": "markdown",
   "metadata": {},
   "source": [
    "### Confusion Matrix"
   ]
  },
  {
   "cell_type": "code",
   "execution_count": 35,
   "metadata": {
    "collapsed": true
   },
   "outputs": [
    {
     "name": "stdout",
     "output_type": "stream",
     "text": [
      "[[  0   7   0   0   0   1   0   0   0   0  44   0   0   1   2   0   0   0\n",
      "    0   0   0]\n",
      " [  0   1   0   0   0   0   0   0   0   0 102   0   0   3   2   0   0  17\n",
      "    0   0   0]\n",
      " [  2   8   0   0   0   0   0   0   0   0   1   0   3   0   1   0   0   0\n",
      "    0   0   0]\n",
      " [  0   0   0   1   0   0   0   0   0   0  10   0   0   3   1   0   0   0\n",
      "    0   0   0]\n",
      " [  0  16   0   1   0   0   0   0   0   0  13   2   5   1   1   0   1   1\n",
      "    0   5   4]\n",
      " [  0  38   0   2   1   2   0   0   0   1   0   0   0   0   8   3   0   0\n",
      "    0   0   0]\n",
      " [  2   4   0   0   0   0   0   0   0   1   3   0   0   1   3   0   0   0\n",
      "    1   0   0]\n",
      " [  0   0   0   0   0   0   0   0   0   0  11   0   0   2   0   0   0   2\n",
      "    0   0   0]\n",
      " [  5   9   0   1   0   0   0   0   0   0  12   4  13   0   2   0   0   0\n",
      "    0   0   4]\n",
      " [  4  46   0   7   0   0   0   0   0   0   5   0  12   0  32   1   6   0\n",
      "    0   3   9]\n",
      " [  0   0   0   0   0   0   0   0   0   0   0   0   0   0   0   0   0   0\n",
      "    0   0   0]\n",
      " [  0   0   0   0   0   0   0   0   0   0   0   0   0   0   0   0   0   0\n",
      "    0   0   0]\n",
      " [  0   0   0   0   0   0   0   0   0   0   0   0   0   0   0   0   0   0\n",
      "    0   0   0]\n",
      " [  0   0   0   0   0   0   0   0   0   0   0   0   0   0   0   0   0   0\n",
      "    0   0   0]\n",
      " [  0   0   0   0   0   0   0   0   0   0   0   0   0   0   0   0   0   0\n",
      "    0   0   0]\n",
      " [  0   0   0   0   0   0   0   0   0   0   0   0   0   0   0   0   0   0\n",
      "    0   0   0]\n",
      " [  0   0   0   0   0   0   0   0   0   0   0   0   0   0   0   0   0   0\n",
      "    0   0   0]\n",
      " [  0   0   0   0   0   0   0   0   0   0   0   0   0   0   0   0   0   0\n",
      "    0   0   0]\n",
      " [  0   0   0   0   0   0   0   0   0   0   0   0   0   0   0   0   0   0\n",
      "    0   0   0]\n",
      " [  0   0   0   0   0   0   0   0   0   0   0   0   0   0   0   0   0   0\n",
      "    0   0   0]\n",
      " [  0   0   0   0   0   0   0   0   0   0   0   0   0   0   0   0   0   0\n",
      "    0   0   0]]\n"
     ]
    },
    {
     "data": {
      "text/plain": [
       "0.007692307692307693"
      ]
     },
     "execution_count": 35,
     "metadata": {},
     "output_type": "execute_result"
    }
   ],
   "source": [
    "from sklearn.metrics import confusion_matrix, accuracy_score\n",
    "cm = confusion_matrix(Y_test2, Y_test2_pred)\n",
    "print(cm)\n",
    "accuracy_score(Y_test2, Y_test2_pred)"
   ]
  },
  {
   "cell_type": "markdown",
   "metadata": {},
   "source": [
    "### Output file containing output classification"
   ]
  },
  {
   "cell_type": "code",
   "execution_count": 36,
   "metadata": {},
   "outputs": [],
   "source": [
    "pd.DataFrame(Y_test2_pred).to_csv('GNB-DS2.csv', header = None)"
   ]
  },
  {
   "cell_type": "markdown",
   "metadata": {},
   "source": [
    "# Base-DT-DS1\n",
    "a baseline Decision Tree using entropy as decision criterion and using default values values for the rest of the parameters."
   ]
  },
  {
   "cell_type": "markdown",
   "metadata": {},
   "source": [
    "# Base-DT-DS2"
   ]
  },
  {
   "cell_type": "markdown",
   "metadata": {},
   "source": [
    "# Best-DT\n",
    "a better performing Decision Tree found by performing grid search to find the best combination of hyper-parameters. For this, you need to experiment with the following parameter values:\n",
    "* splitting criterion: gini and entropy\n",
    "* maximum depth of the tree: 10 and no maximum\n",
    "* minimum number of samples to split an internal node: experiment with values of your choice\n",
    "* minimum impurity decrease: experiment with values of your choice\n",
    "* class weight: None and balanced"
   ]
  },
  {
   "cell_type": "markdown",
   "metadata": {},
   "source": [
    "# Perceptron\n",
    " a Perceptron, with default parameter values"
   ]
  },
  {
   "cell_type": "markdown",
   "metadata": {},
   "source": [
    "#### Training the Perceptron model on Training Set"
   ]
  },
  {
   "cell_type": "code",
   "execution_count": 76,
   "metadata": {},
   "outputs": [
    {
     "name": "stdout",
     "output_type": "stream",
     "text": [
      "Choose Data Set (1 or 2):1\n"
     ]
    },
    {
     "data": {
      "text/plain": [
       "Perceptron()"
      ]
     },
     "execution_count": 76,
     "metadata": {},
     "output_type": "execute_result"
    }
   ],
   "source": [
    "from sklearn.linear_model import Perceptron\n",
    "import numpy as np\n",
    "import pandas as pd\n",
    "\n",
    "ds = input('Choose Data Set (1 or 2):')\n",
    "\n",
    "#import data set according to selection\n",
    "dataset_train = pd.read_csv(\"dataset/train_\"+ds+\".csv\", header=None)\n",
    "dataset_val = pd.read_csv(\"dataset/val_\"+ds+\".csv\", header=None)\n",
    "dataset_test = pd.read_csv(\"dataset/test_no_label_\"+ds+\".csv\", header=None)\n",
    "dataset_test_with_label = pd.read_csv(\"dataset/test_with_label_\"+ds+\".csv\", header=None)\n",
    "\n",
    "# X = data, Y = target\n",
    "X_train = dataset_train.iloc[:, :-1].values\n",
    "Y_train = dataset_train.iloc[:, -1].values\n",
    "X_val = dataset_val.iloc[:, :-1].values\n",
    "Y_val = dataset_val.iloc[:, -1].values\n",
    "X_test = dataset_test.iloc[:, ].values\n",
    "Y_test = dataset_test_with_label.iloc[:,-1]\n",
    "\n",
    "#train model\n",
    "perClass = Perceptron()\n",
    "perClass.fit(X_train, Y_train)"
   ]
  },
  {
   "cell_type": "markdown",
   "metadata": {},
   "source": [
    "#### Predict using Validate set"
   ]
  },
  {
   "cell_type": "code",
   "execution_count": 77,
   "metadata": {},
   "outputs": [],
   "source": [
    "Y_val_pred = perClass.predict(X_val)"
   ]
  },
  {
   "cell_type": "markdown",
   "metadata": {},
   "source": [
    "#### Predict using Test set"
   ]
  },
  {
   "cell_type": "code",
   "execution_count": 78,
   "metadata": {},
   "outputs": [],
   "source": [
    "Y_test_pred = perClass.predict(X_test)"
   ]
  },
  {
   "cell_type": "markdown",
   "metadata": {},
   "source": [
    "#### Confusion Matrix"
   ]
  },
  {
   "cell_type": "code",
   "execution_count": 80,
   "metadata": {},
   "outputs": [
    {
     "ename": "SyntaxError",
     "evalue": "invalid syntax (<ipython-input-80-1051bc18f109>, line 6)",
     "output_type": "error",
     "traceback": [
      "\u001b[1;36m  File \u001b[1;32m\"<ipython-input-80-1051bc18f109>\"\u001b[1;36m, line \u001b[1;32m6\u001b[0m\n\u001b[1;33m    pd.DataFrame('predicted class': Y_test_pred).to_csv('PER-DS'+ds+'.csv', header = None)\u001b[0m\n\u001b[1;37m                                  ^\u001b[0m\n\u001b[1;31mSyntaxError\u001b[0m\u001b[1;31m:\u001b[0m invalid syntax\n"
     ]
    }
   ],
   "source": [
    "from sklearn.metrics import confusion_matrix, accuracy_score\n",
    "cm = confusion_matrix(Y_test, Y_test_pred)\n",
    "print(cm)\n",
    "accuracy_score(Y_test, Y_test_pred)\n",
    "\n",
    "pd.DataFrame('predicted class': Y_test_pred).to_csv('PER-DS'+ds+'.csv', header = None)"
   ]
  },
  {
   "cell_type": "markdown",
   "metadata": {},
   "source": [
    "#### Output"
   ]
  },
  {
   "cell_type": "markdown",
   "metadata": {},
   "source": [
    "# Base-MLP\n",
    "a baseline Multi-Layered Perceptron with 1 hidden layer of100 neurons, sigmoid/logistic as activation function, stochastic gradient descent, and default values for the rest of the parameters."
   ]
  },
  {
   "cell_type": "markdown",
   "metadata": {},
   "source": [
    "# Best-MLP\n",
    "a better performing Multi-Layered Perceptron found by performing grid search to find the best combination of hyper-parameters. For this, you need to experiment with the following parameter values:\n",
    "* activation function: sigmoid, tanh, relu and identity \n",
    "* 2 network architectures of your choice: for eg 2 hidden layers with 30+50 nodes, 3 hidden layers with 10+10 \n",
    "* solver: Adam and stochastic gradient descent"
   ]
  }
 ],
 "metadata": {
  "colab": {
   "authorship_tag": "ABX9TyPqYdJSk+uj+0safFwOVmXO",
   "include_colab_link": true,
   "name": "Assignment_1.ipynb",
   "provenance": []
  },
  "kernelspec": {
   "display_name": "Python 3",
   "language": "python",
   "name": "python3"
  },
  "language_info": {
   "codemirror_mode": {
    "name": "ipython",
    "version": 3
   },
   "file_extension": ".py",
   "mimetype": "text/x-python",
   "name": "python",
   "nbconvert_exporter": "python",
   "pygments_lexer": "ipython3",
   "version": "3.8.0"
  }
 },
 "nbformat": 4,
 "nbformat_minor": 1
}
