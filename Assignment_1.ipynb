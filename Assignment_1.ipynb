{
 "cells": [
  {
   "cell_type": "markdown",
   "metadata": {
    "colab_type": "text",
    "id": "view-in-github"
   },
   "source": [
    "<a href=\"https://colab.research.google.com/github/AvkashSharma/COMP472/blob/master/Assignment_1.ipynb\" target=\"_parent\"><img src=\"https://colab.research.google.com/assets/colab-badge.svg\" alt=\"Open In Colab\"/></a>"
   ]
  },
  {
   "cell_type": "markdown",
   "metadata": {
    "colab": {},
    "colab_type": "code",
    "id": "ADT9l1BDKGcQ"
   },
   "source": [
    "# Example Heading 1\n",
    "\n",
    "## Example Heading 1.1"
   ]
  },
  {
   "cell_type": "code",
   "execution_count": 2,
   "metadata": {},
   "outputs": [],
   "source": [
    "import numpy as np\n",
    "import scipy.stats as st\n",
    "import sklearn.linear_model as lm\n",
    "import matplotlib.pyplot as plt\n",
    "%matplotlib inline\n",
    "\n",
    "print('testing jupyter')"
   ]
  },
  {
   "cell_type": "markdown",
   "metadata": {},
   "source": [
    "# GNB-DS1\n",
    "Gaussian Naive Bayes Classifier, with default parameter values"
   ]
  },
  {
   "cell_type": "markdown",
   "metadata": {},
   "source": [
    "# GNB-DS2\n",
    "Gaussian Naive Bayes Classifier, with default parameter values"
   ]
  },
  {
   "cell_type": "markdown",
   "metadata": {},
   "source": [
    "## GNB-DS1"
   ]
  },
  {
   "cell_type": "markdown",
   "metadata": {},
   "source": [
    "### Importing Libraries"
   ]
  },
  {
   "cell_type": "code",
   "execution_count": 4,
   "metadata": {},
   "outputs": [],
   "source": [
    "import numpy as np\n",
    "import pandas as pd"
   ]
  },
  {
   "cell_type": "markdown",
   "metadata": {},
   "source": [
    "### Importing and Splitting the Dataset"
   ]
  },
  {
   "cell_type": "code",
   "execution_count": null,
   "metadata": {},
   "outputs": [],
   "source": [
    "dataset_train1 = pd.read_csv(\"dataset/train_1.csv\", header=None)\n",
    "dataset_validate1 = pd.read_csv(\"dataset/val_1.csv\",header=None)\n",
    "dataset_test1_no_label_1 = pd.read_csv(\"dataset/test_no_label_1.csv\",header=None)\n",
    "dataset_test1_with_label_1 = pd.read_csv(\"dataset/test_with_label_1.csv\",header=None)\n",
    "X_training_1 = dataset_train1.iloc[:, :-1].values\n",
    "Y_training_1 = dataset_train1.iloc[:, -1].values\n",
    "X_validate_1 = dataset_validate1.iloc[:, :-1].values\n",
    "Y_validate_1 = dataset_validate1.iloc[:, -1].values\n",
    "X_test1 = dataset_test1_no_label_1.iloc[:, ].values\n",
    "Y_test1 = dataset_test1_with_label_1.iloc[:,-1]"
   ]
  },
  {
   "cell_type": "markdown",
   "metadata": {},
   "source": [
    "### Training the Gaussian Naive Bayes model on the Training set"
   ]
  },
  {
   "cell_type": "code",
   "execution_count": null,
   "metadata": {},
   "outputs": [],
   "source": [
    "from sklearn.naive_bayes import GaussianNB\n",
    "classifier = GaussianNB()\n",
    "classifier.fit(X_training_1,Y_training_1)"
   ]
  },
  {
   "cell_type": "markdown",
   "metadata": {},
   "source": [
    "### Sample prediction using X_Validate_1"
   ]
  },
  {
   "cell_type": "code",
   "execution_count": null,
   "metadata": {},
   "outputs": [],
   "source": [
    "Y_validate1_pred = classifier.predict(X_validate_1)"
   ]
  },
  {
   "cell_type": "markdown",
   "metadata": {},
   "source": [
    "### Applying Classifier on Test set"
   ]
  },
  {
   "cell_type": "code",
   "execution_count": null,
   "metadata": {},
   "outputs": [],
   "source": [
    "Y_test1_pred = classifier.predict(X_test1)"
   ]
  },
  {
   "cell_type": "markdown",
   "metadata": {},
   "source": [
    "### Confusion Matrix"
   ]
  },
  {
   "cell_type": "code",
   "execution_count": null,
   "metadata": {},
   "outputs": [],
   "source": [
    "from sklearn.metrics import confusion_matrix, accuracy_score\n",
    "cm = confusion_matrix(Y_test1, Y_test1_pred)\n",
    "print(cm)\n",
    "accuracy_score(Y_test1, Y_test1_pred)"
   ]
  },
  {
   "cell_type": "markdown",
   "metadata": {},
   "source": [
    "### Output file containing output classification"
   ]
  },
  {
   "cell_type": "code",
   "execution_count": null,
   "metadata": {},
   "outputs": [],
   "source": [
    "pd.DataFrame(Y_test1_pred).to_csv('GNB-DS1.csv', header = None)"
   ]
  },
  {
   "cell_type": "markdown",
   "metadata": {},
   "source": [
    "## GNB-DS2"
   ]
  },
  {
   "cell_type": "markdown",
   "metadata": {},
   "source": [
    "### Importing and splitting the Dataset"
   ]
  },
  {
   "cell_type": "code",
   "execution_count": null,
   "metadata": {},
   "outputs": [],
   "source": [
    "dataset_train2 = pd.read_csv(\"dataset/train_2.csv\", header=None)\n",
    "dataset_validate2 = pd.read_csv(\"dataset/val_2.csv\",header=None)\n",
    "dataset_test1_no_label_2 = pd.read_csv(\"dataset/test_no_label_2.csv\",header=None)\n",
    "dataset_test1_with_label_2 = pd.read_csv(\"dataset/test_with_label_2.csv\",header=None)\n",
    "X_training_2 = dataset_train1.iloc[:, :-1].values\n",
    "Y_training_2 = dataset_train1.iloc[:, -1].values\n",
    "X_validate_2 = dataset_validate1.iloc[:, :-1].values\n",
    "Y_validate_2 = dataset_validate1.iloc[:, -1].values\n",
    "X_test2 = dataset_test1_no_label_2.iloc[:, ].values\n",
    "Y_test2 = dataset_test1_with_label_2.iloc[:,-1]"
   ]
  },
  {
   "cell_type": "markdown",
   "metadata": {},
   "source": [
    "### Training the Gaussian Naive Bayes model on the Training set"
   ]
  },
  {
   "cell_type": "code",
   "execution_count": null,
   "metadata": {},
   "outputs": [],
   "source": [
    "from sklearn.naive_bayes import GaussianNB\n",
    "classifier = GaussianNB()\n",
    "classifier.fit(X_training_2,Y_training_2)"
   ]
  },
  {
   "cell_type": "markdown",
   "metadata": {},
   "source": [
    "### Sample prediction using X_Validate_2"
   ]
  },
  {
   "cell_type": "code",
   "execution_count": 31,
   "metadata": {},
   "outputs": [
    {
     "name": "stdout",
     "output_type": "stream",
     "text": [
      "[[ 1  1]\n",
      " [17 17]\n",
      " [22 12]\n",
      " [ 1 12]\n",
      " [ 1  1]\n",
      " [16 16]\n",
      " [17 17]\n",
      " [25 25]\n",
      " [14 14]\n",
      " [ 9  9]\n",
      " [ 3  3]\n",
      " [ 4  4]\n",
      " [22 21]\n",
      " [12 17]\n",
      " [25 25]\n",
      " [17 10]\n",
      " [16 18]\n",
      " [15 15]\n",
      " [11 11]\n",
      " [25 15]\n",
      " [ 5  5]\n",
      " [ 8  8]\n",
      " [19 19]\n",
      " [21 21]\n",
      " [24 24]\n",
      " [12 22]\n",
      " [15 15]\n",
      " [18 18]\n",
      " [14 20]\n",
      " [ 4  4]\n",
      " [15 15]\n",
      " [20 20]\n",
      " [20 20]\n",
      " [17  0]\n",
      " [24 24]\n",
      " [17 17]\n",
      " [10 10]\n",
      " [13 13]\n",
      " [ 8  8]\n",
      " [23 23]\n",
      " [ 3  3]\n",
      " [ 8 19]\n",
      " [18 18]\n",
      " [20 20]\n",
      " [17  7]\n",
      " [ 1  9]\n",
      " [25 25]\n",
      " [22 22]\n",
      " [ 8  8]\n",
      " [ 2  2]\n",
      " [10 10]\n",
      " [21 23]\n",
      " [13 12]\n",
      " [ 0  7]\n",
      " [16 16]\n",
      " [12  9]\n",
      " [ 2  2]\n",
      " [ 6  6]\n",
      " [ 3  3]\n",
      " [14 14]\n",
      " [11 11]\n",
      " [12  6]\n",
      " [ 3  3]\n",
      " [13 21]\n",
      " [12 23]\n",
      " [14 14]\n",
      " [ 1 17]\n",
      " [16  9]\n",
      " [22 22]\n",
      " [11 11]\n",
      " [10 10]\n",
      " [17  8]\n",
      " [ 3  3]\n",
      " [ 1  4]\n",
      " [ 1  7]\n",
      " [18 18]\n",
      " [ 8  8]\n",
      " [ 4  2]\n",
      " [25 25]\n",
      " [14 14]\n",
      " [ 1 12]\n",
      " [12 20]\n",
      " [ 5 19]\n",
      " [25 25]\n",
      " [ 7  7]\n",
      " [12  6]\n",
      " [17  0]\n",
      " [18 18]\n",
      " [ 3 14]\n",
      " [12 12]\n",
      " [19 19]\n",
      " [ 0 10]\n",
      " [23 23]\n",
      " [ 5  5]\n",
      " [25 25]\n",
      " [12 16]\n",
      " [ 2  2]\n",
      " [12  0]\n",
      " [21 21]\n",
      " [25 25]\n",
      " [16  6]\n",
      " [16 14]\n",
      " [12 13]\n",
      " [13 13]\n",
      " [ 7  7]\n",
      " [15 13]\n",
      " [12 13]\n",
      " [ 9  9]\n",
      " [ 0 13]\n",
      " [13 13]\n",
      " [ 5  5]\n",
      " [ 1 18]\n",
      " [11 11]\n",
      " [14 14]\n",
      " [22 22]\n",
      " [21 21]\n",
      " [10 10]\n",
      " [15 17]\n",
      " [18 18]\n",
      " [10 17]\n",
      " [ 0  0]\n",
      " [15 15]\n",
      " [11 11]\n",
      " [17 17]\n",
      " [17 17]\n",
      " [11 11]\n",
      " [14 14]\n",
      " [ 7  7]\n",
      " [25 25]\n",
      " [22 20]\n",
      " [12  7]\n",
      " [16 16]\n",
      " [17 17]\n",
      " [ 5  9]\n",
      " [12 16]\n",
      " [ 8 19]\n",
      " [22 22]\n",
      " [10  5]\n",
      " [23 23]\n",
      " [12 23]\n",
      " [ 0  0]\n",
      " [ 8  8]\n",
      " [ 1 16]\n",
      " [ 1  1]\n",
      " [ 3 14]\n",
      " [ 6  6]\n",
      " [ 6  6]\n",
      " [ 1  1]\n",
      " [ 3  3]\n",
      " [ 6  6]\n",
      " [22 22]\n",
      " [ 1  1]\n",
      " [12 12]\n",
      " [15  5]\n",
      " [ 5  5]\n",
      " [ 9  9]\n",
      " [ 4  4]\n",
      " [ 8  8]\n",
      " [14 20]\n",
      " [22 22]\n",
      " [13 13]\n",
      " [25 25]\n",
      " [ 0  0]\n",
      " [ 0 12]\n",
      " [12 23]\n",
      " [16 16]\n",
      " [ 4  4]\n",
      " [11 11]\n",
      " [13 13]\n",
      " [ 1 18]\n",
      " [15 15]\n",
      " [22 22]\n",
      " [ 6  6]\n",
      " [25 19]\n",
      " [16 16]\n",
      " [15 15]\n",
      " [14 20]\n",
      " [19 19]\n",
      " [ 3 10]\n",
      " [ 6  6]\n",
      " [ 3  3]\n",
      " [ 1  0]\n",
      " [ 4  4]\n",
      " [12  1]\n",
      " [24 24]\n",
      " [12  5]\n",
      " [11 11]\n",
      " [22 22]\n",
      " [18 18]\n",
      " [12 23]\n",
      " [12  2]\n",
      " [15 15]\n",
      " [22 21]\n",
      " [15 15]\n",
      " [ 9  9]\n",
      " [22 21]\n",
      " [14  2]\n",
      " [10 10]\n",
      " [12  4]\n",
      " [ 1  1]\n",
      " [ 8  8]\n",
      " [ 1  1]\n",
      " [ 1 12]\n",
      " [ 0  0]\n",
      " [ 7  7]\n",
      " [ 1  4]\n",
      " [ 9  9]\n",
      " [ 2  2]\n",
      " [16  2]\n",
      " [12  0]\n",
      " [15 15]\n",
      " [12  7]\n",
      " [10 10]\n",
      " [16 16]\n",
      " [11 11]\n",
      " [ 6  6]\n",
      " [ 8  8]\n",
      " [ 9  9]\n",
      " [16 16]\n",
      " [24 24]\n",
      " [ 0  0]\n",
      " [19 24]\n",
      " [ 2  2]\n",
      " [13 13]\n",
      " [12 24]\n",
      " [ 1  1]\n",
      " [12 12]\n",
      " [19 19]\n",
      " [12 12]\n",
      " [14 14]\n",
      " [ 3  3]\n",
      " [11 11]\n",
      " [24 24]\n",
      " [10 10]\n",
      " [21 21]\n",
      " [24 24]\n",
      " [ 2  2]\n",
      " [ 8  8]\n",
      " [ 5  5]]\n"
     ]
    }
   ],
   "source": [
    "Y_validate2_pred = classifier.predict(X_validate_2)\n",
    "print(np.concatenate((Y_validate2_pred.reshape(len(Y_validate2_pred),1), Y_validate_2.reshape(len(Y_validate_2),1)),1))"
   ]
  },
  {
   "cell_type": "markdown",
   "metadata": {},
   "source": [
    "### Applying Classifier on Test sets"
   ]
  },
  {
   "cell_type": "code",
   "execution_count": null,
   "metadata": {},
   "outputs": [],
   "source": [
    "Y_test2_pred = classifier.predict(X_test2)"
   ]
  },
  {
   "cell_type": "markdown",
   "metadata": {},
   "source": [
    "### Confusion Matrix"
   ]
  },
  {
   "cell_type": "code",
   "execution_count": 15,
   "metadata": {},
   "outputs": [
    {
     "ename": "NameError",
     "evalue": "name 'Y_test2' is not defined",
     "output_type": "error",
     "traceback": [
      "\u001b[1;31m---------------------------------------------------------------------------\u001b[0m",
      "\u001b[1;31mNameError\u001b[0m                                 Traceback (most recent call last)",
      "\u001b[1;32m<ipython-input-15-c88f023eb630>\u001b[0m in \u001b[0;36m<module>\u001b[1;34m\u001b[0m\n\u001b[0;32m      1\u001b[0m \u001b[1;32mfrom\u001b[0m \u001b[0msklearn\u001b[0m\u001b[1;33m.\u001b[0m\u001b[0mmetrics\u001b[0m \u001b[1;32mimport\u001b[0m \u001b[0mconfusion_matrix\u001b[0m\u001b[1;33m,\u001b[0m \u001b[0maccuracy_score\u001b[0m\u001b[1;33m\u001b[0m\u001b[1;33m\u001b[0m\u001b[0m\n\u001b[1;32m----> 2\u001b[1;33m \u001b[0mcm\u001b[0m \u001b[1;33m=\u001b[0m \u001b[0mconfusion_matrix\u001b[0m\u001b[1;33m(\u001b[0m\u001b[0mY_test2\u001b[0m\u001b[1;33m,\u001b[0m \u001b[0mY_test2_pred\u001b[0m\u001b[1;33m)\u001b[0m\u001b[1;33m\u001b[0m\u001b[1;33m\u001b[0m\u001b[0m\n\u001b[0m\u001b[0;32m      3\u001b[0m \u001b[0mprint\u001b[0m\u001b[1;33m(\u001b[0m\u001b[0mcm\u001b[0m\u001b[1;33m)\u001b[0m\u001b[1;33m\u001b[0m\u001b[1;33m\u001b[0m\u001b[0m\n\u001b[0;32m      4\u001b[0m \u001b[0maccuracy_score\u001b[0m\u001b[1;33m(\u001b[0m\u001b[0mY_test2\u001b[0m\u001b[1;33m,\u001b[0m \u001b[0mY_test2_pred\u001b[0m\u001b[1;33m)\u001b[0m\u001b[1;33m\u001b[0m\u001b[1;33m\u001b[0m\u001b[0m\n",
      "\u001b[1;31mNameError\u001b[0m: name 'Y_test2' is not defined"
     ]
    }
   ],
   "source": [
    "from sklearn.metrics import confusion_matrix, accuracy_score\n",
    "cm = confusion_matrix(Y_test2, Y_test2_pred)\n",
    "print(cm)\n",
    "accuracy_score(Y_test2, Y_test2_pred)"
   ]
  },
  {
   "cell_type": "markdown",
   "metadata": {},
   "source": [
    "### Output file containing output classification"
   ]
  },
  {
   "cell_type": "code",
   "execution_count": null,
   "metadata": {},
   "outputs": [],
   "source": [
    "pd.DataFrame(Y_test2_pred).to_csv('GNB-DS2.csv', header = None)"
   ]
  },
  {
   "cell_type": "markdown",
   "metadata": {},
   "source": [
    "# -------------------Base-DT-DS1-------------------\n",
    "a baseline Decision Tree using entropy as decision criterion and using default values values for the rest of the parameters"
   ]
  },
  {
   "cell_type": "markdown",
   "metadata": {},
   "source": [
    "## Importing and Splitting the dataset"
   ]
  },
  {
   "cell_type": "code",
   "execution_count": null,
   "metadata": {},
   "outputs": [],
   "source": [
    "dataset_train1 = pd.read_csv(\"dataset/train_1.csv\", header=None)\n",
    "dataset_validate1 = pd.read_csv(\"dataset/val_1.csv\",header=None)\n",
    "dataset_test1_no_label_1 = pd.read_csv(\"dataset/test_no_label_1.csv\",header=None)\n",
    "dataset_test1_with_label_1 = pd.read_csv(\"dataset/test_with_label_1.csv\",header=None)\n",
    "X_training_1 = dataset_train1.iloc[:, :-1].values\n",
    "Y_training_1 = dataset_train1.iloc[:, -1].values\n",
    "X_validate_1 = dataset_validate1.iloc[:, :-1].values\n",
    "Y_validate_1 = dataset_validate1.iloc[:, -1].values\n",
    "X_test1 = dataset_test1_no_label_1.iloc[:, ].values\n",
    "Y_test1 = dataset_test1_with_label_1.iloc[:,-1]"
   ]
  },
  {
   "cell_type": "markdown",
   "metadata": {},
   "source": [
    "## Training the DT model on the Training set"
   ]
  },
  {
   "cell_type": "code",
   "execution_count": null,
   "metadata": {},
   "outputs": [],
   "source": [
    "from sklearn.tree import DecisionTreeClassifier\n",
    "classifier = DecisionTreeClassifier(criterion='entropy')\n",
    "classifier.fit(X_training_1,Y_training_1)"
   ]
  },
  {
   "cell_type": "markdown",
   "metadata": {},
   "source": [
    "# -------------------Base-DT-DS2-------------------"
   ]
  },
  {
   "cell_type": "markdown",
   "metadata": {},
   "source": [
    "## Importing and Splitting the dataset"
   ]
  },
  {
   "cell_type": "code",
   "execution_count": null,
   "metadata": {},
   "outputs": [],
   "source": [
    "dataset_train2 = pd.read_csv(\"dataset/train_2.csv\", header=None)\n",
    "dataset_validate2 = pd.read_csv(\"dataset/val_2.csv\",header=None)\n",
    "dataset_test2_no_label_2 = pd.read_csv(\"dataset/test_no_label_2.csv\",header=None)\n",
    "dataset_test2_with_label_2 = pd.read_csv(\"dataset/test_with_label_2.csv\",header=None)\n",
    "X_training_2 = dataset_train2.iloc[:, :-1].values\n",
    "Y_training_2 = dataset_train2.iloc[:, -1].values\n",
    "X_validate_2 = dataset_validate2.iloc[:, :-1].values\n",
    "Y_validate_2 = dataset_validate2.iloc[:, -1].values\n",
    "X_test2 = dataset_test2_no_label_2.iloc[:, ].values\n",
    "Y_test2 = dataset_test2_with_label_2.iloc[:,-1]"
   ]
  },
  {
   "cell_type": "markdown",
   "metadata": {},
   "source": [
    "## Training the DT model on the Training set"
   ]
  },
  {
   "cell_type": "code",
   "execution_count": null,
   "metadata": {},
   "outputs": [],
   "source": [
    "classifier = DecisionTreeClassifier(criterion='entropy')\n",
    "classifier.fit(X_training_2,Y_training_2)"
   ]
  },
  {
   "cell_type": "markdown",
   "metadata": {},
   "source": [
    "# -------------------Best-DT-------------------\n",
    "a better performing Decision Tree found by performing grid search to find the best combination of hyper-parameters. For this, you need to experiment with the following parameter values:\n",
    "* splitting criterion: gini and entropy\n",
    "* maximum depth of the tree: 10 and no maximum\n",
    "* minimum number of samples to split an internal node: experiment with values of your choice\n",
    "* minimum impurity decrease: experiment with values of your choice\n",
    "* class weight: None and balanced"
   ]
  },
  {
   "cell_type": "markdown",
   "metadata": {},
   "source": [
    "## Importing and Splitting the dataset"
   ]
  },
  {
   "cell_type": "code",
   "execution_count": 184,
   "metadata": {},
   "outputs": [],
   "source": [
    "dataset_train1 = pd.read_csv(\"dataset/train_1.csv\", header=None)\n",
    "dataset_validate1 = pd.read_csv(\"dataset/val_1.csv\",header=None)\n",
    "dataset_test1_no_label_1 = pd.read_csv(\"dataset/test_no_label_1.csv\",header=None)\n",
    "dataset_test1_with_label_1 = pd.read_csv(\"dataset/test_with_label_1.csv\",header=None)\n",
    "X_training_1 = dataset_train1.iloc[:, :-1].values\n",
    "Y_training_1 = dataset_train1.iloc[:, -1].values\n",
    "X_validate_1 = dataset_validate1.iloc[:, :-1].values\n",
    "Y_validate_1 = dataset_validate1.iloc[:, -1].values\n",
    "X_test1 = dataset_test1_no_label_1.iloc[:, ].values\n",
    "Y_test1 = dataset_test1_with_label_1.iloc[:,-1]"
   ]
  },
  {
   "cell_type": "markdown",
   "metadata": {},
   "source": [
    "## Training the DT model on the Training set"
   ]
  },
  {
   "cell_type": "code",
   "execution_count": null,
   "metadata": {},
   "outputs": [],
   "source": [
    "from sklearn.tree import export_graphviz\n",
    "from sklearn.model_selection   import GridSearchCV, cross_val_score\n",
    "from sklearn.model_selection import cross_val_score\n",
    "\n",
    "\n",
    "tree_para = {'criterion':['gini','entropy'],'max_depth':[10],'min_impurity_decrease':[0,1.0,2.0,3.0,4.0,5.0],'min_samples_split':[2,4,6,8]}\n",
    "classifier_Best_DT = GridSearchCV(DecisionTreeClassifier(), tree_para)\n",
    "classifier_Best_DT.fit(X_training_1, Y_training_1)\n",
    "classifier_Best_DT.best_estimator_\n",
    "\n",
    "classifier = DecisionTreeClassifier(criterion='entropy', max_depth=10,\n",
    "                       min_impurity_decrease=0, min_samples_split=4)\n",
    "classifier.fit(X_training_1,Y_training_1)\n"
   ]
  },
  {
   "cell_type": "markdown",
   "metadata": {},
   "source": [
    "## Sample prediction using X_Validate_1"
   ]
  },
  {
   "cell_type": "code",
   "execution_count": null,
   "metadata": {},
   "outputs": [],
   "source": [
    "validate1_pred = classifier.predict(X_validate_1)"
   ]
  },
  {
   "cell_type": "markdown",
   "metadata": {},
   "source": [
    "## Applying Classifier on Test set"
   ]
  },
  {
   "cell_type": "code",
   "execution_count": null,
   "metadata": {},
   "outputs": [],
   "source": [
    "Y_test1_pred = classifier.predict(X_test1)"
   ]
  },
  {
   "cell_type": "markdown",
   "metadata": {},
   "source": [
    "## Confusion Matrix and Classification Report"
   ]
  },
  {
   "cell_type": "code",
   "execution_count": 17,
   "metadata": {},
   "outputs": [
    {
     "name": "stdout",
     "output_type": "stream",
     "text": [
      "[[3 0 0 0 0 0 0 0 0 0 0 0 0 0 0 0 0 1 0 0 0 0 0 0 0 0]\n",
      " [0 0 0 0 0 0 0 0 0 0 0 0 0 1 0 0 0 1 0 0 0 0 0 0 0 0]\n",
      " [0 0 2 0 0 0 1 0 0 0 0 1 0 0 0 0 0 0 0 0 0 0 0 0 0 0]\n",
      " [0 0 0 0 0 0 0 0 1 0 0 0 0 0 1 0 0 1 0 0 0 0 0 0 0 0]\n",
      " [0 0 1 0 0 0 0 0 0 0 0 1 0 0 0 0 0 0 0 0 0 0 0 0 0 0]\n",
      " [0 0 0 0 0 0 0 0 0 0 1 0 1 0 0 0 0 0 0 0 0 0 0 0 0 0]\n",
      " [0 0 0 0 0 0 3 0 0 0 0 0 0 1 0 0 0 0 0 0 0 0 0 0 0 0]\n",
      " [0 0 0 0 0 0 0 1 0 0 1 0 0 0 0 0 0 1 0 0 0 0 0 0 0 0]\n",
      " [0 0 0 0 0 0 0 0 3 0 0 0 0 0 0 0 0 0 0 0 0 0 0 0 0 0]\n",
      " [0 0 0 0 0 0 0 0 2 2 0 0 0 0 0 0 0 0 0 0 0 0 0 0 0 0]\n",
      " [0 0 0 0 0 0 0 0 0 0 2 0 0 0 0 0 0 1 0 0 0 0 0 0 0 0]\n",
      " [0 0 1 0 0 0 0 0 0 0 1 2 0 0 0 0 0 0 0 0 0 0 0 0 0 0]\n",
      " [0 0 0 0 0 0 1 0 0 0 0 1 1 0 0 0 0 0 0 0 0 0 0 0 0 0]\n",
      " [0 0 0 0 0 0 1 0 0 0 1 0 0 2 0 0 0 0 0 0 0 0 0 0 0 0]\n",
      " [0 0 0 0 0 0 0 0 0 0 0 0 0 0 3 0 0 0 0 0 0 0 0 0 0 0]\n",
      " [0 0 0 0 0 0 0 0 0 0 1 0 0 0 0 1 0 1 0 0 0 0 0 0 0 0]\n",
      " [0 0 0 0 0 0 1 0 0 0 0 0 0 0 1 0 1 0 0 0 0 0 0 0 0 0]\n",
      " [0 0 0 0 0 0 0 0 0 0 1 0 0 0 0 0 0 3 0 0 0 0 0 0 0 0]\n",
      " [0 0 0 0 0 0 1 0 0 1 0 0 0 0 0 0 0 1 0 0 0 0 0 0 0 0]\n",
      " [0 0 0 0 0 0 0 0 2 0 0 0 0 0 0 0 0 0 0 0 0 0 0 0 0 0]\n",
      " [0 0 0 0 0 0 0 0 0 0 1 2 0 0 0 0 0 0 0 0 0 0 0 0 0 0]\n",
      " [0 0 0 0 0 0 0 0 0 0 1 0 0 1 0 0 0 0 0 0 0 0 1 0 0 0]\n",
      " [0 0 0 0 0 0 0 0 0 0 0 2 0 0 0 0 0 0 0 0 0 0 1 0 0 0]\n",
      " [0 0 0 0 0 0 0 0 0 0 0 0 0 0 0 0 0 2 0 0 0 0 0 0 0 0]\n",
      " [0 0 0 0 0 0 0 0 0 0 0 0 0 1 0 1 0 1 0 0 0 0 0 0 0 0]\n",
      " [1 0 0 0 0 0 0 0 0 1 1 0 0 0 0 0 0 0 0 0 0 0 0 0 0 0]]\n",
      "              precision    recall  f1-score   support\n",
      "\n",
      "           0       0.75      0.75      0.75         4\n",
      "           1       0.00      0.00      0.00         2\n",
      "           2       0.50      0.50      0.50         4\n",
      "           3       0.00      0.00      0.00         3\n",
      "           4       0.00      0.00      0.00         2\n",
      "           5       0.00      0.00      0.00         2\n",
      "           6       0.38      0.75      0.50         4\n",
      "           7       1.00      0.33      0.50         3\n",
      "           8       0.38      1.00      0.55         3\n",
      "           9       0.50      0.50      0.50         4\n",
      "          10       0.18      0.67      0.29         3\n",
      "          11       0.22      0.50      0.31         4\n",
      "          12       0.50      0.33      0.40         3\n",
      "          13       0.33      0.50      0.40         4\n",
      "          14       0.60      1.00      0.75         3\n",
      "          15       0.50      0.33      0.40         3\n",
      "          16       1.00      0.33      0.50         3\n",
      "          17       0.23      0.75      0.35         4\n",
      "          18       0.00      0.00      0.00         3\n",
      "          19       0.00      0.00      0.00         2\n",
      "          20       0.00      0.00      0.00         3\n",
      "          21       0.00      0.00      0.00         3\n",
      "          22       0.50      0.33      0.40         3\n",
      "          23       0.00      0.00      0.00         2\n",
      "          24       0.00      0.00      0.00         3\n",
      "          25       0.00      0.00      0.00         3\n",
      "\n",
      "    accuracy                           0.38        80\n",
      "   macro avg       0.29      0.33      0.27        80\n",
      "weighted avg       0.32      0.38      0.31        80\n",
      "\n"
     ]
    },
    {
     "name": "stderr",
     "output_type": "stream",
     "text": [
      "C:\\Users\\nnadaraj\\Anaconda3\\lib\\site-packages\\sklearn\\metrics\\_classification.py:1221: UndefinedMetricWarning: Precision and F-score are ill-defined and being set to 0.0 in labels with no predicted samples. Use `zero_division` parameter to control this behavior.\n",
      "  _warn_prf(average, modifier, msg_start, len(result))\n"
     ]
    }
   ],
   "source": [
    "from sklearn.metrics import classification_report\n",
    "\n",
    "cm = confusion_matrix(Y_test1, Y_test1_pred)\n",
    "print(cm)\n",
    "cr = classification_report(Y_test1, Y_test1_pred)\n",
    "print(cr)"
   ]
  },
  {
   "cell_type": "markdown",
   "metadata": {},
   "source": [
    "## Output file containing output classification"
   ]
  },
  {
   "cell_type": "code",
   "execution_count": null,
   "metadata": {},
   "outputs": [],
   "source": [
    "pf = pd.DataFrame(cm)\n",
    "pf.to_csv('Best-DT-DS1.csv', header = None, index = None)"
   ]
  },
  {
   "cell_type": "markdown",
   "metadata": {},
   "source": [
    "# -------------------Best-DT2-------------------"
   ]
  },
  {
   "cell_type": "markdown",
   "metadata": {},
   "source": [
    "## Importing and Splitting the dataset"
   ]
  },
  {
   "cell_type": "code",
   "execution_count": 19,
   "metadata": {},
   "outputs": [],
   "source": [
    "dataset_train2 = pd.read_csv(\"dataset/train_2.csv\", header=None)\n",
    "dataset_validate2 = pd.read_csv(\"dataset/val_2.csv\",header=None)\n",
    "dataset_test2_no_label_2 = pd.read_csv(\"dataset/test_no_label_2.csv\",header=None)\n",
    "dataset_test2_with_label_2 = pd.read_csv(\"dataset/test_with_label_2.csv\",header=None)\n",
    "X_training_2 = dataset_train2.iloc[:, :-1].values\n",
    "Y_training_2 = dataset_train2.iloc[:, -1].values\n",
    "X_validate_2 = dataset_validate2.iloc[:, :-1].values\n",
    "Y_validate_2 = dataset_validate2.iloc[:, -1].values\n",
    "X_test2 = dataset_test2_no_label_2.iloc[:, ].values\n",
    "Y_test2 = dataset_test2_with_label_2.iloc[:,-1]"
   ]
  },
  {
   "cell_type": "markdown",
   "metadata": {},
   "source": [
    "## Training the DT model on the Training set"
   ]
  },
  {
   "cell_type": "code",
   "execution_count": null,
   "metadata": {},
   "outputs": [],
   "source": [
    "from sklearn.tree import export_graphviz\n",
    "from sklearn.model_selection   import GridSearchCV, cross_val_score\n",
    "from sklearn.model_selection import cross_val_score\n",
    "\n",
    "\n",
    "tree_para2 = {'criterion':['gini','entropy'],'max_depth':[10],'min_impurity_decrease':[0,1.0,2.0,3.0,4.0,5.0],'min_samples_split':[2,4,6,8]}\n",
    "classifier_Best_DT2 = GridSearchCV(DecisionTreeClassifier(), tree_para2)\n",
    "classifier_Best_DT2.fit(X_training_2, Y_training_2)\n",
    "classifier_Best_DT2.best_estimator_\n",
    "\n",
    "classifier = DecisionTreeClassifier(criterion='entropy', max_depth=10,\n",
    "                       min_impurity_decrease=0, min_samples_split=4)\n",
    "classifier.fit(X_training_2,Y_training_2)\n"
   ]
  },
  {
   "cell_type": "markdown",
   "metadata": {},
   "source": [
    "## Sample prediction using X_Validate_2"
   ]
  },
  {
   "cell_type": "code",
   "execution_count": null,
   "metadata": {},
   "outputs": [],
   "source": [
    "validate2_pred = classifier.predict(X_validate_2)"
   ]
  },
  {
   "cell_type": "markdown",
   "metadata": {},
   "source": [
    "## Applying Classifier on Test set"
   ]
  },
  {
   "cell_type": "code",
   "execution_count": null,
   "metadata": {},
   "outputs": [],
   "source": [
    "Y_test2_pred = classifier.predict(X_test2)"
   ]
  },
  {
   "cell_type": "markdown",
   "metadata": {},
   "source": [
    "## Confusion Matrix and Classification Report"
   ]
  },
  {
   "cell_type": "code",
   "execution_count": 20,
   "metadata": {},
   "outputs": [
    {
     "ename": "NameError",
     "evalue": "name 'Y_test2_pred' is not defined",
     "output_type": "error",
     "traceback": [
      "\u001b[1;31m---------------------------------------------------------------------------\u001b[0m",
      "\u001b[1;31mNameError\u001b[0m                                 Traceback (most recent call last)",
      "\u001b[1;32m<ipython-input-20-3dd9b82095ba>\u001b[0m in \u001b[0;36m<module>\u001b[1;34m\u001b[0m\n\u001b[0;32m      1\u001b[0m \u001b[1;32mfrom\u001b[0m \u001b[0msklearn\u001b[0m\u001b[1;33m.\u001b[0m\u001b[0mmetrics\u001b[0m \u001b[1;32mimport\u001b[0m \u001b[0mclassification_report\u001b[0m\u001b[1;33m\u001b[0m\u001b[1;33m\u001b[0m\u001b[0m\n\u001b[0;32m      2\u001b[0m \u001b[1;33m\u001b[0m\u001b[0m\n\u001b[1;32m----> 3\u001b[1;33m \u001b[0mcm2\u001b[0m \u001b[1;33m=\u001b[0m \u001b[0mconfusion_matrix\u001b[0m\u001b[1;33m(\u001b[0m\u001b[0mY_test2\u001b[0m\u001b[1;33m,\u001b[0m \u001b[0mY_test2_pred\u001b[0m\u001b[1;33m)\u001b[0m\u001b[1;33m\u001b[0m\u001b[1;33m\u001b[0m\u001b[0m\n\u001b[0m\u001b[0;32m      4\u001b[0m \u001b[0mprint\u001b[0m\u001b[1;33m(\u001b[0m\u001b[0mcm2\u001b[0m\u001b[1;33m)\u001b[0m\u001b[1;33m\u001b[0m\u001b[1;33m\u001b[0m\u001b[0m\n\u001b[0;32m      5\u001b[0m \u001b[0mcr2\u001b[0m \u001b[1;33m=\u001b[0m \u001b[0mclassification_report\u001b[0m\u001b[1;33m(\u001b[0m\u001b[0mY_test2\u001b[0m\u001b[1;33m,\u001b[0m \u001b[0mY_test2_pred\u001b[0m\u001b[1;33m)\u001b[0m\u001b[1;33m\u001b[0m\u001b[1;33m\u001b[0m\u001b[0m\n",
      "\u001b[1;31mNameError\u001b[0m: name 'Y_test2_pred' is not defined"
     ]
    }
   ],
   "source": [
    "from sklearn.metrics import classification_report\n",
    "\n",
    "cm2 = confusion_matrix(Y_test2, Y_test2_pred)\n",
    "print(cm2)\n",
    "cr2 = classification_report(Y_test2, Y_test2_pred)\n",
    "print(cr2)"
   ]
  },
  {
   "cell_type": "markdown",
   "metadata": {},
   "source": [
    "## Output file containing output classification"
   ]
  },
  {
   "cell_type": "code",
   "execution_count": null,
   "metadata": {},
   "outputs": [],
   "source": [
    "pf = pd.DataFrame(cm2)\n",
    "pf.to_csv('Best-DT-DS2.csv', header = None, index = None)"
   ]
  },
  {
   "cell_type": "markdown",
   "metadata": {},
   "source": [
    "# Perceptron\n",
    " a Perceptron, with default parameter values"
   ]
  },
  {
   "cell_type": "markdown",
   "metadata": {},
   "source": [
    "#### Training the Perceptron model on Training Set"
   ]
  },
  {
   "cell_type": "code",
   "execution_count": null,
   "metadata": {},
   "outputs": [],
   "source": [
    "from sklearn.linear_model import Perceptron\n",
    "import numpy as np\n",
    "import pandas as pd\n",
    "\n",
    "ds = input('Choose Data Set (1 or 2):')\n",
    "\n",
    "#import data set according to selection\n",
    "dataset_train = pd.read_csv(\"dataset/train_\"+ds+\".csv\", header=None)\n",
    "dataset_val = pd.read_csv(\"dataset/val_\"+ds+\".csv\", header=None)\n",
    "dataset_test = pd.read_csv(\"dataset/test_no_label_\"+ds+\".csv\", header=None)\n",
    "dataset_test_with_label = pd.read_csv(\"dataset/test_with_label_\"+ds+\".csv\", header=None)\n",
    "\n",
    "# X = data, Y = target\n",
    "X_train = dataset_train.iloc[:, :-1].values\n",
    "Y_train = dataset_train.iloc[:, -1].values\n",
    "X_val = dataset_val.iloc[:, :-1].values\n",
    "Y_val = dataset_val.iloc[:, -1].values\n",
    "X_test = dataset_test.iloc[:, ].values\n",
    "Y_test = dataset_test_with_label.iloc[:,-1]\n",
    "\n",
    "#train model\n",
    "perClass = Perceptron()\n",
    "perClass.fit(X_train, Y_train)"
   ]
  },
  {
   "cell_type": "markdown",
   "metadata": {},
   "source": [
    "#### Predict using Validate set"
   ]
  },
  {
   "cell_type": "code",
   "execution_count": null,
   "metadata": {},
   "outputs": [],
   "source": [
    "Y_val_pred = perClass.predict(X_val)"
   ]
  },
  {
   "cell_type": "markdown",
   "metadata": {},
   "source": [
    "#### Predict using Test set"
   ]
  },
  {
   "cell_type": "code",
   "execution_count": null,
   "metadata": {},
   "outputs": [],
   "source": [
    "Y_test_pred = perClass.predict(X_test)"
   ]
  },
  {
   "cell_type": "markdown",
   "metadata": {},
   "source": [
    "#### Confusion Matrix"
   ]
  },
  {
   "cell_type": "code",
   "execution_count": null,
   "metadata": {},
   "outputs": [],
   "source": [
    "from sklearn.metrics import confusion_matrix, accuracy_score, classification_report\n",
    "cm = confusion_matrix(Y_test, Y_test_pred)\n",
    "# cm = confusion_matrix(Y_val, Y_val_pred)\n",
    "print(cm)\n",
    "cr = classification_report(Y_test, Y_test_pred)\n",
    "# cr = classification_report(Y_val, Y_val_pred)\n",
    "print(cr)\n",
    "\n",
    "pd.DataFrame(Y_test_pred).to_csv('PER-DS'+ds+'.csv', header = None)"
   ]
  },
  {
   "cell_type": "markdown",
   "metadata": {},
   "source": [
    "#### Output"
   ]
  },
  {
   "cell_type": "markdown",
   "metadata": {},
   "source": [
    "# Base-MLP-DS1\n",
    "a baseline Multi-Layered Perceptron with 1 hidden layer of100 neurons, sigmoid/logistic as activation function, stochastic gradient descent, and default values for the rest of the parameters."
   ]
  },
  {
   "cell_type": "markdown",
   "metadata": {},
   "source": [
    "## Importing and Splitting the dataset"
   ]
  },
  {
   "cell_type": "code",
   "execution_count": 5,
   "metadata": {},
   "outputs": [],
   "source": [
    "dataset_train1 = pd.read_csv(\"dataset/train_1.csv\", header=None)\n",
    "dataset_validate1 = pd.read_csv(\"dataset/val_1.csv\",header=None)\n",
    "dataset_test1_no_label_1 = pd.read_csv(\"dataset/test_no_label_1.csv\",header=None)\n",
    "dataset_test1_with_label_1 = pd.read_csv(\"dataset/test_with_label_1.csv\",header=None)\n",
    "X_training_1 = dataset_train1.iloc[:, :-1].values\n",
    "Y_training_1 = dataset_train1.iloc[:, -1].values\n",
    "X_validate_1 = dataset_validate1.iloc[:, :-1].values\n",
    "Y_validate_1 = dataset_validate1.iloc[:, -1].values\n",
    "X_test1 = dataset_test1_no_label_1.iloc[:, ].values\n",
    "Y_test1 = dataset_test1_with_label_1.iloc[:,-1]"
   ]
  },
  {
   "cell_type": "markdown",
   "metadata": {},
   "source": [
    "## Training the DT model on the Training set"
   ]
  },
  {
   "cell_type": "code",
   "execution_count": 9,
   "metadata": {},
   "outputs": [
    {
     "name": "stderr",
     "output_type": "stream",
     "text": [
      "C:\\Users\\nnadaraj\\Anaconda3\\lib\\site-packages\\sklearn\\neural_network\\_multilayer_perceptron.py:582: ConvergenceWarning: Stochastic Optimizer: Maximum iterations (200) reached and the optimization hasn't converged yet.\n",
      "  warnings.warn(\n"
     ]
    },
    {
     "data": {
      "text/plain": [
       "MLPClassifier(activation='logistic', hidden_layer_sizes=100, solver='sgd')"
      ]
     },
     "execution_count": 9,
     "metadata": {},
     "output_type": "execute_result"
    }
   ],
   "source": [
    "from sklearn.neural_network import MLPClassifier \n",
    "\n",
    "classifier = MLPClassifier(hidden_layer_sizes=(100), activation='logistic', solver='sgd')\n",
    "classifier.fit(X_training_1,Y_training_1)"
   ]
  },
  {
   "cell_type": "markdown",
   "metadata": {},
   "source": [
    "## Sample prediction using X_Validate_1"
   ]
  },
  {
   "cell_type": "code",
   "execution_count": 11,
   "metadata": {},
   "outputs": [],
   "source": [
    "validate1_pred = classifier.predict(X_validate_1)"
   ]
  },
  {
   "cell_type": "markdown",
   "metadata": {},
   "source": [
    "## Applying Classifier on Test set"
   ]
  },
  {
   "cell_type": "code",
   "execution_count": 13,
   "metadata": {},
   "outputs": [],
   "source": [
    "Y_test1_pred = classifier.predict(X_test1)"
   ]
  },
  {
   "cell_type": "markdown",
   "metadata": {},
   "source": [
    "## Confusion Matrix and Classification Report"
   ]
  },
  {
   "cell_type": "code",
   "execution_count": 22,
   "metadata": {},
   "outputs": [
    {
     "name": "stdout",
     "output_type": "stream",
     "text": [
      "[[ 2  2]\n",
      " [13 13]\n",
      " [17 17]\n",
      " [ 2  2]\n",
      " [17 17]\n",
      " [17 17]\n",
      " [11 11]\n",
      " [17 17]\n",
      " [22 22]\n",
      " [11 11]\n",
      " [ 6  6]\n",
      " [ 9  9]\n",
      " [ 2  2]\n",
      " [ 8  8]\n",
      " [11 11]\n",
      " [10 10]\n",
      " [13 13]\n",
      " [ 8  8]\n",
      " [ 2  2]\n",
      " [ 0  0]\n",
      " [ 6  6]\n",
      " [ 0  0]\n",
      " [ 9  9]\n",
      " [17 17]\n",
      " [ 8  8]\n",
      " [17 17]\n",
      " [10 10]\n",
      " [ 8  8]\n",
      " [17 17]\n",
      " [ 6  6]\n",
      " [17 17]\n",
      " [17 17]\n",
      " [10 10]\n",
      " [16 16]\n",
      " [10 10]\n",
      " [10 10]\n",
      " [ 6  6]\n",
      " [ 8  8]\n",
      " [15 15]\n",
      " [12 12]\n",
      " [14 14]\n",
      " [10 10]\n",
      " [13 13]\n",
      " [13 13]\n",
      " [10 10]\n",
      " [17 17]\n",
      " [10 10]\n",
      " [14 14]\n",
      " [15 15]\n",
      " [ 0  0]\n",
      " [ 7  7]\n",
      " [ 8  8]\n",
      " [11 11]\n",
      " [10 10]\n",
      " [14 14]\n",
      " [14 14]\n",
      " [ 0  0]\n",
      " [ 9  9]\n",
      " [17 17]\n",
      " [14 14]\n",
      " [10 10]\n",
      " [11 11]\n",
      " [11 11]\n",
      " [11 11]\n",
      " [17 17]\n",
      " [ 6  6]\n",
      " [ 6  6]\n",
      " [11 11]\n",
      " [12 12]\n",
      " [ 6  6]\n",
      " [13 13]\n",
      " [11 11]\n",
      " [13 13]\n",
      " [ 8  8]\n",
      " [22 22]\n",
      " [ 9  9]\n",
      " [10 10]\n",
      " [17 17]\n",
      " [ 6  6]\n",
      " [ 8  8]]\n",
      "[[3 0 0 0 0 0 0 0 0 0 0 0 0 0 0 0 0 1 0 0 0 0 0 0 0 0]\n",
      " [0 0 0 0 0 0 0 0 0 0 0 0 0 1 0 0 0 1 0 0 0 0 0 0 0 0]\n",
      " [0 0 2 0 0 0 1 0 0 0 0 1 0 0 0 0 0 0 0 0 0 0 0 0 0 0]\n",
      " [0 0 0 0 0 0 0 0 1 0 0 0 0 0 1 0 0 1 0 0 0 0 0 0 0 0]\n",
      " [0 0 1 0 0 0 0 0 0 0 0 1 0 0 0 0 0 0 0 0 0 0 0 0 0 0]\n",
      " [0 0 0 0 0 0 0 0 0 0 1 0 1 0 0 0 0 0 0 0 0 0 0 0 0 0]\n",
      " [0 0 0 0 0 0 3 0 0 0 0 0 0 1 0 0 0 0 0 0 0 0 0 0 0 0]\n",
      " [0 0 0 0 0 0 0 1 0 0 1 0 0 0 0 0 0 1 0 0 0 0 0 0 0 0]\n",
      " [0 0 0 0 0 0 0 0 3 0 0 0 0 0 0 0 0 0 0 0 0 0 0 0 0 0]\n",
      " [0 0 0 0 0 0 0 0 2 2 0 0 0 0 0 0 0 0 0 0 0 0 0 0 0 0]\n",
      " [0 0 0 0 0 0 0 0 0 0 2 0 0 0 0 0 0 1 0 0 0 0 0 0 0 0]\n",
      " [0 0 1 0 0 0 0 0 0 0 1 2 0 0 0 0 0 0 0 0 0 0 0 0 0 0]\n",
      " [0 0 0 0 0 0 1 0 0 0 0 1 1 0 0 0 0 0 0 0 0 0 0 0 0 0]\n",
      " [0 0 0 0 0 0 1 0 0 0 1 0 0 2 0 0 0 0 0 0 0 0 0 0 0 0]\n",
      " [0 0 0 0 0 0 0 0 0 0 0 0 0 0 3 0 0 0 0 0 0 0 0 0 0 0]\n",
      " [0 0 0 0 0 0 0 0 0 0 1 0 0 0 0 1 0 1 0 0 0 0 0 0 0 0]\n",
      " [0 0 0 0 0 0 1 0 0 0 0 0 0 0 1 0 1 0 0 0 0 0 0 0 0 0]\n",
      " [0 0 0 0 0 0 0 0 0 0 1 0 0 0 0 0 0 3 0 0 0 0 0 0 0 0]\n",
      " [0 0 0 0 0 0 1 0 0 1 0 0 0 0 0 0 0 1 0 0 0 0 0 0 0 0]\n",
      " [0 0 0 0 0 0 0 0 2 0 0 0 0 0 0 0 0 0 0 0 0 0 0 0 0 0]\n",
      " [0 0 0 0 0 0 0 0 0 0 1 2 0 0 0 0 0 0 0 0 0 0 0 0 0 0]\n",
      " [0 0 0 0 0 0 0 0 0 0 1 0 0 1 0 0 0 0 0 0 0 0 1 0 0 0]\n",
      " [0 0 0 0 0 0 0 0 0 0 0 2 0 0 0 0 0 0 0 0 0 0 1 0 0 0]\n",
      " [0 0 0 0 0 0 0 0 0 0 0 0 0 0 0 0 0 2 0 0 0 0 0 0 0 0]\n",
      " [0 0 0 0 0 0 0 0 0 0 0 0 0 1 0 1 0 1 0 0 0 0 0 0 0 0]\n",
      " [1 0 0 0 0 0 0 0 0 1 1 0 0 0 0 0 0 0 0 0 0 0 0 0 0 0]]\n",
      "              precision    recall  f1-score   support\n",
      "\n",
      "           0       0.75      0.75      0.75         4\n",
      "           1       0.00      0.00      0.00         2\n",
      "           2       0.50      0.50      0.50         4\n",
      "           3       0.00      0.00      0.00         3\n",
      "           4       0.00      0.00      0.00         2\n",
      "           5       0.00      0.00      0.00         2\n",
      "           6       0.38      0.75      0.50         4\n",
      "           7       1.00      0.33      0.50         3\n",
      "           8       0.38      1.00      0.55         3\n",
      "           9       0.50      0.50      0.50         4\n",
      "          10       0.18      0.67      0.29         3\n",
      "          11       0.22      0.50      0.31         4\n",
      "          12       0.50      0.33      0.40         3\n",
      "          13       0.33      0.50      0.40         4\n",
      "          14       0.60      1.00      0.75         3\n",
      "          15       0.50      0.33      0.40         3\n",
      "          16       1.00      0.33      0.50         3\n",
      "          17       0.23      0.75      0.35         4\n",
      "          18       0.00      0.00      0.00         3\n",
      "          19       0.00      0.00      0.00         2\n",
      "          20       0.00      0.00      0.00         3\n",
      "          21       0.00      0.00      0.00         3\n",
      "          22       0.50      0.33      0.40         3\n",
      "          23       0.00      0.00      0.00         2\n",
      "          24       0.00      0.00      0.00         3\n",
      "          25       0.00      0.00      0.00         3\n",
      "\n",
      "    accuracy                           0.38        80\n",
      "   macro avg       0.29      0.33      0.27        80\n",
      "weighted avg       0.32      0.38      0.31        80\n",
      "\n"
     ]
    }
   ],
   "source": [
    "from sklearn.metrics import classification_report\n",
    "\n",
    "print(np.concatenate((Y_test1_pred.reshape(len(Y_test1_pred),1), Y_test1_pred.reshape(len(Y_test1_pred),1)),1))\n",
    "cm = confusion_matrix(Y_test1, Y_test1_pred)\n",
    "print(cm)\n",
    "cr = classification_report(Y_test1, Y_test1_pred)\n",
    "print(cr)"
   ]
  },
  {
   "cell_type": "markdown",
   "metadata": {},
   "source": [
    "## Output file containing output classification"
   ]
  },
  {
   "cell_type": "code",
   "execution_count": 23,
   "metadata": {},
   "outputs": [],
   "source": [
    "pf = pd.DataFrame(cm)\n",
    "pf.to_csv('Base-MLP-DS1.csv', header = None, index = None)"
   ]
  },
  {
   "cell_type": "markdown",
   "metadata": {},
   "source": [
    "# Base-MLP-DS2\n",
    "a baseline Multi-Layered Perceptron with 1 hidden layer of100 neurons, sigmoid/logistic as activation function, stochastic gradient descent, and default values for the rest of the parameters."
   ]
  },
  {
   "cell_type": "markdown",
   "metadata": {},
   "source": [
    "## Importing and Splitting the dataset"
   ]
  },
  {
   "cell_type": "code",
   "execution_count": 24,
   "metadata": {},
   "outputs": [],
   "source": [
    "dataset_train2 = pd.read_csv(\"dataset/train_2.csv\", header=None)\n",
    "dataset_validate2 = pd.read_csv(\"dataset/val_2.csv\",header=None)\n",
    "dataset_test2_no_label_2 = pd.read_csv(\"dataset/test_no_label_2.csv\",header=None)\n",
    "dataset_test2_with_label_2 = pd.read_csv(\"dataset/test_with_label_2.csv\",header=None)\n",
    "X_training_2 = dataset_train2.iloc[:, :-1].values\n",
    "Y_training_2 = dataset_train2.iloc[:, -1].values\n",
    "X_validate_2 = dataset_validate2.iloc[:, :-1].values\n",
    "Y_validate_2 = dataset_validate2.iloc[:, -1].values\n",
    "X_test2 = dataset_test2_no_label_2.iloc[:, ].values\n",
    "Y_test2 = dataset_test2_with_label_2.iloc[:,-1]"
   ]
  },
  {
   "cell_type": "markdown",
   "metadata": {},
   "source": [
    "## Training the DT model on the Training set"
   ]
  },
  {
   "cell_type": "code",
   "execution_count": 25,
   "metadata": {},
   "outputs": [
    {
     "name": "stderr",
     "output_type": "stream",
     "text": [
      "C:\\Users\\nnadaraj\\Anaconda3\\lib\\site-packages\\sklearn\\neural_network\\_multilayer_perceptron.py:582: ConvergenceWarning: Stochastic Optimizer: Maximum iterations (200) reached and the optimization hasn't converged yet.\n",
      "  warnings.warn(\n"
     ]
    },
    {
     "data": {
      "text/plain": [
       "MLPClassifier(activation='logistic', hidden_layer_sizes=100, solver='sgd')"
      ]
     },
     "execution_count": 25,
     "metadata": {},
     "output_type": "execute_result"
    }
   ],
   "source": [
    "from sklearn.neural_network import MLPClassifier \n",
    "\n",
    "classifier = MLPClassifier(hidden_layer_sizes=(100), activation='logistic', solver='sgd')\n",
    "classifier.fit(X_training_2,Y_training_2)\n"
   ]
  },
  {
   "cell_type": "markdown",
   "metadata": {},
   "source": [
    "## Sample prediction using X_Validate_2"
   ]
  },
  {
   "cell_type": "code",
   "execution_count": 27,
   "metadata": {},
   "outputs": [],
   "source": [
    "validate2_pred = classifier.predict(X_validate_2)"
   ]
  },
  {
   "cell_type": "markdown",
   "metadata": {},
   "source": [
    "## Applying Classifier on Test set"
   ]
  },
  {
   "cell_type": "code",
   "execution_count": 28,
   "metadata": {},
   "outputs": [],
   "source": [
    "Y_test2_pred = classifier.predict(X_test2)"
   ]
  },
  {
   "cell_type": "markdown",
   "metadata": {},
   "source": [
    "## Confusion Matrix and Classification Report"
   ]
  },
  {
   "cell_type": "code",
   "execution_count": 29,
   "metadata": {},
   "outputs": [
    {
     "name": "stdout",
     "output_type": "stream",
     "text": [
      "[[9 9]\n",
      " [0 0]\n",
      " [4 4]\n",
      " ...\n",
      " [9 9]\n",
      " [6 6]\n",
      " [5 5]]\n",
      "[[ 46   3   1   0   0   2   0   0   1   2]\n",
      " [  2 120   0   1   0   1   0   0   1   0]\n",
      " [  0   0   6   0   0   1   0   0   7   1]\n",
      " [  1   1   0  11   1   1   0   0   0   0]\n",
      " [  5   1   0   0  29   2   0   0   3  10]\n",
      " [  0   0   0   0   1  50   0   0   0   4]\n",
      " [  2   4   1   0   1   0   5   0   1   1]\n",
      " [  0   0   0   0   0   0   0  15   0   0]\n",
      " [  1   1   0   0   0   0   0   0  44   4]\n",
      " [  2   0   0   0   7   5   0   0   1 110]]\n",
      "              precision    recall  f1-score   support\n",
      "\n",
      "           0       0.78      0.84      0.81        55\n",
      "           1       0.92      0.96      0.94       125\n",
      "           2       0.75      0.40      0.52        15\n",
      "           3       0.92      0.73      0.81        15\n",
      "           4       0.74      0.58      0.65        50\n",
      "           5       0.81      0.91      0.85        55\n",
      "           6       1.00      0.33      0.50        15\n",
      "           7       1.00      1.00      1.00        15\n",
      "           8       0.76      0.88      0.81        50\n",
      "           9       0.83      0.88      0.86       125\n",
      "\n",
      "    accuracy                           0.84       520\n",
      "   macro avg       0.85      0.75      0.78       520\n",
      "weighted avg       0.84      0.84      0.83       520\n",
      "\n"
     ]
    }
   ],
   "source": [
    "from sklearn.metrics import classification_report\n",
    "\n",
    "print(np.concatenate((Y_test2_pred.reshape(len(Y_test2_pred),1), Y_test2_pred.reshape(len(Y_test2_pred),1)),1))\n",
    "cm2 = confusion_matrix(Y_test2, Y_test2_pred)\n",
    "print(cm2)\n",
    "cr2 = classification_report(Y_test2, Y_test2_pred)\n",
    "print(cr2)"
   ]
  },
  {
   "cell_type": "markdown",
   "metadata": {},
   "source": [
    "## Output file containing output classification"
   ]
  },
  {
   "cell_type": "code",
   "execution_count": 30,
   "metadata": {},
   "outputs": [],
   "source": [
    "pf = pd.DataFrame(cm2)\n",
    "pf.to_csv('Base-MLP-DS2.csv', header = None, index = None)"
   ]
  },
  {
   "cell_type": "markdown",
   "metadata": {},
   "source": [
    "# Best-MLP\n",
    "a better performing Multi-Layered Perceptron found by performing grid search to find the best combination of hyper-parameters. For this, you need to experiment with the following parameter values:\n",
    "* activation function: sigmoid, tanh, relu and identity \n",
    "* 2 network architectures of your choice: for eg 2 hidden layers with 30+50 nodes, 3 hidden layers with 10+10 \n",
    "* solver: Adam and stochastic gradient descent"
   ]
  },
  {
   "cell_type": "markdown",
   "metadata": {},
   "source": [
    "## Training the Perceptron model on Training Set"
   ]
  },
  {
   "cell_type": "markdown",
   "metadata": {},
   "source": [
    "## TOC:\n",
    "* [First Bullet Header](#first-bullet)\n",
    "* [Second Bullet Header](#second-bullet)"
   ]
  },
  {
   "cell_type": "code",
   "execution_count": 1,
   "metadata": {
    "scrolled": true
   },
   "outputs": [
    {
     "name": "stdout",
     "output_type": "stream",
     "text": [
      "Choose Data Set (1 or 2):1\n"
     ]
    },
    {
     "data": {
      "text/plain": [
       "GridSearchCV(estimator=MLPClassifier(),\n",
       "             param_grid={'activation': ['logistic', 'tanh', 'relu'],\n",
       "                         'hidden_layer_sizes': [(30, 50), (10, 10, 10)],\n",
       "                         'solver': ['adam', 'sgd']})"
      ]
     },
     "execution_count": 1,
     "metadata": {},
     "output_type": "execute_result"
    }
   ],
   "source": [
    "from sklearn.neural_network import MLPClassifier\n",
    "from sklearn.model_selection import GridSearchCV\n",
    "import numpy as np\n",
    "import pandas as pd\n",
    "import warnings\n",
    "warnings.filterwarnings(\"ignore\")\n",
    "\n",
    "ds = input('Choose Data Set (1 or 2):')\n",
    "\n",
    "#import data set according to selection\n",
    "dataset_train = pd.read_csv(\"dataset/train_\"+ds+\".csv\", header=None)\n",
    "dataset_val = pd.read_csv(\"dataset/val_\"+ds+\".csv\", header=None)\n",
    "dataset_test = pd.read_csv(\"dataset/test_no_label_\"+ds+\".csv\", header=None)\n",
    "dataset_test_with_label = pd.read_csv(\"dataset/test_with_label_\"+ds+\".csv\", header=None)\n",
    "\n",
    "# X = data, Y = target\n",
    "X_train = dataset_train.iloc[:, :-1].values\n",
    "Y_train = dataset_train.iloc[:, -1].values\n",
    "X_val = dataset_val.iloc[:, :-1].values\n",
    "Y_val = dataset_val.iloc[:, -1].values\n",
    "X_test = dataset_test.iloc[:, ].values\n",
    "Y_test = dataset_test_with_label.iloc[:,-1]\n",
    "\n",
    "param_grid = {\n",
    "    'hidden_layer_sizes': [(30,50,), (10,10,10,)],\n",
    "    'activation': ['logistic', 'tanh', 'relu'],\n",
    "    'solver': ['adam', 'sgd']\n",
    "}\n",
    "\n",
    "\n",
    "classifier = GridSearchCV(MLPClassifier(), param_grid)\n",
    "classifier.fit(X_train, Y_train)"
   ]
  },
  {
   "cell_type": "code",
   "execution_count": 2,
   "metadata": {},
   "outputs": [],
   "source": [
    "Y_val_pred = classifier.predict(X_val)"
   ]
  },
  {
   "cell_type": "code",
   "execution_count": 3,
   "metadata": {},
   "outputs": [
    {
     "name": "stdout",
     "output_type": "stream",
     "text": [
      "[[ 7  0  0  0  0  0  0  0  0  0  0  0  2  0  0  0  1  0  0  0  0  0  0  0\n",
      "   0  0]\n",
      " [ 0  5  0  0  0  1  0  0  0  1  0  0  0  0  0  0  1  0  0  0  0  0  0  0\n",
      "   1  0]\n",
      " [ 0  0  8  0  0  0  1  0  0  0  0  1  0  0  0  0  0  0  0  0  0  0  0  0\n",
      "   0  0]\n",
      " [ 0  0  0  7  0  0  0  0  0  0  0  0  0  0  1  0  0  0  0  0  0  0  0  0\n",
      "   0  0]\n",
      " [ 0  0  0  0  5  3  0  0  0  0  0  0  0  0  0  0  0  0  0  0  0  0  0  0\n",
      "   0  0]\n",
      " [ 0  0  0  0  0  6  0  0  0  0  0  0  0  0  0  2  0  0  0  0  0  0  0  0\n",
      "   0  0]\n",
      " [ 0  0  0  0  0  0  7  0  0  0  0  0  0  0  0  0  1  0  1  0  1  0  0  0\n",
      "   0  0]\n",
      " [ 0  0  0  0  0  0  0  6  0  0  0  0  2  0  0  1  0  0  0  0  0  0  0  0\n",
      "   0  0]\n",
      " [ 0  0  0  0  0  0  0  0 10  0  0  0  0  0  0  0  0  0  0  0  0  0  0  0\n",
      "   0  0]\n",
      " [ 1  0  0  0  0  0  0  0  2  7  0  0  0  0  0  0  0  0  0  0  0  0  0  0\n",
      "   0  0]\n",
      " [ 0  0  0  0  0  0  0  0  0  0  9  0  0  1  0  0  0  0  0  0  0  0  0  0\n",
      "   0  0]\n",
      " [ 0  0  0  0  0  0  0  0  0  0  0 10  0  0  0  0  0  0  0  0  0  0  0  0\n",
      "   0  0]\n",
      " [ 0  0  0  0  0  0  0  1  0  0  0  0  7  0  0  0  0  0  0  0  0  1  0  0\n",
      "   1  0]\n",
      " [ 1  0  0  0  0  0  0  1  0  0  0  0  0  7  0  0  0  0  0  0  0  0  0  1\n",
      "   0  0]\n",
      " [ 0  0  0  0  0  0  0  0  0  0  0  0  0  0  9  0  0  0  0  0  1  0  0  0\n",
      "   0  0]\n",
      " [ 0  0  0  0  0  0  0  0  0  0  0  0  0  0  0 10  0  0  0  0  0  0  0  0\n",
      "   0  0]\n",
      " [ 0  0  0  0  0  0  1  0  0  0  0  0  0  0  0  0  9  0  0  0  0  0  0  0\n",
      "   0  0]\n",
      " [ 0  0  0  0  0  0  0  0  0  0  0  0  0  0  0  0  0 10  0  0  0  0  0  0\n",
      "   0  0]\n",
      " [ 0  0  0  0  0  0  0  0  0  0  0  1  0  0  0  0  0  0  8  0  0  0  0  0\n",
      "   0  0]\n",
      " [ 0  0  0  0  0  1  0  0  0  0  0  0  0  0  0  0  0  0  0  7  0  0  0  0\n",
      "   0  0]\n",
      " [ 0  0  0  0  0  0  0  0  0  1  0  1  0  0  0  0  0  0  0  0  6  0  0  0\n",
      "   0  0]\n",
      " [ 0  0  0  0  0  0  0  0  0  0  0  0  0  3  0  0  0  0  0  0  1  4  0  0\n",
      "   0  0]\n",
      " [ 1  0  0  0  0  0  0  0  0  0  0  0  0  0  0  0  0  0  0  0  0  0  8  0\n",
      "   0  0]\n",
      " [ 1  0  0  0  0  0  0  0  0  0  0  0  0  0  0  0  0  0  0  0  0  0  1  6\n",
      "   0  0]\n",
      " [ 0  0  0  0  0  0  0  0  0  0  0  0  0  0  0  0  0  0  0  0  0  0  0  0\n",
      "   8  0]\n",
      " [ 0  0  0  0  0  0  0  0  0  0  0  0  0  0  0  0  0  0  0  0  0  0  0  0\n",
      "   0  9]]\n",
      "              precision    recall  f1-score   support\n",
      "\n",
      "           0       0.64      0.70      0.67        10\n",
      "           1       1.00      0.56      0.71         9\n",
      "           2       1.00      0.80      0.89        10\n",
      "           3       1.00      0.88      0.93         8\n",
      "           4       1.00      0.62      0.77         8\n",
      "           5       0.55      0.75      0.63         8\n",
      "           6       0.78      0.70      0.74        10\n",
      "           7       0.75      0.67      0.71         9\n",
      "           8       0.83      1.00      0.91        10\n",
      "           9       0.78      0.70      0.74        10\n",
      "          10       1.00      0.90      0.95        10\n",
      "          11       0.77      1.00      0.87        10\n",
      "          12       0.64      0.70      0.67        10\n",
      "          13       0.64      0.70      0.67        10\n",
      "          14       0.90      0.90      0.90        10\n",
      "          15       0.77      1.00      0.87        10\n",
      "          16       0.75      0.90      0.82        10\n",
      "          17       1.00      1.00      1.00        10\n",
      "          18       0.89      0.89      0.89         9\n",
      "          19       1.00      0.88      0.93         8\n",
      "          20       0.67      0.75      0.71         8\n",
      "          21       0.80      0.50      0.62         8\n",
      "          22       0.89      0.89      0.89         9\n",
      "          23       0.86      0.75      0.80         8\n",
      "          24       0.80      1.00      0.89         8\n",
      "          25       1.00      1.00      1.00         9\n",
      "\n",
      "    accuracy                           0.82       239\n",
      "   macro avg       0.83      0.81      0.81       239\n",
      "weighted avg       0.83      0.82      0.81       239\n",
      "\n"
     ]
    }
   ],
   "source": [
    "from sklearn.metrics import confusion_matrix, accuracy_score, classification_report\n",
    "cm = confusion_matrix(Y_val, Y_val_pred)\n",
    "print(cm)\n",
    "cr = classification_report(Y_val, Y_val_pred)\n",
    "print(cr)\n",
    "\n",
    "pd.DataFrame(Y_val_pred).to_csv('BEST-MLP-DS'+ds+'.csv', header = None)"
   ]
  },
  {
   "cell_type": "code",
   "execution_count": 4,
   "metadata": {},
   "outputs": [],
   "source": [
    "Y_test_pred = classifier.predict(X_test)"
   ]
  },
  {
   "cell_type": "code",
   "execution_count": 5,
   "metadata": {},
   "outputs": [
    {
     "name": "stdout",
     "output_type": "stream",
     "text": [
      "[[2 0 0 0 0 0 0 0 0 0 0 0 1 0 0 0 0 1 0 0 0 0 0 0 0 0]\n",
      " [0 2 0 0 0 0 0 0 0 0 0 0 0 0 0 0 0 0 0 0 0 0 0 0 0 0]\n",
      " [0 0 4 0 0 0 0 0 0 0 0 0 0 0 0 0 0 0 0 0 0 0 0 0 0 0]\n",
      " [0 0 0 3 0 0 0 0 0 0 0 0 0 0 0 0 0 0 0 0 0 0 0 0 0 0]\n",
      " [0 0 0 0 2 0 0 0 0 0 0 0 0 0 0 0 0 0 0 0 0 0 0 0 0 0]\n",
      " [0 0 0 0 0 1 0 0 0 0 0 0 0 0 0 1 0 0 0 0 0 0 0 0 0 0]\n",
      " [0 0 0 0 0 0 4 0 0 0 0 0 0 0 0 0 0 0 0 0 0 0 0 0 0 0]\n",
      " [1 0 0 0 0 0 0 2 0 0 0 0 0 0 0 0 0 0 0 0 0 0 0 0 0 0]\n",
      " [0 0 0 0 0 0 0 0 3 0 0 0 0 0 0 0 0 0 0 0 0 0 0 0 0 0]\n",
      " [0 0 0 0 0 0 0 0 1 2 0 0 0 0 0 0 0 0 0 1 0 0 0 0 0 0]\n",
      " [0 0 0 0 0 0 0 0 0 0 1 0 0 0 0 0 0 0 0 0 0 0 0 2 0 0]\n",
      " [0 0 0 0 0 0 0 0 0 0 0 3 0 0 0 0 0 0 0 0 0 0 0 0 0 1]\n",
      " [0 0 0 0 0 0 0 0 0 0 0 0 3 0 0 0 0 0 0 0 0 0 0 0 0 0]\n",
      " [0 0 0 0 0 0 0 0 0 0 0 1 0 3 0 0 0 0 0 0 0 0 0 0 0 0]\n",
      " [0 0 0 0 0 0 0 0 0 0 0 0 0 0 3 0 0 0 0 0 0 0 0 0 0 0]\n",
      " [0 0 0 0 0 0 0 0 0 0 0 0 0 0 0 3 0 0 0 0 0 0 0 0 0 0]\n",
      " [0 0 0 0 0 0 0 0 0 0 0 0 0 0 0 0 3 0 0 0 0 0 0 0 0 0]\n",
      " [0 0 0 0 0 0 0 0 0 0 1 0 0 0 0 0 0 3 0 0 0 0 0 0 0 0]\n",
      " [0 0 0 0 0 0 1 0 0 0 0 0 0 0 0 0 0 0 2 0 0 0 0 0 0 0]\n",
      " [0 0 0 0 0 0 0 0 0 0 0 0 0 0 0 0 0 0 0 2 0 0 0 0 0 0]\n",
      " [0 0 0 0 0 0 0 0 0 0 0 1 0 0 0 0 0 0 0 0 2 0 0 0 0 0]\n",
      " [0 0 0 0 0 0 0 0 0 0 0 0 0 0 0 0 0 0 0 0 1 2 0 0 0 0]\n",
      " [0 0 0 0 0 0 0 0 0 0 0 0 0 0 0 0 0 0 0 0 0 0 3 0 0 0]\n",
      " [0 0 0 0 0 0 0 0 0 0 0 0 0 0 0 0 0 0 0 0 0 0 0 2 0 0]\n",
      " [0 0 0 0 0 0 0 0 0 0 0 0 0 0 0 0 0 0 0 0 0 0 0 0 3 0]\n",
      " [0 0 0 0 0 0 0 0 0 0 0 0 1 0 0 0 0 0 0 0 0 0 0 0 0 2]]\n",
      "              precision    recall  f1-score   support\n",
      "\n",
      "           0       0.67      0.50      0.57         4\n",
      "           1       1.00      1.00      1.00         2\n",
      "           2       1.00      1.00      1.00         4\n",
      "           3       1.00      1.00      1.00         3\n",
      "           4       1.00      1.00      1.00         2\n",
      "           5       1.00      0.50      0.67         2\n",
      "           6       0.80      1.00      0.89         4\n",
      "           7       1.00      0.67      0.80         3\n",
      "           8       0.75      1.00      0.86         3\n",
      "           9       1.00      0.50      0.67         4\n",
      "          10       0.50      0.33      0.40         3\n",
      "          11       0.60      0.75      0.67         4\n",
      "          12       0.60      1.00      0.75         3\n",
      "          13       1.00      0.75      0.86         4\n",
      "          14       1.00      1.00      1.00         3\n",
      "          15       0.75      1.00      0.86         3\n",
      "          16       1.00      1.00      1.00         3\n",
      "          17       0.75      0.75      0.75         4\n",
      "          18       1.00      0.67      0.80         3\n",
      "          19       0.67      1.00      0.80         2\n",
      "          20       0.67      0.67      0.67         3\n",
      "          21       1.00      0.67      0.80         3\n",
      "          22       1.00      1.00      1.00         3\n",
      "          23       0.50      1.00      0.67         2\n",
      "          24       1.00      1.00      1.00         3\n",
      "          25       0.67      0.67      0.67         3\n",
      "\n",
      "    accuracy                           0.81        80\n",
      "   macro avg       0.84      0.82      0.81        80\n",
      "weighted avg       0.84      0.81      0.81        80\n",
      "\n"
     ]
    }
   ],
   "source": [
    "from sklearn.metrics import confusion_matrix, accuracy_score, classification_report\n",
    "cm = confusion_matrix(Y_test, Y_test_pred)\n",
    "print(cm)\n",
    "cr = classification_report(Y_test, Y_test_pred)\n",
    "print(cr)\n",
    "\n",
    "pd.DataFrame(Y_test_pred).to_csv('BEST-MLP-DS'+ds+'.csv', header = None)"
   ]
  }
 ],
 "metadata": {
  "colab": {
   "authorship_tag": "ABX9TyPqYdJSk+uj+0safFwOVmXO",
   "include_colab_link": true,
   "name": "Assignment_1.ipynb",
   "provenance": []
  },
  "kernelspec": {
   "display_name": "Python 3",
   "language": "python",
   "name": "python3"
  },
  "language_info": {
   "codemirror_mode": {
    "name": "ipython",
    "version": 3
   },
   "file_extension": ".py",
   "mimetype": "text/x-python",
   "name": "python",
   "nbconvert_exporter": "python",
   "pygments_lexer": "ipython3",
   "version": "3.7.4"
  }
 },
 "nbformat": 4,
 "nbformat_minor": 1
}
