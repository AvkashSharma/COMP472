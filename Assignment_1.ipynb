{
 "cells": [
  {
   "cell_type": "markdown",
   "metadata": {
    "colab_type": "text",
    "id": "view-in-github"
   },
   "source": [
    "<a href=\"https://colab.research.google.com/github/AvkashSharma/COMP472/blob/master/Assignment_1.ipynb\" target=\"_parent\"><img src=\"https://colab.research.google.com/assets/colab-badge.svg\" alt=\"Open In Colab\"/></a>"
   ]
  },
  {
   "cell_type": "markdown",
   "metadata": {
    "colab": {},
    "colab_type": "code",
    "id": "ADT9l1BDKGcQ"
   },
   "source": [
    "# Example Heading 1\n",
    "\n",
    "## Example Heading 1.1"
   ]
  },
  {
   "cell_type": "code",
   "execution_count": null,
   "metadata": {},
   "outputs": [],
   "source": [
    "import numpy as np\n",
    "import scipy.stats as st\n",
    "import sklearn.linear_model as lm\n",
    "import matplotlib.pyplot as plt\n",
    "%matplotlib inline\n",
    "\n",
    "print('testing jupyter')"
   ]
  },
  {
   "cell_type": "markdown",
   "metadata": {},
   "source": [
    "# GNB-DS1\n",
    "Gaussian Naive Bayes Classifier, with default parameter values"
   ]
  },
  {
   "cell_type": "markdown",
   "metadata": {},
   "source": [
    "# GNB-DS2\n",
    "Gaussian Naive Bayes Classifier, with default parameter values"
   ]
  },
  {
   "cell_type": "markdown",
   "metadata": {},
   "source": [
    "## GNB-DS1"
   ]
  },
  {
   "cell_type": "markdown",
   "metadata": {},
   "source": [
    "### Importing Libraries"
   ]
  },
  {
   "cell_type": "code",
   "execution_count": null,
   "metadata": {},
   "outputs": [],
   "source": [
    "import numpy as np\n",
    "import pandas as pd"
   ]
  },
  {
   "cell_type": "markdown",
   "metadata": {},
   "source": [
    "### Importing and Splitting the Dataset"
   ]
  },
  {
   "cell_type": "code",
   "execution_count": null,
   "metadata": {},
   "outputs": [],
   "source": [
    "dataset_train1 = pd.read_csv(\"dataset/train_1.csv\", header=None)\n",
    "dataset_validate1 = pd.read_csv(\"dataset/val_1.csv\",header=None)\n",
    "dataset_test1_no_label_1 = pd.read_csv(\"dataset/test_no_label_1.csv\",header=None)\n",
    "dataset_test1_with_label_1 = pd.read_csv(\"dataset/test_with_label_1.csv\",header=None)\n",
    "X_training_1 = dataset_train1.iloc[:, :-1].values\n",
    "Y_training_1 = dataset_train1.iloc[:, -1].values\n",
    "X_validate_1 = dataset_validate1.iloc[:, :-1].values\n",
    "Y_validate_1 = dataset_validate1.iloc[:, -1].values\n",
    "X_test1 = dataset_test1_no_label_1.iloc[:, ].values\n",
    "Y_test1 = dataset_test1_with_label_1.iloc[:,-1]"
   ]
  },
  {
   "cell_type": "markdown",
   "metadata": {},
   "source": [
    "### Training the Gaussian Naive Bayes model on the Training set"
   ]
  },
  {
   "cell_type": "code",
   "execution_count": null,
   "metadata": {},
   "outputs": [],
   "source": [
    "from sklearn.naive_bayes import GaussianNB\n",
    "classifier = GaussianNB()\n",
    "classifier.fit(X_training_1,Y_training_1)"
   ]
  },
  {
   "cell_type": "markdown",
   "metadata": {},
   "source": [
    "### Sample prediction using X_Validate_1"
   ]
  },
  {
   "cell_type": "code",
   "execution_count": null,
   "metadata": {},
   "outputs": [],
   "source": [
    "Y_validate1_pred = classifier.predict(X_validate_1)"
   ]
  },
  {
   "cell_type": "markdown",
   "metadata": {},
   "source": [
    "### Applying Classifier on Test set"
   ]
  },
  {
   "cell_type": "code",
   "execution_count": null,
   "metadata": {},
   "outputs": [],
   "source": [
    "Y_test1_pred = classifier.predict(X_test1)"
   ]
  },
  {
   "cell_type": "markdown",
   "metadata": {},
   "source": [
    "### Confusion Matrix"
   ]
  },
  {
   "cell_type": "code",
   "execution_count": null,
   "metadata": {},
   "outputs": [],
   "source": [
    "from sklearn.metrics import confusion_matrix, accuracy_score\n",
    "cm = confusion_matrix(Y_test1, Y_test1_pred)\n",
    "print(cm)\n",
    "accuracy_score(Y_test1, Y_test1_pred)"
   ]
  },
  {
   "cell_type": "markdown",
   "metadata": {},
   "source": [
    "### Output file containing output classification"
   ]
  },
  {
   "cell_type": "code",
   "execution_count": null,
   "metadata": {},
   "outputs": [],
   "source": [
    "pd.DataFrame(Y_test1_pred).to_csv('GNB-DS1.csv', header = None)"
   ]
  },
  {
   "cell_type": "markdown",
   "metadata": {},
   "source": [
    "## GNB-DS2"
   ]
  },
  {
   "cell_type": "markdown",
   "metadata": {},
   "source": [
    "### Importing and splitting the Dataset"
   ]
  },
  {
   "cell_type": "code",
   "execution_count": null,
   "metadata": {},
   "outputs": [],
   "source": [
    "dataset_train2 = pd.read_csv(\"dataset/train_2.csv\", header=None)\n",
    "dataset_validate2 = pd.read_csv(\"dataset/val_2.csv\",header=None)\n",
    "dataset_test1_no_label_2 = pd.read_csv(\"dataset/test_no_label_2.csv\",header=None)\n",
    "dataset_test1_with_label_2 = pd.read_csv(\"dataset/test_with_label_2.csv\",header=None)\n",
    "X_training_2 = dataset_train1.iloc[:, :-1].values\n",
    "Y_training_2 = dataset_train1.iloc[:, -1].values\n",
    "X_validate_2 = dataset_validate1.iloc[:, :-1].values\n",
    "Y_validate_2 = dataset_validate1.iloc[:, -1].values\n",
    "X_test2 = dataset_test1_no_label_2.iloc[:, ].values\n",
    "Y_test2 = dataset_test1_with_label_2.iloc[:,-1]"
   ]
  },
  {
   "cell_type": "markdown",
   "metadata": {},
   "source": [
    "### Training the Gaussian Naive Bayes model on the Training set"
   ]
  },
  {
   "cell_type": "code",
   "execution_count": null,
   "metadata": {},
   "outputs": [],
   "source": [
    "from sklearn.naive_bayes import GaussianNB\n",
    "classifier = GaussianNB()\n",
    "classifier.fit(X_training_2,Y_training_2)"
   ]
  },
  {
   "cell_type": "markdown",
   "metadata": {},
   "source": [
    "### Sample prediction using X_Validate_2"
   ]
  },
  {
   "cell_type": "code",
   "execution_count": null,
   "metadata": {},
   "outputs": [],
   "source": [
    "Y_validate2_pred = classifier.predict(X_validate_2)\n",
    "print(np.concatenate((Y_validate2_pred.reshape(len(Y_validate2_pred),1), Y_validate_2.reshape(len(Y_validate_2),1)),1))"
   ]
  },
  {
   "cell_type": "markdown",
   "metadata": {},
   "source": [
    "### Applying Classifier on Test sets"
   ]
  },
  {
   "cell_type": "code",
   "execution_count": null,
   "metadata": {},
   "outputs": [],
   "source": [
    "Y_test2_pred = classifier.predict(X_test2)"
   ]
  },
  {
   "cell_type": "markdown",
   "metadata": {},
   "source": [
    "### Confusion Matrix"
   ]
  },
  {
   "cell_type": "code",
   "execution_count": null,
   "metadata": {},
   "outputs": [],
   "source": [
    "from sklearn.metrics import confusion_matrix, accuracy_score\n",
    "cm = confusion_matrix(Y_test2, Y_test2_pred)\n",
    "print(cm)\n",
    "accuracy_score(Y_test2, Y_test2_pred)"
   ]
  },
  {
   "cell_type": "markdown",
   "metadata": {},
   "source": [
    "### Output file containing output classification"
   ]
  },
  {
   "cell_type": "code",
   "execution_count": null,
   "metadata": {},
   "outputs": [],
   "source": [
    "pd.DataFrame(Y_test2_pred).to_csv('GNB-DS2.csv', header = None)"
   ]
  },
  {
   "cell_type": "markdown",
   "metadata": {},
   "source": [
    "# -------------------Base-DT-DS1-------------------\n",
    "a baseline Decision Tree using entropy as decision criterion and using default values values for the rest of the parameters"
   ]
  },
  {
   "cell_type": "markdown",
   "metadata": {},
   "source": [
    "## Importing and Splitting the dataset"
   ]
  },
  {
   "cell_type": "code",
   "execution_count": null,
   "metadata": {},
   "outputs": [],
   "source": [
    "dataset_train1 = pd.read_csv(\"dataset/train_1.csv\", header=None)\n",
    "dataset_validate1 = pd.read_csv(\"dataset/val_1.csv\",header=None)\n",
    "dataset_test1_no_label_1 = pd.read_csv(\"dataset/test_no_label_1.csv\",header=None)\n",
    "dataset_test1_with_label_1 = pd.read_csv(\"dataset/test_with_label_1.csv\",header=None)\n",
    "X_training_1 = dataset_train1.iloc[:, :-1].values\n",
    "Y_training_1 = dataset_train1.iloc[:, -1].values\n",
    "X_validate_1 = dataset_validate1.iloc[:, :-1].values\n",
    "Y_validate_1 = dataset_validate1.iloc[:, -1].values\n",
    "X_test1 = dataset_test1_no_label_1.iloc[:, ].values\n",
    "Y_test1 = dataset_test1_with_label_1.iloc[:,-1]"
   ]
  },
  {
   "cell_type": "markdown",
   "metadata": {},
   "source": [
    "## Training the DT model on the Training set"
   ]
  },
  {
   "cell_type": "code",
   "execution_count": null,
   "metadata": {},
   "outputs": [],
   "source": [
    "from sklearn.tree import DecisionTreeClassifier\n",
    "classifier = DecisionTreeClassifier(criterion='entropy')\n",
    "classifier.fit(X_training_1,Y_training_1)"
   ]
  },
  {
   "cell_type": "markdown",
   "metadata": {},
   "source": [
    "# -------------------Base-DT-DS2-------------------"
   ]
  },
  {
   "cell_type": "markdown",
   "metadata": {},
   "source": [
    "## Importing and Splitting the dataset"
   ]
  },
  {
   "cell_type": "code",
   "execution_count": null,
   "metadata": {},
   "outputs": [],
   "source": [
    "dataset_train2 = pd.read_csv(\"dataset/train_2.csv\", header=None)\n",
    "dataset_validate2 = pd.read_csv(\"dataset/val_2.csv\",header=None)\n",
    "dataset_test2_no_label_2 = pd.read_csv(\"dataset/test_no_label_2.csv\",header=None)\n",
    "dataset_test2_with_label_2 = pd.read_csv(\"dataset/test_with_label_2.csv\",header=None)\n",
    "X_training_2 = dataset_train2.iloc[:, :-1].values\n",
    "Y_training_2 = dataset_train2.iloc[:, -1].values\n",
    "X_validate_2 = dataset_validate2.iloc[:, :-1].values\n",
    "Y_validate_2 = dataset_validate2.iloc[:, -1].values\n",
    "X_test2 = dataset_test2_no_label_2.iloc[:, ].values\n",
    "Y_test2 = dataset_test2_with_label_2.iloc[:,-1]"
   ]
  },
  {
   "cell_type": "markdown",
   "metadata": {},
   "source": [
    "## Training the DT model on the Training set"
   ]
  },
  {
   "cell_type": "code",
   "execution_count": null,
   "metadata": {},
   "outputs": [],
   "source": [
    "classifier.fit(X_training_2,Y_training_2)"
   ]
  },
  {
   "cell_type": "markdown",
   "metadata": {},
   "source": [
    "# -------------------Best-DT-------------------\n",
    "a better performing Decision Tree found by performing grid search to find the best combination of hyper-parameters. For this, you need to experiment with the following parameter values:\n",
    "* splitting criterion: gini and entropy\n",
    "* maximum depth of the tree: 10 and no maximum\n",
    "* minimum number of samples to split an internal node: experiment with values of your choice\n",
    "* minimum impurity decrease: experiment with values of your choice\n",
    "* class weight: None and balanced"
   ]
  },
  {
   "cell_type": "markdown",
   "metadata": {},
   "source": [
    "## Training the DT model on the Training set"
   ]
  },
  {
   "cell_type": "code",
   "execution_count": null,
   "metadata": {},
   "outputs": [],
   "source": [
    "from sklearn.tree import export_graphviz\n",
    "from sklearn.model_selection   import GridSearchCV, cross_val_score\n",
    "from sklearn.model_selection import cross_val_score\n",
    "\n",
    "\n",
    "tree_para = {'criterion':['gini','entropy'],'max_depth':[10],'min_impurity_decrease':[0,1.0,2.0,3.0,4.0,5.0],'min_samples_split':[2,4,6,8]}\n",
    "classifier_Best_DT = GridSearchCV(DecisionTreeClassifier(), tree_para)\n",
    "classifier_Best_DT.fit(X_training_1, Y_training_1)\n",
    "classifier_Best_DT.best_estimator_\n",
    "\n",
    "classifier = DecisionTreeClassifier(criterion='entropy', max_depth=10,\n",
    "                       min_impurity_decrease=0, min_samples_split=4)\n",
    "classifier.fit(X_training_1,Y_training_1)\n"
   ]
  },
  {
   "cell_type": "code",
   "execution_count": null,
   "metadata": {},
   "outputs": [],
   "source": [
    "classifier = DecisionTreeClassifier(criterion='entropy', max_depth=10,\n",
    "                       min_impurity_decrease=0, min_samples_split=4)\n",
    "classifier.fit(X_training_1,Y_training_1)"
   ]
  },
  {
   "cell_type": "markdown",
   "metadata": {},
   "source": [
    "## Sample prediction using X_Validate_1"
   ]
  },
  {
   "cell_type": "code",
   "execution_count": null,
   "metadata": {},
   "outputs": [],
   "source": [
    "validate1_pred = classifier.predict(X_validate_1)"
   ]
  },
  {
   "cell_type": "markdown",
   "metadata": {},
   "source": [
    "## Applying Classifier on Test set"
   ]
  },
  {
   "cell_type": "code",
   "execution_count": null,
   "metadata": {},
   "outputs": [],
   "source": [
    "Y_test1_pred = classifier.predict(X_test1)"
   ]
  },
  {
   "cell_type": "markdown",
   "metadata": {},
   "source": [
    "## Confusion Matrix and Classification Report"
   ]
  },
  {
   "cell_type": "code",
   "execution_count": null,
   "metadata": {},
   "outputs": [],
   "source": [
    "cm = confusion_matrix(Y_test1, Y_test1_pred)\n",
    "print(cm)\n",
    "cr = classification_report(Y_test1, Y_test1_pred)\n",
    "print(cr)"
   ]
  },
  {
   "cell_type": "markdown",
   "metadata": {},
   "source": [
    "## Output file containing output classification"
   ]
  },
  {
   "cell_type": "code",
   "execution_count": null,
   "metadata": {},
   "outputs": [],
   "source": [
    "pf = pd.DataFrame(cm)\n",
    "pf.to_csv('Best-DT-DS1.csv', header = None, index = None)"
   ]
  },
  {
   "cell_type": "markdown",
   "metadata": {},
   "source": [
    "# -------------------Best-DT2-------------------"
   ]
  },
  {
   "cell_type": "markdown",
   "metadata": {},
   "source": [
    "## Training the DT model on the Training set"
   ]
  },
  {
   "cell_type": "code",
   "execution_count": null,
   "metadata": {},
   "outputs": [],
   "source": [
    "from sklearn.tree import export_graphviz\n",
    "from sklearn.model_selection   import GridSearchCV, cross_val_score\n",
    "from sklearn.model_selection import cross_val_score\n",
    "\n",
    "\n",
    "tree_para2 = {'criterion':['gini','entropy'],'max_depth':[10],'min_impurity_decrease':[0,1.0,2.0,3.0,4.0,5.0],'min_samples_split':[2,4,6,8]}\n",
    "classifier_Best_DT2 = GridSearchCV(DecisionTreeClassifier(), tree_para2)\n",
    "classifier_Best_DT2.fit(X_training_2, Y_training_2)\n",
    "classifier_Best_DT2.best_estimator_\n",
    "\n",
    "classifier = DecisionTreeClassifier(criterion='entropy', max_depth=10,\n",
    "                       min_impurity_decrease=0, min_samples_split=4)\n",
    "classifier.fit(X_training_2,Y_training_2)\n"
   ]
  },
  {
   "cell_type": "code",
   "execution_count": null,
   "metadata": {},
   "outputs": [],
   "source": [
    "classifier = DecisionTreeClassifier(criterion='entropy', max_depth=10,\n",
    "                       min_impurity_decrease=0, min_samples_split=4)\n",
    "classifier.fit(X_training_2,Y_training_2)"
   ]
  },
  {
   "cell_type": "markdown",
   "metadata": {},
   "source": [
    "## Sample prediction using X_Validate_2"
   ]
  },
  {
   "cell_type": "code",
   "execution_count": null,
   "metadata": {},
   "outputs": [],
   "source": [
    "validate2_pred = classifier.predict(X_validate_2)"
   ]
  },
  {
   "cell_type": "markdown",
   "metadata": {},
   "source": [
    "## Applying Classifier on Test set"
   ]
  },
  {
   "cell_type": "code",
   "execution_count": null,
   "metadata": {},
   "outputs": [],
   "source": [
    "Y_test2_pred = classifier.predict(X_test2)"
   ]
  },
  {
   "cell_type": "markdown",
   "metadata": {},
   "source": [
    "## Confusion Matrix and Classification Report"
   ]
  },
  {
   "cell_type": "code",
   "execution_count": null,
   "metadata": {},
   "outputs": [],
   "source": [
    "cm2 = confusion_matrix(Y_test2, Y_test2_pred)\n",
    "print(cm2)\n",
    "cr2 = classification_report(Y_test2, Y_test2_pred)\n",
    "print(cr2)"
   ]
  },
  {
   "cell_type": "markdown",
   "metadata": {},
   "source": [
    "## Output file containing output classification"
   ]
  },
  {
   "cell_type": "code",
   "execution_count": null,
   "metadata": {},
   "outputs": [],
   "source": [
    "pf = pd.DataFrame(cm2)\n",
    "pf.to_csv('Best-DT-DS2.csv', header = None, index = None)"
   ]
  },
  {
   "cell_type": "markdown",
   "metadata": {},
   "source": [
    "# Perceptron\n",
    " a Perceptron, with default parameter values"
   ]
  },
  {
   "cell_type": "markdown",
   "metadata": {},
   "source": [
    "#### Training the Perceptron model on Training Set"
   ]
  },
  {
   "cell_type": "code",
   "execution_count": null,
   "metadata": {},
   "outputs": [],
   "source": [
    "from sklearn.linear_model import Perceptron\n",
    "import numpy as np\n",
    "import pandas as pd\n",
    "\n",
    "ds = input('Choose Data Set (1 or 2):')\n",
    "\n",
    "#import data set according to selection\n",
    "dataset_train = pd.read_csv(\"dataset/train_\"+ds+\".csv\", header=None)\n",
    "dataset_val = pd.read_csv(\"dataset/val_\"+ds+\".csv\", header=None)\n",
    "dataset_test = pd.read_csv(\"dataset/test_no_label_\"+ds+\".csv\", header=None)\n",
    "dataset_test_with_label = pd.read_csv(\"dataset/test_with_label_\"+ds+\".csv\", header=None)\n",
    "\n",
    "# X = data, Y = target\n",
    "X_train = dataset_train.iloc[:, :-1].values\n",
    "Y_train = dataset_train.iloc[:, -1].values\n",
    "X_val = dataset_val.iloc[:, :-1].values\n",
    "Y_val = dataset_val.iloc[:, -1].values\n",
    "X_test = dataset_test.iloc[:, ].values\n",
    "Y_test = dataset_test_with_label.iloc[:,-1]\n",
    "\n",
    "#train model\n",
    "perClass = Perceptron()\n",
    "perClass.fit(X_train, Y_train)"
   ]
  },
  {
   "cell_type": "markdown",
   "metadata": {},
   "source": [
    "#### Predict using Validate set"
   ]
  },
  {
   "cell_type": "code",
   "execution_count": null,
   "metadata": {},
   "outputs": [],
   "source": [
    "Y_val_pred = perClass.predict(X_val)"
   ]
  },
  {
   "cell_type": "markdown",
   "metadata": {},
   "source": [
    "#### Predict using Test set"
   ]
  },
  {
   "cell_type": "code",
   "execution_count": null,
   "metadata": {},
   "outputs": [],
   "source": [
    "Y_test_pred = perClass.predict(X_test)"
   ]
  },
  {
   "cell_type": "markdown",
   "metadata": {},
   "source": [
    "#### Confusion Matrix"
   ]
  },
  {
   "cell_type": "code",
   "execution_count": null,
   "metadata": {},
   "outputs": [],
   "source": [
    "from sklearn.metrics import confusion_matrix, accuracy_score, classification_report\n",
    "cm = confusion_matrix(Y_test, Y_test_pred)\n",
    "print(cm)\n",
    "cr = classification_report(Y_test, Y_test_pred)\n",
    "print(cr)\n",
    "\n",
    "pd.DataFrame(Y_test_pred).to_csv('PER-DS'+ds+'.csv', header = None)"
   ]
  },
  {
   "cell_type": "markdown",
   "metadata": {},
   "source": [
    "# Base-MLP\n",
    "a baseline Multi-Layered Perceptron with 1 hidden layer of100 neurons, sigmoid/logistic as activation function, stochastic gradient descent, and default values for the rest of the parameters."
   ]
  },
  {
   "cell_type": "markdown",
   "metadata": {},
   "source": [
    "# Best-MLP\n",
    "a better performing Multi-Layered Perceptron found by performing grid search to find the best combination of hyper-parameters. For this, you need to experiment with the following parameter values:\n",
    "* activation function: sigmoid, tanh, relu and identity \n",
    "* 2 network architectures of your choice: for eg 2 hidden layers with 30+50 nodes, 3 hidden layers with 10+10 \n",
    "* solver: Adam and stochastic gradient descent"
   ]
  },
  {
   "cell_type": "markdown",
   "metadata": {},
   "source": [
    "## Training the Perceptron model on Training Set"
   ]
  },
  {
   "cell_type": "code",
   "execution_count": null,
   "metadata": {},
   "outputs": [],
   "source": [
    "from sklearn.neural_network import MLPClassifier\n",
    "from sklearn.model_selection import GridSearchCV\n",
    "import numpy as np\n",
    "import pandas as pd\n",
    "\n",
    "ds = input('Choose Data Set (1 or 2):')\n",
    "\n",
    "#import data set according to selection\n",
    "dataset_train = pd.read_csv(\"dataset/train_\"+ds+\".csv\", header=None)\n",
    "dataset_val = pd.read_csv(\"dataset/val_\"+ds+\".csv\", header=None)\n",
    "dataset_test = pd.read_csv(\"dataset/test_no_label_\"+ds+\".csv\", header=None)\n",
    "dataset_test_with_label = pd.read_csv(\"dataset/test_with_label_\"+ds+\".csv\", header=None)\n",
    "\n",
    "# X = data, Y = target\n",
    "X_train = dataset_train.iloc[:, :-1].values\n",
    "Y_train = dataset_train.iloc[:, -1].values\n",
    "X_val = dataset_val.iloc[:, :-1].values\n",
    "Y_val = dataset_val.iloc[:, -1].values\n",
    "X_test = dataset_test.iloc[:, ].values\n",
    "Y_test = dataset_test_with_label.iloc[:,-1]\n",
    "\n",
    "params1 = {\n",
    "    'hidden_layer_sizes': [100,],\n",
    "    'activation': ['identity', 'logistic', 'tanh', 'relu'],\n",
    "    'solver': ['sgd', 'adam'],\n",
    "    'alpha': [0.0001, 0.05],\n",
    "    'learning_rate': ['constant','adaptive'],\n",
    "}\n",
    "\n",
    "params = {\n",
    "    'hidden_layer_sizes': 100,\n",
    "    'activation': 'identity',\n",
    "    'solver': 'sgd',\n",
    "    'alpha': 0.0001,\n",
    "    'learning_rate': 'constant',\n",
    "}\n",
    "\n",
    "mlp_classifier = MLPClassifier()\n",
    "\n",
    "classifier = GridSearchCV(mlp_classifier, params)\n",
    "classifier.fit(X_train, Y_train)"
   ]
  },
  {
   "cell_type": "code",
   "execution_count": null,
   "metadata": {},
   "outputs": [],
   "source": [
    "Y_val_pred = perClass.predict(X_val)"
   ]
  },
  {
   "cell_type": "code",
   "execution_count": null,
   "metadata": {},
   "outputs": [],
   "source": [
    "from sklearn.metrics import confusion_matrix, accuracy_score, classification_report\n",
    "cm = confusion_matrix(Y_test, Y_test_pred)\n",
    "print(cm)\n",
    "cr = classification_report(Y_test, Y_test_pred)\n",
    "print(cr)\n",
    "\n",
    "pd.DataFrame(Y_test_pred).to_csv('BEST-MLP-DS'+ds+'.csv', header = None)"
   ]
  }
 ],
 "metadata": {
  "colab": {
   "authorship_tag": "ABX9TyPqYdJSk+uj+0safFwOVmXO",
   "include_colab_link": true,
   "name": "Assignment_1.ipynb",
   "provenance": []
  },
  "kernelspec": {
   "display_name": "Python 3",
   "language": "python",
   "name": "python3"
  }
 },
 "nbformat": 4,
 "nbformat_minor": 1
}
