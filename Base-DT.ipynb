{
 "cells": [
  {
   "cell_type": "markdown",
   "metadata": {},
   "source": [
    "# Base-DT\n",
    "A baseline Decision Tree using entropy as decision criterion and using default values values\n",
    "for the rest of the parameters."
   ]
  },
  {
   "cell_type": "markdown",
   "metadata": {},
   "source": [
    "# Base-DT-DS1"
   ]
  },
  {
   "cell_type": "markdown",
   "metadata": {},
   "source": [
    "#### Import libraries"
   ]
  },
  {
   "cell_type": "code",
   "execution_count": 1,
   "metadata": {},
   "outputs": [],
   "source": [
    "import numpy as np\n",
    "import pandas as pd\n",
    "from sklearn.tree import DecisionTreeClassifier"
   ]
  },
  {
   "cell_type": "markdown",
   "metadata": {},
   "source": [
    "#### Import data"
   ]
  },
  {
   "cell_type": "code",
   "execution_count": 2,
   "metadata": {},
   "outputs": [],
   "source": [
    "# Import dataset according to selection\n",
    "dataset_train1 = pd.read_csv(\"dataset/train_1.csv\", header=None)\n",
    "dataset_val1 = pd.read_csv(\"dataset/val_1.csv\",header=None)\n",
    "dataset_test1 = pd.read_csv(\"dataset/test_no_label_1.csv\",header=None)\n",
    "dataset_test1_with_label = pd.read_csv(\"dataset/test_with_label_1.csv\",header=None)\n",
    "\n",
    "# X = data, Y = target \n",
    "X_train1 = dataset_train1.iloc[:, :-1].values\n",
    "Y_train1 = dataset_train1.iloc[:, -1].values\n",
    "X_val1 = dataset_val1.iloc[:, :-1].values\n",
    "Y_val1 = dataset_val1.iloc[:, -1].values\n",
    "X_test1 = dataset_test1.iloc[:, ].values\n",
    "Y_test1 = dataset_test1_with_label.iloc[:,-1]"
   ]
  },
  {
   "cell_type": "markdown",
   "metadata": {},
   "source": [
    "#### Train Model"
   ]
  },
  {
   "cell_type": "code",
   "execution_count": 4,
   "metadata": {},
   "outputs": [
    {
     "data": {
      "text/plain": [
       "DecisionTreeClassifier(class_weight=None, criterion='entropy', max_depth=None,\n",
       "                       max_features=None, max_leaf_nodes=None,\n",
       "                       min_impurity_decrease=0.0, min_impurity_split=None,\n",
       "                       min_samples_leaf=1, min_samples_split=2,\n",
       "                       min_weight_fraction_leaf=0.0, presort=False,\n",
       "                       random_state=0, splitter='best')"
      ]
     },
     "execution_count": 4,
     "metadata": {},
     "output_type": "execute_result"
    }
   ],
   "source": [
    "classifier1 = DecisionTreeClassifier(criterion='entropy',random_state=0)\n",
    "classifier1.fit(X_train1,Y_train1)"
   ]
  },
  {
   "cell_type": "markdown",
   "metadata": {},
   "source": [
    "#### VALIDATE - Predict using Validation Data"
   ]
  },
  {
   "cell_type": "code",
   "execution_count": 5,
   "metadata": {},
   "outputs": [],
   "source": [
    "Y_val1_pred = classifier1.predict(X_val1)"
   ]
  },
  {
   "cell_type": "markdown",
   "metadata": {},
   "source": [
    "#### VALIDATE - Output - Confusion matrix validate Set"
   ]
  },
  {
   "cell_type": "code",
   "execution_count": 7,
   "metadata": {},
   "outputs": [
    {
     "name": "stdout",
     "output_type": "stream",
     "text": [
      "[ 9 17 10 12  1 13 15  9 18 15  9 25 22 15  9 24  6  8 20 15 19  9 25 23\n",
      " 24 12 15 18 20 15 15 20 20  0  0  1 10 22  8 22  9 19 18 20  8 19 14 22\n",
      " 21  2 10 23 12  7 16 11  2  0 20 14 11  7 25 13 13  6 25  4 22 11  1 17\n",
      "  3  4  7  6  3  6 25  3 12 20  9  5  7  6  0 19 14  8 18 10 25  5  9  5\n",
      "  2  0  6 10  6 20 10 13  0 24  6 16 23 13  2 18 11 14 23 21 20  3  6 25\n",
      "  0 15 11 15 15 11 14  7 25 12 20 16 17  4 15 19 22 10 23 13 10  8 18  3\n",
      " 14  6  6  4  3 20 22 25 12 25 10  1  4  0 20 10 21  5  0 12 23  2 11 13\n",
      " 10  6  5 22 11 25 16 15 20 19  0 18 11  0  4  5 24  6 11 24 16  0 13  8\n",
      " 22  4  9 10  2 10 16 19  8  3 23  0 10  5  9  2  2  0 18 20 10 14 21  2\n",
      "  8  3 15 21  0 24  2  7 24 25 25  9 19 25  3 11 21 10 13 24  2  8  5]\n",
      "[[9 0 0 0 0 0 0 0 0 0 1 0 0 0 0 0 0 0 0 0 0 0 0 0 0 0]\n",
      " [0 1 0 2 1 1 0 0 0 1 0 0 0 0 0 0 0 0 0 1 0 0 0 0 0 2]\n",
      " [0 0 8 0 0 0 1 0 0 0 0 0 0 1 0 0 0 0 0 0 0 0 0 0 0 0]\n",
      " [0 0 0 3 0 0 0 0 0 2 0 1 0 0 0 0 0 0 0 0 1 0 0 0 0 1]\n",
      " [0 0 0 0 3 1 0 0 0 0 0 1 0 0 0 1 1 0 0 0 0 0 0 0 0 1]\n",
      " [0 0 1 0 0 2 1 0 0 0 2 0 0 0 0 0 0 0 0 1 0 0 0 0 0 1]\n",
      " [1 0 1 0 0 0 4 1 0 0 0 1 0 0 0 0 0 0 1 0 1 0 0 0 0 0]\n",
      " [1 0 0 0 0 0 0 4 1 0 1 0 0 0 0 0 0 0 0 0 2 0 0 0 0 0]\n",
      " [1 0 0 1 0 0 0 0 5 1 0 0 0 0 0 0 0 1 0 0 0 1 0 0 0 0]\n",
      " [0 1 0 1 2 0 0 0 0 2 0 1 0 0 0 1 1 0 0 1 0 0 0 0 0 0]\n",
      " [1 1 0 0 0 0 0 0 0 0 6 0 0 0 0 0 0 0 0 0 1 0 0 0 1 0]\n",
      " [0 0 0 0 0 0 0 0 0 0 0 7 0 1 0 0 0 0 0 0 1 1 0 0 0 0]\n",
      " [0 0 0 0 0 0 0 0 1 0 1 0 5 0 0 0 0 0 0 1 0 0 0 1 0 1]\n",
      " [0 0 0 0 0 0 1 1 0 0 2 0 0 2 0 0 0 0 0 0 0 1 1 1 1 0]\n",
      " [0 0 0 1 0 0 1 0 0 0 0 0 0 0 5 0 0 0 1 0 1 0 0 0 0 1]\n",
      " [0 0 0 0 1 1 0 0 2 0 0 0 0 0 0 5 0 0 1 0 0 0 0 0 0 0]\n",
      " [0 0 1 0 0 1 0 0 0 0 0 0 0 1 1 2 3 0 1 0 0 0 0 0 0 0]\n",
      " [0 1 0 1 0 0 0 0 0 0 0 0 0 0 0 4 0 2 0 0 0 0 0 0 0 2]\n",
      " [0 0 0 0 0 0 4 0 0 0 0 0 0 0 0 0 1 0 3 1 0 0 0 0 0 0]\n",
      " [0 0 0 0 0 0 0 0 0 2 0 0 0 0 0 0 0 0 1 3 0 0 0 0 0 2]\n",
      " [0 0 0 0 0 0 0 0 0 0 0 0 1 0 0 0 0 0 0 0 7 0 0 0 0 0]\n",
      " [0 0 0 0 0 0 1 0 0 0 1 0 0 2 0 0 0 0 0 0 0 1 2 1 0 0]\n",
      " [0 0 0 0 0 0 0 0 0 0 1 0 1 0 0 0 0 0 0 0 0 0 5 1 1 0]\n",
      " [1 0 0 0 0 0 0 0 0 0 0 0 0 2 0 0 0 0 0 0 0 0 1 3 0 1]\n",
      " [1 0 0 0 0 0 0 0 0 0 0 0 0 0 0 0 0 0 0 0 0 2 0 0 5 0]\n",
      " [0 0 0 0 0 2 0 0 0 3 1 0 0 0 1 0 0 0 0 0 0 0 0 0 0 2]]\n",
      "              precision    recall  f1-score   support\n",
      "\n",
      "           0       0.60      0.90      0.72        10\n",
      "           1       0.25      0.11      0.15         9\n",
      "           2       0.73      0.80      0.76        10\n",
      "           3       0.33      0.38      0.35         8\n",
      "           4       0.43      0.38      0.40         8\n",
      "           5       0.25      0.25      0.25         8\n",
      "           6       0.31      0.40      0.35        10\n",
      "           7       0.67      0.44      0.53         9\n",
      "           8       0.56      0.50      0.53        10\n",
      "           9       0.18      0.20      0.19        10\n",
      "          10       0.38      0.60      0.46        10\n",
      "          11       0.64      0.70      0.67        10\n",
      "          12       0.71      0.50      0.59        10\n",
      "          13       0.22      0.20      0.21        10\n",
      "          14       0.71      0.50      0.59        10\n",
      "          15       0.38      0.50      0.43        10\n",
      "          16       0.50      0.30      0.37        10\n",
      "          17       0.67      0.20      0.31        10\n",
      "          18       0.38      0.33      0.35         9\n",
      "          19       0.38      0.38      0.38         8\n",
      "          20       0.50      0.88      0.64         8\n",
      "          21       0.17      0.12      0.14         8\n",
      "          22       0.56      0.56      0.56         9\n",
      "          23       0.43      0.38      0.40         8\n",
      "          24       0.62      0.62      0.62         8\n",
      "          25       0.14      0.22      0.17         9\n",
      "\n",
      "    accuracy                           0.44       239\n",
      "   macro avg       0.45      0.44      0.43       239\n",
      "weighted avg       0.45      0.44      0.43       239\n",
      "\n"
     ]
    }
   ],
   "source": [
    "from sklearn.metrics import confusion_matrix, accuracy_score, classification_report\n",
    "cm_val = confusion_matrix(Y_val1, Y_val1_pred)\n",
    "cr_val = classification_report(Y_val1, Y_val1_pred)\n",
    "print(Y_val1_pred)\n",
    "print(cm_val)\n",
    "print(cr_val)"
   ]
  },
  {
   "cell_type": "markdown",
   "metadata": {},
   "source": [
    "#### TEST - Predict using Test Set"
   ]
  },
  {
   "cell_type": "code",
   "execution_count": 8,
   "metadata": {},
   "outputs": [],
   "source": [
    "Y_test1_pred = classifier1.predict(X_test1)"
   ]
  },
  {
   "cell_type": "markdown",
   "metadata": {},
   "source": [
    "#### TEST - Output - Confusion matrix Test Set"
   ]
  },
  {
   "cell_type": "code",
   "execution_count": 10,
   "metadata": {},
   "outputs": [
    {
     "name": "stdout",
     "output_type": "stream",
     "text": [
      "[[3 0 0 0 0 0 0 0 0 0 0 0 1 0 0 0 0 0 0 0 0 0 0 0 0 0]\n",
      " [0 0 0 0 1 0 0 0 0 0 0 0 0 0 0 1 0 0 0 0 0 0 0 0 0 0]\n",
      " [0 0 3 0 0 0 1 0 0 0 0 0 0 0 0 0 0 0 0 0 0 0 0 0 0 0]\n",
      " [0 1 0 1 0 0 0 0 0 0 0 0 0 0 0 1 0 0 0 0 0 0 0 0 0 0]\n",
      " [0 0 0 0 1 0 0 0 0 0 0 0 0 0 0 0 0 0 0 0 0 0 0 0 0 1]\n",
      " [0 0 0 0 0 1 0 0 0 0 0 0 0 0 0 1 0 0 0 0 0 0 0 0 0 0]\n",
      " [1 0 2 0 0 0 1 0 0 0 0 0 0 0 0 0 0 0 0 0 0 0 0 0 0 0]\n",
      " [0 0 0 0 0 0 0 1 0 0 0 0 1 0 0 0 0 0 0 0 0 0 1 0 0 0]\n",
      " [0 0 0 1 0 0 0 0 1 0 0 0 0 0 0 0 0 0 0 0 0 1 0 0 0 0]\n",
      " [0 0 0 0 0 0 0 0 0 3 0 0 0 0 0 0 0 0 0 1 0 0 0 0 0 0]\n",
      " [0 0 0 0 0 0 0 0 0 0 0 0 0 0 0 0 0 0 0 0 1 1 0 0 1 0]\n",
      " [0 0 0 0 0 0 0 0 0 0 0 3 0 0 0 0 0 0 0 0 1 0 0 0 0 0]\n",
      " [0 0 0 0 0 0 0 0 0 0 0 0 0 0 0 0 0 0 0 0 0 0 1 0 2 0]\n",
      " [0 0 0 0 0 0 0 0 0 0 0 0 1 2 0 0 0 0 0 0 0 1 0 0 0 0]\n",
      " [0 0 0 0 0 0 0 0 0 0 0 0 0 0 3 0 0 0 0 0 0 0 0 0 0 0]\n",
      " [0 0 0 0 0 0 0 0 0 1 0 0 0 0 0 1 1 0 0 0 0 0 0 0 0 0]\n",
      " [0 0 0 0 1 0 0 0 0 0 0 0 0 0 0 1 1 0 0 0 0 0 0 0 0 0]\n",
      " [0 0 0 0 0 1 1 0 0 0 0 0 0 0 0 0 0 2 0 0 0 0 0 0 0 0]\n",
      " [0 0 1 0 0 0 0 0 0 0 0 0 0 0 0 0 0 0 2 0 0 0 0 0 0 0]\n",
      " [0 0 0 0 0 0 0 0 0 0 0 0 0 0 1 0 0 0 0 1 0 0 0 0 0 0]\n",
      " [0 0 0 0 0 0 0 0 0 0 0 0 0 0 0 0 0 0 0 0 3 0 0 0 0 0]\n",
      " [0 0 0 0 0 0 0 0 0 0 0 0 0 0 0 0 0 0 0 0 0 2 1 0 0 0]\n",
      " [1 0 0 0 0 0 0 0 0 0 0 0 0 1 0 0 0 0 0 0 0 0 1 0 0 0]\n",
      " [0 0 0 0 0 0 0 0 0 0 0 0 0 1 0 0 0 0 0 0 0 0 0 1 0 0]\n",
      " [0 0 0 0 0 0 0 0 0 0 0 0 0 0 0 0 0 0 0 0 0 0 0 1 2 0]\n",
      " [0 0 0 0 0 0 0 0 0 1 0 0 0 1 0 0 0 0 0 0 0 0 0 1 0 0]]\n",
      "              precision    recall  f1-score   support\n",
      "\n",
      "           0       0.60      0.75      0.67         4\n",
      "           1       0.00      0.00      0.00         2\n",
      "           2       0.50      0.75      0.60         4\n",
      "           3       0.50      0.33      0.40         3\n",
      "           4       0.33      0.50      0.40         2\n",
      "           5       0.50      0.50      0.50         2\n",
      "           6       0.33      0.25      0.29         4\n",
      "           7       1.00      0.33      0.50         3\n",
      "           8       1.00      0.33      0.50         3\n",
      "           9       0.60      0.75      0.67         4\n",
      "          10       0.00      0.00      0.00         3\n",
      "          11       1.00      0.75      0.86         4\n",
      "          12       0.00      0.00      0.00         3\n",
      "          13       0.40      0.50      0.44         4\n",
      "          14       0.75      1.00      0.86         3\n",
      "          15       0.20      0.33      0.25         3\n",
      "          16       0.50      0.33      0.40         3\n",
      "          17       1.00      0.50      0.67         4\n",
      "          18       1.00      0.67      0.80         3\n",
      "          19       0.50      0.50      0.50         2\n",
      "          20       0.60      1.00      0.75         3\n",
      "          21       0.40      0.67      0.50         3\n",
      "          22       0.25      0.33      0.29         3\n",
      "          23       0.33      0.50      0.40         2\n",
      "          24       0.40      0.67      0.50         3\n",
      "          25       0.00      0.00      0.00         3\n",
      "\n",
      "    accuracy                           0.49        80\n",
      "   macro avg       0.49      0.47      0.45        80\n",
      "weighted avg       0.51      0.49      0.47        80\n",
      "\n"
     ]
    }
   ],
   "source": [
    "from sklearn.metrics import confusion_matrix, accuracy_score, classification_report\n",
    "cm = confusion_matrix(Y_test1, Y_test1_pred)\n",
    "cr = classification_report(Y_test1, Y_test1_pred)\n",
    "print(cm)\n",
    "print(cr)\n",
    "\n",
    "# output result \n",
    "pd.DataFrame(Y_test1_pred).to_csv('output/Base-DT-DS1.csv', header = None)\n",
    "# append report\n",
    "with open('output/Base-DT-DS1.csv','a') as f:\n",
    "    f.write('\\n\\nConfusion Matrix\\n\\n')\n",
    "    f.write(pd.DataFrame(cm).to_csv())\n",
    "    f.write('\\n\\n Classification Report\\n\\n')\n",
    "    f.write(cr)"
   ]
  },
  {
   "cell_type": "markdown",
   "metadata": {},
   "source": [
    "# Base-DT-DS2"
   ]
  },
  {
   "cell_type": "markdown",
   "metadata": {},
   "source": [
    "#### Import libraries"
   ]
  },
  {
   "cell_type": "code",
   "execution_count": 11,
   "metadata": {},
   "outputs": [],
   "source": [
    "import numpy as np\n",
    "import pandas as pd\n",
    "from sklearn.tree import DecisionTreeClassifier"
   ]
  },
  {
   "cell_type": "markdown",
   "metadata": {},
   "source": [
    "#### Import data"
   ]
  },
  {
   "cell_type": "code",
   "execution_count": 12,
   "metadata": {},
   "outputs": [],
   "source": [
    "# Import dataset according to selection\n",
    "dataset_train2 = pd.read_csv(\"dataset/train_2.csv\", header=None)\n",
    "dataset_val2 = pd.read_csv(\"dataset/val_2.csv\",header=None)\n",
    "dataset_test2 = pd.read_csv(\"dataset/test_no_label_2.csv\",header=None)\n",
    "dataset_test2_with_label = pd.read_csv(\"dataset/test_with_label_2.csv\",header=None)\n",
    "\n",
    "# X = data, Y = target \n",
    "X_train2 = dataset_train2.iloc[:, :-1].values\n",
    "Y_train2 = dataset_train2.iloc[:, -1].values\n",
    "X_val2 = dataset_val2.iloc[:, :-1].values\n",
    "Y_val2 = dataset_val2.iloc[:, -1].values\n",
    "X_test2 = dataset_test2.iloc[:, ].values\n",
    "Y_test2 = dataset_test2_with_label.iloc[:,-1]"
   ]
  },
  {
   "cell_type": "markdown",
   "metadata": {},
   "source": [
    "#### Train Model"
   ]
  },
  {
   "cell_type": "code",
   "execution_count": 13,
   "metadata": {},
   "outputs": [
    {
     "data": {
      "text/plain": [
       "DecisionTreeClassifier(class_weight=None, criterion='entropy', max_depth=None,\n",
       "                       max_features=None, max_leaf_nodes=None,\n",
       "                       min_impurity_decrease=0.0, min_impurity_split=None,\n",
       "                       min_samples_leaf=1, min_samples_split=2,\n",
       "                       min_weight_fraction_leaf=0.0, presort=False,\n",
       "                       random_state=0, splitter='best')"
      ]
     },
     "execution_count": 13,
     "metadata": {},
     "output_type": "execute_result"
    }
   ],
   "source": [
    "classifier2 = DecisionTreeClassifier(criterion='entropy',random_state=0)\n",
    "classifier2.fit(X_train2,Y_train2)"
   ]
  },
  {
   "cell_type": "markdown",
   "metadata": {},
   "source": [
    "#### VALIDATE - Predict using Validation Data"
   ]
  },
  {
   "cell_type": "code",
   "execution_count": 14,
   "metadata": {},
   "outputs": [],
   "source": [
    "Y_val2_pred = classifier2.predict(X_val2)"
   ]
  },
  {
   "cell_type": "markdown",
   "metadata": {},
   "source": [
    "#### VALIDATE - Output - Confusion matrix validate Set"
   ]
  },
  {
   "cell_type": "code",
   "execution_count": 15,
   "metadata": {},
   "outputs": [
    {
     "name": "stdout",
     "output_type": "stream",
     "text": [
      "[9 7 1 ... 0 0 1]\n",
      "[[130   9   2   2  10   2   2   1   0   7]\n",
      " [  6 339   0  21   2   4   1   0   0   2]\n",
      " [  0   3  27   0   3   2   0   0   4   6]\n",
      " [  0  15   0  25   1   2   1   0   0   1]\n",
      " [ 12   6   2   1  79  14   2   0   5  29]\n",
      " [  4   2   5   3   4 124   1   0   2  20]\n",
      " [  2   1   0   0   3   0  30   0   2   7]\n",
      " [  1   1   0   0   1   2   1  37   0   2]\n",
      " [  5   7   2   1   5   1   1   0 119   9]\n",
      " [  7   3   9   3  26  31   2   0  10 284]]\n",
      "              precision    recall  f1-score   support\n",
      "\n",
      "           0       0.78      0.79      0.78       165\n",
      "           1       0.88      0.90      0.89       375\n",
      "           2       0.57      0.60      0.59        45\n",
      "           3       0.45      0.56      0.50        45\n",
      "           4       0.59      0.53      0.56       150\n",
      "           5       0.68      0.75      0.71       165\n",
      "           6       0.73      0.67      0.70        45\n",
      "           7       0.97      0.82      0.89        45\n",
      "           8       0.84      0.79      0.82       150\n",
      "           9       0.77      0.76      0.77       375\n",
      "\n",
      "    accuracy                           0.77      1560\n",
      "   macro avg       0.73      0.72      0.72      1560\n",
      "weighted avg       0.77      0.77      0.77      1560\n",
      "\n"
     ]
    }
   ],
   "source": [
    "from sklearn.metrics import confusion_matrix, accuracy_score, classification_report\n",
    "cm_val2 = confusion_matrix(Y_val2, Y_val2_pred)\n",
    "cr_val2 = classification_report(Y_val2, Y_val2_pred)\n",
    "print(Y_val2_pred)\n",
    "print(cm_val2)\n",
    "print(cr_val2)"
   ]
  },
  {
   "cell_type": "markdown",
   "metadata": {},
   "source": [
    "#### TEST - Predict using Test Set"
   ]
  },
  {
   "cell_type": "code",
   "execution_count": 16,
   "metadata": {},
   "outputs": [],
   "source": [
    "Y_test2_pred = classifier2.predict(X_test2)"
   ]
  },
  {
   "cell_type": "markdown",
   "metadata": {},
   "source": [
    "#### TEST - Output - Confusion matrix Test Set"
   ]
  },
  {
   "cell_type": "code",
   "execution_count": 18,
   "metadata": {},
   "outputs": [
    {
     "name": "stdout",
     "output_type": "stream",
     "text": [
      "[[ 47   1   1   0   5   0   0   0   0   1]\n",
      " [  1 116   0   5   0   2   0   0   1   0]\n",
      " [  1   0   6   0   2   1   0   0   2   3]\n",
      " [  0   4   0   8   1   2   0   0   0   0]\n",
      " [  3   2   1   1  27   1   1   0   1  13]\n",
      " [  0   0   0   1   6  41   0   0   1   6]\n",
      " [  1   0   2   0   1   1   7   0   2   1]\n",
      " [  0   2   0   0   0   0   0  12   1   0]\n",
      " [  3   1   0   0   0   0   1   0  43   2]\n",
      " [  2   1   2   0  10  10   0   0   3  97]]\n",
      "              precision    recall  f1-score   support\n",
      "\n",
      "           0       0.81      0.85      0.83        55\n",
      "           1       0.91      0.93      0.92       125\n",
      "           2       0.50      0.40      0.44        15\n",
      "           3       0.53      0.53      0.53        15\n",
      "           4       0.52      0.54      0.53        50\n",
      "           5       0.71      0.75      0.73        55\n",
      "           6       0.78      0.47      0.58        15\n",
      "           7       1.00      0.80      0.89        15\n",
      "           8       0.80      0.86      0.83        50\n",
      "           9       0.79      0.78      0.78       125\n",
      "\n",
      "    accuracy                           0.78       520\n",
      "   macro avg       0.73      0.69      0.71       520\n",
      "weighted avg       0.78      0.78      0.78       520\n",
      "\n"
     ]
    }
   ],
   "source": [
    "from sklearn.metrics import confusion_matrix, accuracy_score, classification_report\n",
    "cm2 = confusion_matrix(Y_test2, Y_test2_pred)\n",
    "cr2 = classification_report(Y_test2, Y_test2_pred)\n",
    "print(cm2)\n",
    "print(cr2)\n",
    "\n",
    "# output result \n",
    "pd.DataFrame(Y_test2_pred).to_csv('output/Base-DT-DS2.csv', header = None)\n",
    "# append report\n",
    "with open('output/Base-DT-DS2.csv','a') as f:\n",
    "    f.write('\\n\\nConfusion Matrix\\n\\n')\n",
    "    f.write(pd.DataFrame(cm2).to_csv())\n",
    "    f.write('\\n\\n Classification Report\\n\\n')\n",
    "    f.write(cr2)"
   ]
  },
  {
   "cell_type": "code",
   "execution_count": null,
   "metadata": {},
   "outputs": [],
   "source": []
  }
 ],
 "metadata": {
  "kernelspec": {
   "display_name": "Python 3",
   "language": "python",
   "name": "python3"
  },
  "language_info": {
   "codemirror_mode": {
    "name": "ipython",
    "version": 3
   },
   "file_extension": ".py",
   "mimetype": "text/x-python",
   "name": "python",
   "nbconvert_exporter": "python",
   "pygments_lexer": "ipython3",
   "version": "3.7.4"
  }
 },
 "nbformat": 4,
 "nbformat_minor": 2
}
