{
 "cells": [
  {
   "cell_type": "markdown",
   "metadata": {},
   "source": [
    "# Base-DT\n",
    "A baseline Decision Tree using entropy as decision criterion and using default values values\n",
    "for the rest of the parameters."
   ]
  },
  {
   "cell_type": "markdown",
   "metadata": {},
   "source": [
    "# Base-DT-DS1"
   ]
  },
  {
   "cell_type": "markdown",
   "metadata": {},
   "source": [
    "#### Import libraries"
   ]
  },
  {
   "cell_type": "code",
   "execution_count": 1,
   "metadata": {},
   "outputs": [],
   "source": [
    "import numpy as np\n",
    "import pandas as pd\n",
    "from sklearn.tree import DecisionTreeClassifier"
   ]
  },
  {
   "cell_type": "markdown",
   "metadata": {},
   "source": [
    "#### Import data"
   ]
  },
  {
   "cell_type": "code",
   "execution_count": 2,
   "metadata": {},
   "outputs": [],
   "source": [
    "# Import dataset according to selection\n",
    "dataset_train1 = pd.read_csv(\"dataset/train_1.csv\", header=None)\n",
    "dataset_val1 = pd.read_csv(\"dataset/val_1.csv\",header=None)\n",
    "dataset_test1 = pd.read_csv(\"dataset/test_no_label_1.csv\",header=None)\n",
    "dataset_test1_with_label = pd.read_csv(\"dataset/test_with_label_1.csv\",header=None)\n",
    "\n",
    "# X = data, Y = target \n",
    "X_train1 = dataset_train1.iloc[:, :-1].values\n",
    "Y_train1 = dataset_train1.iloc[:, -1].values\n",
    "X_val1 = dataset_val1.iloc[:, :-1].values\n",
    "Y_val1 = dataset_val1.iloc[:, -1].values\n",
    "X_test1 = dataset_test1.iloc[:, ].values\n",
    "Y_test1 = dataset_test1_with_label.iloc[:,-1]"
   ]
  },
  {
   "cell_type": "markdown",
   "metadata": {},
   "source": [
    "#### Train Model"
   ]
  },
  {
   "cell_type": "code",
   "execution_count": 3,
   "metadata": {},
   "outputs": [
    {
     "data": {
      "text/plain": [
       "DecisionTreeClassifier(class_weight=None, criterion='entropy', max_depth=None,\n",
       "                       max_features=None, max_leaf_nodes=None,\n",
       "                       min_impurity_decrease=0.0, min_impurity_split=None,\n",
       "                       min_samples_leaf=1, min_samples_split=2,\n",
       "                       min_weight_fraction_leaf=0.0, presort=False,\n",
       "                       random_state=None, splitter='best')"
      ]
     },
     "execution_count": 3,
     "metadata": {},
     "output_type": "execute_result"
    }
   ],
   "source": [
    "classifier1 = DecisionTreeClassifier(criterion='entropy')\n",
    "classifier1.fit(X_train1,Y_train1)"
   ]
  },
  {
   "cell_type": "markdown",
   "metadata": {},
   "source": [
    "#### VALIDATE - Predict using Validation Data"
   ]
  },
  {
   "cell_type": "code",
   "execution_count": 4,
   "metadata": {},
   "outputs": [],
   "source": [
    "Y_val1_pred = classifier1.predict(X_val1)"
   ]
  },
  {
   "cell_type": "markdown",
   "metadata": {},
   "source": [
    "#### VALIDATE - Output - Confusion matrix validate Set"
   ]
  },
  {
   "cell_type": "code",
   "execution_count": 5,
   "metadata": {},
   "outputs": [
    {
     "name": "stdout",
     "output_type": "stream",
     "text": [
      "[ 9 17 12 12  1 24 15  5  9 17  9 25 22 15  9 24  2  8 20 15 19  1 25 23\n",
      " 24 12 15 18 20 14 15 20 20  0 23  1 10 22  8 22  9 19 18 20  8 19 14 22\n",
      " 21  2 10 23 12  7 18 11  2  0 20 14 11  7 25 13 13 14 16  4 22 11  0 17\n",
      "  3  4  7  6  3 19 25  3 12 20  9  5  7  6  0  4 14  8 12 10 25  5  9 17\n",
      "  2  0 25 10 14 20 10 13  0 24 25 25 17 13  2 18 11 14  0 21 20 18  4 25\n",
      "  0  5 11 15 15 11 16  7 25 12 20 16 17  4 15 19 22 10 23 13 18  8  6  9\n",
      "  9  6  2  4  3 20 22  4 12 25 10 25  4  0 20 10 21  5  0  7 23  2 11 12\n",
      " 13  6 19 22 11 19 14 15 20 19  0 18  1 17  4  5 12 19 11  0  6  0 12  8\n",
      " 22  4 17 10  2 10 16 19  8  9 23  0 10  5  9  2  2 23 18 20 10 14 21  2\n",
      "  8  3 14 21  0 24  2  7 24  1 25  9 12  6  3 11 21 10 24 24  2  8  5]\n",
      "[[7 0 0 0 0 0 0 0 0 0 0 0 0 0 0 0 0 1 1 0 0 0 0 1 0 0]\n",
      " [0 2 0 0 2 1 0 0 0 3 0 0 0 0 0 0 0 0 0 1 0 0 0 0 0 0]\n",
      " [0 0 8 0 0 0 0 0 0 0 0 0 1 0 0 0 0 0 0 1 0 0 0 0 0 0]\n",
      " [0 1 0 3 0 0 0 0 0 2 0 0 0 0 0 0 0 0 0 0 1 0 0 0 0 1]\n",
      " [0 0 0 0 3 1 0 0 0 0 0 1 0 0 1 0 1 0 0 0 0 0 0 0 0 1]\n",
      " [0 0 1 0 0 2 0 0 0 0 2 0 0 0 0 0 0 0 0 2 0 0 0 0 0 1]\n",
      " [1 0 2 0 0 0 2 1 0 0 0 1 0 0 1 0 0 0 1 0 1 0 0 0 0 0]\n",
      " [1 0 0 0 0 0 0 4 1 0 1 0 0 0 0 0 0 0 0 0 2 0 0 0 0 0]\n",
      " [1 1 0 1 0 0 0 0 5 0 0 0 0 0 0 0 0 1 0 0 0 1 0 0 0 0]\n",
      " [0 0 0 1 2 0 0 0 0 1 0 1 0 0 0 0 0 2 0 1 0 0 0 0 0 2]\n",
      " [2 0 0 0 0 0 0 0 0 0 6 0 0 0 0 0 0 0 0 0 1 0 0 0 1 0]\n",
      " [0 0 0 0 0 0 0 0 0 0 0 7 1 0 0 0 0 0 0 0 1 1 0 0 0 0]\n",
      " [0 0 0 0 0 0 0 1 1 0 0 0 6 0 0 0 0 0 0 0 0 0 0 1 0 1]\n",
      " [0 0 0 0 0 0 0 1 0 0 1 0 0 3 0 0 0 1 0 0 0 1 1 0 1 1]\n",
      " [0 0 0 1 0 0 1 0 0 2 0 0 0 0 4 0 1 0 0 0 1 0 0 0 0 0]\n",
      " [0 0 0 0 1 1 0 0 2 0 0 0 0 0 0 4 0 0 1 1 0 0 0 0 0 0]\n",
      " [0 0 1 0 0 0 1 0 0 0 0 0 0 0 3 1 1 1 1 0 0 0 0 0 1 0]\n",
      " [0 1 0 0 0 0 0 0 0 0 0 0 0 0 0 4 1 2 1 0 0 0 0 0 0 1]\n",
      " [0 0 1 0 2 0 3 0 0 0 0 0 0 0 0 0 0 0 3 0 0 0 0 0 0 0]\n",
      " [0 0 0 0 0 0 0 0 0 2 0 0 1 0 0 0 0 0 0 4 0 0 0 0 0 1]\n",
      " [0 0 0 0 0 0 0 0 0 0 0 0 1 0 0 0 0 0 0 0 7 0 0 0 0 0]\n",
      " [0 0 0 0 0 0 0 0 0 0 1 0 0 1 0 0 0 0 0 0 0 1 2 1 1 1]\n",
      " [2 0 0 0 0 0 0 0 0 0 1 0 1 0 0 0 0 0 0 0 0 0 5 0 0 0]\n",
      " [1 0 0 0 0 0 0 0 0 0 0 0 0 2 0 0 0 0 0 0 0 0 1 3 0 1]\n",
      " [0 0 0 0 0 0 0 0 0 0 0 0 1 0 0 0 0 0 0 0 0 2 0 1 4 0]\n",
      " [0 0 0 0 0 3 0 0 0 2 1 0 0 0 1 0 0 0 0 0 0 0 0 0 0 2]]\n",
      "              precision    recall  f1-score   support\n",
      "\n",
      "           0       0.47      0.70      0.56        10\n",
      "           1       0.40      0.22      0.29         9\n",
      "           2       0.62      0.80      0.70        10\n",
      "           3       0.50      0.38      0.43         8\n",
      "           4       0.30      0.38      0.33         8\n",
      "           5       0.25      0.25      0.25         8\n",
      "           6       0.29      0.20      0.24        10\n",
      "           7       0.57      0.44      0.50         9\n",
      "           8       0.56      0.50      0.53        10\n",
      "           9       0.08      0.10      0.09        10\n",
      "          10       0.46      0.60      0.52        10\n",
      "          11       0.70      0.70      0.70        10\n",
      "          12       0.50      0.60      0.55        10\n",
      "          13       0.50      0.30      0.37        10\n",
      "          14       0.40      0.40      0.40        10\n",
      "          15       0.44      0.40      0.42        10\n",
      "          16       0.25      0.10      0.14        10\n",
      "          17       0.25      0.20      0.22        10\n",
      "          18       0.38      0.33      0.35         9\n",
      "          19       0.40      0.50      0.44         8\n",
      "          20       0.50      0.88      0.64         8\n",
      "          21       0.17      0.12      0.14         8\n",
      "          22       0.56      0.56      0.56         9\n",
      "          23       0.43      0.38      0.40         8\n",
      "          24       0.50      0.50      0.50         8\n",
      "          25       0.15      0.22      0.18         9\n",
      "\n",
      "    accuracy                           0.41       239\n",
      "   macro avg       0.41      0.41      0.40       239\n",
      "weighted avg       0.41      0.41      0.40       239\n",
      "\n"
     ]
    }
   ],
   "source": [
    "from sklearn.metrics import confusion_matrix, accuracy_score, classification_report\n",
    "cm_val = confusion_matrix(Y_val1, Y_val1_pred)\n",
    "cr_val = classification_report(Y_val1, Y_val1_pred)\n",
    "print(Y_val1_pred)\n",
    "print(cm_val)\n",
    "print(cr_val)"
   ]
  },
  {
   "cell_type": "markdown",
   "metadata": {},
   "source": [
    "#### TEST - Predict using Test Set"
   ]
  },
  {
   "cell_type": "code",
   "execution_count": 7,
   "metadata": {},
   "outputs": [],
   "source": [
    "Y_test1_pred = classifier1.predict(X_test1)"
   ]
  },
  {
   "cell_type": "markdown",
   "metadata": {},
   "source": [
    "#### TEST - Output - Confusion matrix Test Set"
   ]
  },
  {
   "cell_type": "code",
   "execution_count": 8,
   "metadata": {},
   "outputs": [
    {
     "name": "stdout",
     "output_type": "stream",
     "text": [
      "[[3 0 0 0 0 0 0 0 0 0 0 0 0 1 0 0 0 0 0 0 0 0 0 0 0 0]\n",
      " [0 0 0 0 1 0 0 0 0 0 0 0 0 0 0 1 0 0 0 0 0 0 0 0 0 0]\n",
      " [0 0 3 0 0 0 1 0 0 0 0 0 0 0 0 0 0 0 0 0 0 0 0 0 0 0]\n",
      " [0 0 0 1 0 0 0 0 0 0 0 0 0 0 0 1 0 0 0 0 0 0 0 0 0 1]\n",
      " [0 0 0 0 1 0 0 0 0 0 0 0 0 0 0 0 0 0 0 0 0 0 0 0 0 1]\n",
      " [0 0 0 0 0 1 0 0 0 0 0 0 0 0 0 0 0 1 0 0 0 0 0 0 0 0]\n",
      " [1 0 1 0 0 0 1 0 0 0 0 0 0 0 1 0 0 0 0 0 0 0 0 0 0 0]\n",
      " [0 0 0 0 0 0 0 1 0 0 0 0 1 0 0 0 0 0 0 0 0 0 1 0 0 0]\n",
      " [0 0 0 1 0 0 0 0 1 0 0 0 0 0 0 0 0 0 0 0 1 0 0 0 0 0]\n",
      " [0 1 0 0 0 0 0 0 0 2 0 0 0 0 0 0 0 0 0 1 0 0 0 0 0 0]\n",
      " [0 0 0 0 0 0 0 0 0 0 0 0 0 1 0 0 0 0 0 0 1 0 0 0 1 0]\n",
      " [0 0 0 0 0 0 0 0 0 0 0 3 0 0 0 0 0 0 0 0 1 0 0 0 0 0]\n",
      " [0 0 0 0 0 0 0 0 0 0 1 1 0 0 0 0 0 0 0 0 0 0 0 0 1 0]\n",
      " [0 0 0 0 0 0 0 0 0 0 0 0 1 2 0 0 0 0 0 0 0 1 0 0 0 0]\n",
      " [0 0 0 0 0 0 0 0 0 0 0 0 0 0 2 0 1 0 0 0 0 0 0 0 0 0]\n",
      " [0 0 0 0 0 0 0 0 0 1 0 0 0 0 0 1 0 0 0 0 0 0 0 0 0 1]\n",
      " [0 0 0 1 0 0 0 0 0 0 0 0 0 0 1 0 1 0 0 0 0 0 0 0 0 0]\n",
      " [0 0 0 0 0 1 1 0 0 0 0 0 0 0 0 0 0 2 0 0 0 0 0 0 0 0]\n",
      " [0 0 0 0 0 0 1 0 0 0 0 0 0 0 0 0 0 0 2 0 0 0 0 0 0 0]\n",
      " [0 0 0 0 0 0 0 0 0 0 0 0 0 0 1 0 0 0 0 1 0 0 0 0 0 0]\n",
      " [0 0 0 0 0 0 0 0 0 0 0 0 0 0 0 0 0 0 0 0 3 0 0 0 0 0]\n",
      " [0 0 0 0 0 0 0 0 0 0 0 0 0 0 0 0 0 0 0 0 0 2 1 0 0 0]\n",
      " [1 0 0 0 0 0 0 0 0 0 0 0 0 1 0 0 0 0 0 0 0 0 1 0 0 0]\n",
      " [0 0 0 0 0 0 0 0 0 0 0 0 0 0 0 0 0 0 0 0 0 0 1 1 0 0]\n",
      " [0 0 0 0 0 0 0 0 0 0 0 0 0 0 0 0 0 0 0 0 0 0 0 1 2 0]\n",
      " [0 0 0 0 0 0 0 0 0 1 0 0 1 0 0 0 0 0 0 0 0 0 0 1 0 0]]\n",
      "              precision    recall  f1-score   support\n",
      "\n",
      "           0       0.60      0.75      0.67         4\n",
      "           1       0.00      0.00      0.00         2\n",
      "           2       0.75      0.75      0.75         4\n",
      "           3       0.33      0.33      0.33         3\n",
      "           4       0.50      0.50      0.50         2\n",
      "           5       0.50      0.50      0.50         2\n",
      "           6       0.25      0.25      0.25         4\n",
      "           7       1.00      0.33      0.50         3\n",
      "           8       1.00      0.33      0.50         3\n",
      "           9       0.50      0.50      0.50         4\n",
      "          10       0.00      0.00      0.00         3\n",
      "          11       0.75      0.75      0.75         4\n",
      "          12       0.00      0.00      0.00         3\n",
      "          13       0.40      0.50      0.44         4\n",
      "          14       0.40      0.67      0.50         3\n",
      "          15       0.33      0.33      0.33         3\n",
      "          16       0.50      0.33      0.40         3\n",
      "          17       0.67      0.50      0.57         4\n",
      "          18       1.00      0.67      0.80         3\n",
      "          19       0.50      0.50      0.50         2\n",
      "          20       0.50      1.00      0.67         3\n",
      "          21       0.67      0.67      0.67         3\n",
      "          22       0.25      0.33      0.29         3\n",
      "          23       0.33      0.50      0.40         2\n",
      "          24       0.50      0.67      0.57         3\n",
      "          25       0.00      0.00      0.00         3\n",
      "\n",
      "    accuracy                           0.46        80\n",
      "   macro avg       0.47      0.45      0.44        80\n",
      "weighted avg       0.48      0.46      0.45        80\n",
      "\n"
     ]
    }
   ],
   "source": [
    "from sklearn.metrics import confusion_matrix, accuracy_score, classification_report\n",
    "cm = confusion_matrix(Y_test1, Y_test1_pred)\n",
    "cr = classification_report(Y_test1, Y_test1_pred)\n",
    "print(cm)\n",
    "print(cr)\n",
    "\n",
    "# output result \n",
    "pd.DataFrame(Y_test1_pred).to_csv('output/Base-DT-DS1.csv', header = None)\n",
    "# append report\n",
    "with open('output/Base-DT-DS1.csv','a') as f:\n",
    "    f.write('\\n\\nConfusion Matrix\\n\\n')\n",
    "    f.write(pd.DataFrame(cm).to_csv())\n",
    "    f.write('\\n\\n Classification Report\\n\\n')\n",
    "    f.write(cr)"
   ]
  },
  {
   "cell_type": "markdown",
   "metadata": {},
   "source": [
    "# Base-DT-DS2"
   ]
  },
  {
   "cell_type": "markdown",
   "metadata": {},
   "source": [
    "#### Import libraries"
   ]
  },
  {
   "cell_type": "code",
   "execution_count": 9,
   "metadata": {},
   "outputs": [],
   "source": [
    "import numpy as np\n",
    "import pandas as pd\n",
    "from sklearn.tree import DecisionTreeClassifier"
   ]
  },
  {
   "cell_type": "markdown",
   "metadata": {},
   "source": [
    "#### Import data"
   ]
  },
  {
   "cell_type": "code",
   "execution_count": 10,
   "metadata": {},
   "outputs": [],
   "source": [
    "# Import dataset according to selection\n",
    "dataset_train2 = pd.read_csv(\"dataset/train_2.csv\", header=None)\n",
    "dataset_val2 = pd.read_csv(\"dataset/val_2.csv\",header=None)\n",
    "dataset_test2 = pd.read_csv(\"dataset/test_no_label_2.csv\",header=None)\n",
    "dataset_test2_with_label = pd.read_csv(\"dataset/test_with_label_2.csv\",header=None)\n",
    "\n",
    "# X = data, Y = target \n",
    "X_train2 = dataset_train2.iloc[:, :-1].values\n",
    "Y_train2 = dataset_train2.iloc[:, -1].values\n",
    "X_val2 = dataset_val2.iloc[:, :-1].values\n",
    "Y_val2 = dataset_val2.iloc[:, -1].values\n",
    "X_test2 = dataset_test2.iloc[:, ].values\n",
    "Y_test2 = dataset_test2_with_label.iloc[:,-1]"
   ]
  },
  {
   "cell_type": "markdown",
   "metadata": {},
   "source": [
    "#### Train Model"
   ]
  },
  {
   "cell_type": "code",
   "execution_count": 11,
   "metadata": {},
   "outputs": [
    {
     "data": {
      "text/plain": [
       "DecisionTreeClassifier(class_weight=None, criterion='entropy', max_depth=None,\n",
       "                       max_features=None, max_leaf_nodes=None,\n",
       "                       min_impurity_decrease=0.0, min_impurity_split=None,\n",
       "                       min_samples_leaf=1, min_samples_split=2,\n",
       "                       min_weight_fraction_leaf=0.0, presort=False,\n",
       "                       random_state=None, splitter='best')"
      ]
     },
     "execution_count": 11,
     "metadata": {},
     "output_type": "execute_result"
    }
   ],
   "source": [
    "classifier2 = DecisionTreeClassifier(criterion='entropy')\n",
    "classifier2.fit(X_train2,Y_train2)"
   ]
  },
  {
   "cell_type": "markdown",
   "metadata": {},
   "source": [
    "#### VALIDATE - Predict using Validation Data"
   ]
  },
  {
   "cell_type": "code",
   "execution_count": 12,
   "metadata": {},
   "outputs": [],
   "source": [
    "Y_val2_pred = classifier2.predict(X_val2)"
   ]
  },
  {
   "cell_type": "markdown",
   "metadata": {},
   "source": [
    "#### VALIDATE - Output - Confusion matrix validate Set"
   ]
  },
  {
   "cell_type": "code",
   "execution_count": 13,
   "metadata": {},
   "outputs": [
    {
     "name": "stdout",
     "output_type": "stream",
     "text": [
      "[9 7 1 ... 0 0 1]\n",
      "[[123   8   2   1  19   2   2   1   0   7]\n",
      " [  5 345   0  13   5   3   1   1   0   2]\n",
      " [  3   2  27   0   1   2   0   0   4   6]\n",
      " [  1  13   0  26   1   1   0   2   0   1]\n",
      " [ 13   2   1   2  84  14   2   0   7  25]\n",
      " [  2   3   2   5   7 120   1   0   1  24]\n",
      " [  1   1   1   0   3   0  34   1   2   2]\n",
      " [  1   2   0   0   1   3   1  36   0   1]\n",
      " [  6   9   1   0   3   0   2   0 121   8]\n",
      " [  5   3  12   0  30  24   4   1   8 288]]\n",
      "              precision    recall  f1-score   support\n",
      "\n",
      "           0       0.77      0.75      0.76       165\n",
      "           1       0.89      0.92      0.90       375\n",
      "           2       0.59      0.60      0.59        45\n",
      "           3       0.55      0.58      0.57        45\n",
      "           4       0.55      0.56      0.55       150\n",
      "           5       0.71      0.73      0.72       165\n",
      "           6       0.72      0.76      0.74        45\n",
      "           7       0.86      0.80      0.83        45\n",
      "           8       0.85      0.81      0.83       150\n",
      "           9       0.79      0.77      0.78       375\n",
      "\n",
      "    accuracy                           0.77      1560\n",
      "   macro avg       0.73      0.73      0.73      1560\n",
      "weighted avg       0.77      0.77      0.77      1560\n",
      "\n"
     ]
    }
   ],
   "source": [
    "from sklearn.metrics import confusion_matrix, accuracy_score, classification_report\n",
    "cm_val2 = confusion_matrix(Y_val2, Y_val2_pred)\n",
    "cr_val2 = classification_report(Y_val2, Y_val2_pred)\n",
    "print(Y_val2_pred)\n",
    "print(cm_val2)\n",
    "print(cr_val2)"
   ]
  },
  {
   "cell_type": "markdown",
   "metadata": {},
   "source": [
    "#### TEST - Predict using Test Set"
   ]
  },
  {
   "cell_type": "code",
   "execution_count": 14,
   "metadata": {},
   "outputs": [],
   "source": [
    "Y_test2_pred = classifier2.predict(X_test2)"
   ]
  },
  {
   "cell_type": "markdown",
   "metadata": {},
   "source": [
    "#### TEST - Output - Confusion matrix Test Set"
   ]
  },
  {
   "cell_type": "code",
   "execution_count": 15,
   "metadata": {},
   "outputs": [
    {
     "name": "stdout",
     "output_type": "stream",
     "text": [
      "[[ 43   3   2   0   6   0   0   0   0   1]\n",
      " [  0 113   0   4   4   2   0   0   2   0]\n",
      " [  1   0   7   0   1   1   0   0   3   2]\n",
      " [  0   4   0  10   0   1   0   0   0   0]\n",
      " [  2   2   0   1  26   2   1   0   1  15]\n",
      " [  0   0   0   1   4  41   0   0   0   9]\n",
      " [  1   0   2   0   0   1   7   0   2   2]\n",
      " [  0   1   0   0   0   0   0  13   1   0]\n",
      " [  5   1   0   0   1   0   0   0  42   1]\n",
      " [  2   2   2   0   8   7   0   0   1 103]]\n",
      "              precision    recall  f1-score   support\n",
      "\n",
      "           0       0.80      0.78      0.79        55\n",
      "           1       0.90      0.90      0.90       125\n",
      "           2       0.54      0.47      0.50        15\n",
      "           3       0.62      0.67      0.65        15\n",
      "           4       0.52      0.52      0.52        50\n",
      "           5       0.75      0.75      0.75        55\n",
      "           6       0.88      0.47      0.61        15\n",
      "           7       1.00      0.87      0.93        15\n",
      "           8       0.81      0.84      0.82        50\n",
      "           9       0.77      0.82      0.80       125\n",
      "\n",
      "    accuracy                           0.78       520\n",
      "   macro avg       0.76      0.71      0.73       520\n",
      "weighted avg       0.78      0.78      0.78       520\n",
      "\n"
     ]
    }
   ],
   "source": [
    "from sklearn.metrics import confusion_matrix, accuracy_score, classification_report\n",
    "cm2 = confusion_matrix(Y_test2, Y_test2_pred)\n",
    "cr2 = classification_report(Y_test2, Y_test2_pred)\n",
    "print(cm2)\n",
    "print(cr2)\n",
    "\n",
    "# output result \n",
    "pd.DataFrame(Y_test2_pred).to_csv('output/Base-DT-DS2.csv', header = None)\n",
    "# append report\n",
    "with open('output/Base-DT-DS2.csv','a') as f:\n",
    "    f.write('\\n\\nConfusion Matrix\\n\\n')\n",
    "    f.write(pd.DataFrame(cm2).to_csv())\n",
    "    f.write('\\n\\n Classification Report\\n\\n')\n",
    "    f.write(cr2)"
   ]
  },
  {
   "cell_type": "code",
   "execution_count": null,
   "metadata": {},
   "outputs": [],
   "source": []
  }
 ],
 "metadata": {
  "kernelspec": {
   "display_name": "Python 3",
   "language": "python",
   "name": "python3"
  },
  "language_info": {
   "codemirror_mode": {
    "name": "ipython",
    "version": 3
   },
   "file_extension": ".py",
   "mimetype": "text/x-python",
   "name": "python",
   "nbconvert_exporter": "python",
   "pygments_lexer": "ipython3",
   "version": "3.7.4"
  }
 },
 "nbformat": 4,
 "nbformat_minor": 2
}
