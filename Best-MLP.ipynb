{
 "cells": [
  {
   "cell_type": "markdown",
   "metadata": {},
   "source": [
    "# Best-MLP\n",
    "a better performing Multi-Layered Perceptron found by performing grid search to find the best combination of hyper-parameters. For this, you need to experiment with the following parameter values:\n",
    "* activation function: sigmoid, tanh, relu and identity \n",
    "* 2 network architectures of your choice: for eg 2 hidden layers with 30+50 nodes, 3 hidden layers with 10+10 \n",
    "* solver: Adam and stochastic gradient descent"
   ]
  },
  {
   "cell_type": "markdown",
   "metadata": {},
   "source": [
    "# Best-MLP-DS1"
   ]
  },
  {
   "cell_type": "markdown",
   "metadata": {},
   "source": [
    "#### Import data"
   ]
  },
  {
   "cell_type": "code",
   "execution_count": null,
   "metadata": {},
   "outputs": [],
   "source": [
    "from sklearn.neural_network import MLPClassifier\n",
    "from sklearn.model_selection import GridSearchCV\n",
    "import numpy as np\n",
    "import pandas as pd\n",
    "import warnings\n",
    "warnings.filterwarnings(\"ignore\")\n",
    "\n",
    "#import data set according to selection\n",
    "dataset_train = pd.read_csv(\"dataset/train_1.csv\", header=None)\n",
    "dataset_val = pd.read_csv(\"dataset/val_1.csv\", header=None)\n",
    "dataset_test = pd.read_csv(\"dataset/test_no_label_1.csv\", header=None)\n",
    "dataset_test_with_label = pd.read_csv(\"dataset/test_with_label_1.csv\", header=None)\n",
    "\n",
    "# X = data, Y = target\n",
    "X_train = dataset_train.iloc[:, :-1].values\n",
    "Y_train = dataset_train.iloc[:, -1].values\n",
    "X_val = dataset_val.iloc[:, :-1].values\n",
    "Y_val = dataset_val.iloc[:, -1].values\n",
    "X_test = dataset_test.iloc[:, ].values\n",
    "Y_test = dataset_test_with_label.iloc[:,-1].values"
   ]
  },
  {
   "cell_type": "markdown",
   "metadata": {},
   "source": [
    "#### Train Model"
   ]
  },
  {
   "cell_type": "code",
   "execution_count": null,
   "metadata": {},
   "outputs": [],
   "source": [
    "param_grid = {\n",
    "    'hidden_layer_sizes': [(30,50,), (10,10,10,)],\n",
    "    'activation': ['logistic', 'tanh', 'relu'],\n",
    "    'solver': ['adam', 'sgd']\n",
    "}\n",
    "# Train model\n",
    "cls = GridSearchCV(MLPClassifier(), param_grid)\n",
    "cls.fit(X_train, Y_train)"
   ]
  },
  {
   "cell_type": "markdown",
   "metadata": {},
   "source": [
    "#### VALIDATE - Predict using Validate set"
   ]
  },
  {
   "cell_type": "code",
   "execution_count": null,
   "metadata": {},
   "outputs": [],
   "source": [
    "Y_val_pred = cls.predict(X_val)"
   ]
  },
  {
   "cell_type": "markdown",
   "metadata": {},
   "source": [
    "#### VALIDATE - Output - Confusion matrix validate Set"
   ]
  },
  {
   "cell_type": "code",
   "execution_count": null,
   "metadata": {
    "scrolled": true
   },
   "outputs": [],
   "source": [
    "from sklearn.metrics import confusion_matrix, accuracy_score, classification_report\n",
    "cm = confusion_matrix(Y_val, Y_val_pred)\n",
    "cr = classification_report(Y_val, Y_val_pred)\n",
    "print(Y_val_pred)\n",
    "print(cm)\n",
    "print(cr)"
   ]
  },
  {
   "cell_type": "markdown",
   "metadata": {},
   "source": [
    "#### TEST - Predict using Test set"
   ]
  },
  {
   "cell_type": "code",
   "execution_count": null,
   "metadata": {},
   "outputs": [],
   "source": [
    "Y_test_pred = cls.predict(X_test)"
   ]
  },
  {
   "cell_type": "markdown",
   "metadata": {},
   "source": [
    "#### TEST - Output - Confusion matrix Test Set"
   ]
  },
  {
   "cell_type": "code",
   "execution_count": null,
   "metadata": {
    "scrolled": true
   },
   "outputs": [],
   "source": [
    "from sklearn.metrics import confusion_matrix, accuracy_score, classification_report\n",
    "import csv\n",
    "\n",
    "cm = confusion_matrix(Y_test, Y_test_pred)\n",
    "cr = classification_report(Y_test, Y_test_pred)\n",
    "print(cm)\n",
    "print(cr)\n",
    "\n",
    "#output result\n",
    "pd.DataFrame(Y_test_pred).to_csv('output/Best-MLP-DS1.csv', header = None)\n",
    "#append report\n",
    "with open('output/Best-MLP-DS1.csv', 'a') as fd:\n",
    "    fd.write('\\n\\nConfusion Matrix\\n\\n')\n",
    "    fd.write(pd.DataFrame(cm).to_csv())\n",
    "    fd.write('\\n\\n Classification Report\\n\\n')\n",
    "    fd.write(cr)\n"
   ]
  },
  {
   "cell_type": "markdown",
   "metadata": {
    "slideshow": {
     "slide_type": "-"
    }
   },
   "source": [
    "# Best-MLP-DS2"
   ]
  },
  {
   "cell_type": "markdown",
   "metadata": {},
   "source": [
    "#### Import data"
   ]
  },
  {
   "cell_type": "code",
   "execution_count": 1,
   "metadata": {},
   "outputs": [],
   "source": [
    "from sklearn.neural_network import MLPClassifier\n",
    "from sklearn.model_selection import GridSearchCV\n",
    "import numpy as np\n",
    "import pandas as pd\n",
    "import warnings\n",
    "warnings.filterwarnings(\"ignore\")\n",
    "\n",
    "#import data set according to selection\n",
    "dataset_train = pd.read_csv(\"dataset/train_2.csv\", header=None)\n",
    "dataset_val = pd.read_csv(\"dataset/val_2.csv\", header=None)\n",
    "dataset_test = pd.read_csv(\"dataset/test_no_label_2.csv\", header=None)\n",
    "dataset_test_with_label = pd.read_csv(\"dataset/test_with_label_2.csv\", header=None)\n",
    "\n",
    "# X = data, Y = target\n",
    "X_train = dataset_train.iloc[:, :-1].values\n",
    "Y_train = dataset_train.iloc[:, -1].values\n",
    "X_val = dataset_val.iloc[:, :-1].values\n",
    "Y_val = dataset_val.iloc[:, -1].values\n",
    "X_test = dataset_test.iloc[:, ].values\n",
    "Y_test = dataset_test_with_label.iloc[:,-1].values"
   ]
  },
  {
   "cell_type": "markdown",
   "metadata": {},
   "source": [
    "#### Train Model"
   ]
  },
  {
   "cell_type": "code",
   "execution_count": 2,
   "metadata": {},
   "outputs": [
    {
     "data": {
      "text/plain": [
       "GridSearchCV(estimator=MLPClassifier(),\n",
       "             param_grid={'activation': ['logistic', 'tanh', 'relu'],\n",
       "                         'hidden_layer_sizes': [(30, 50), (10, 10, 10)],\n",
       "                         'solver': ['adam', 'sgd']})"
      ]
     },
     "execution_count": 2,
     "metadata": {},
     "output_type": "execute_result"
    }
   ],
   "source": [
    "param_grid = {\n",
    "    'hidden_layer_sizes': [(30,50,), (10,10,10,)],\n",
    "    'activation': ['logistic', 'tanh', 'relu'],\n",
    "    'solver': ['adam', 'sgd']\n",
    "}\n",
    "# Train model\n",
    "cls2 = GridSearchCV(MLPClassifier(), param_grid)\n",
    "cls2.fit(X_train, Y_train)"
   ]
  },
  {
   "cell_type": "markdown",
   "metadata": {},
   "source": [
    "#### VALIDATE - Predict using Validate set"
   ]
  },
  {
   "cell_type": "code",
   "execution_count": 3,
   "metadata": {},
   "outputs": [],
   "source": [
    "Y_val_pred = cls2.predict(X_val)"
   ]
  },
  {
   "cell_type": "markdown",
   "metadata": {},
   "source": [
    "#### VALIDATE - Output - Confusion matrix validate Set"
   ]
  },
  {
   "cell_type": "code",
   "execution_count": 4,
   "metadata": {},
   "outputs": [
    {
     "name": "stdout",
     "output_type": "stream",
     "text": [
      "[9 7 1 ... 0 8 1]\n",
      "[[150   0   0   0   8   0   0   0   5   2]\n",
      " [  3 363   0   2   2   1   1   1   2   0]\n",
      " [  1   1  34   0   0   1   0   0   7   1]\n",
      " [  1   4   0  36   2   2   0   0   0   0]\n",
      " [  6   1   1   1 116   4   0   0   4  17]\n",
      " [  1   4   0   2   1 149   1   0   1   6]\n",
      " [  0   3   0   0   0   0  41   0   0   1]\n",
      " [  1   0   0   1   0   3   0  40   0   0]\n",
      " [  4   7   4   0   2   2   2   0 126   3]\n",
      " [  2   3   2   0   8  11   2   0   5 342]]\n",
      "              precision    recall  f1-score   support\n",
      "\n",
      "           0       0.89      0.91      0.90       165\n",
      "           1       0.94      0.97      0.95       375\n",
      "           2       0.83      0.76      0.79        45\n",
      "           3       0.86      0.80      0.83        45\n",
      "           4       0.83      0.77      0.80       150\n",
      "           5       0.86      0.90      0.88       165\n",
      "           6       0.87      0.91      0.89        45\n",
      "           7       0.98      0.89      0.93        45\n",
      "           8       0.84      0.84      0.84       150\n",
      "           9       0.92      0.91      0.92       375\n",
      "\n",
      "    accuracy                           0.90      1560\n",
      "   macro avg       0.88      0.87      0.87      1560\n",
      "weighted avg       0.89      0.90      0.89      1560\n",
      "\n"
     ]
    }
   ],
   "source": [
    "from sklearn.metrics import confusion_matrix, accuracy_score, classification_report\n",
    "cm = confusion_matrix(Y_val, Y_val_pred)\n",
    "cr = classification_report(Y_val, Y_val_pred)\n",
    "print(Y_val_pred)\n",
    "print(cm)\n",
    "print(cr)"
   ]
  },
  {
   "cell_type": "markdown",
   "metadata": {},
   "source": [
    "#### TEST - Predict using Test set"
   ]
  },
  {
   "cell_type": "code",
   "execution_count": 6,
   "metadata": {},
   "outputs": [],
   "source": [
    "Y_test_pred = cls2.predict(X_test)"
   ]
  },
  {
   "cell_type": "markdown",
   "metadata": {},
   "source": [
    "#### TEST - Output - Confusion matrix Test Set"
   ]
  },
  {
   "cell_type": "code",
   "execution_count": 7,
   "metadata": {},
   "outputs": [
    {
     "name": "stdout",
     "output_type": "stream",
     "text": [
      "[[ 50   1   0   2   0   1   0   0   0   1]\n",
      " [  1 120   0   1   0   1   0   0   2   0]\n",
      " [  0   0  10   0   0   1   0   0   4   0]\n",
      " [  1   0   0  13   0   1   0   0   0   0]\n",
      " [  4   1   0   0  37   2   0   0   2   4]\n",
      " [  0   0   0   0   1  50   0   0   0   4]\n",
      " [  1   2   1   0   0   0  10   0   1   0]\n",
      " [  0   0   0   0   0   0   0  15   0   0]\n",
      " [  0   1   0   0   0   0   0   0  48   1]\n",
      " [  2   0   2   0   6   5   0   0   3 107]]\n",
      "              precision    recall  f1-score   support\n",
      "\n",
      "           0       0.85      0.91      0.88        55\n",
      "           1       0.96      0.96      0.96       125\n",
      "           2       0.77      0.67      0.71        15\n",
      "           3       0.81      0.87      0.84        15\n",
      "           4       0.84      0.74      0.79        50\n",
      "           5       0.82      0.91      0.86        55\n",
      "           6       1.00      0.67      0.80        15\n",
      "           7       1.00      1.00      1.00        15\n",
      "           8       0.80      0.96      0.87        50\n",
      "           9       0.91      0.86      0.88       125\n",
      "\n",
      "    accuracy                           0.88       520\n",
      "   macro avg       0.88      0.85      0.86       520\n",
      "weighted avg       0.89      0.88      0.88       520\n",
      "\n"
     ]
    }
   ],
   "source": [
    "from sklearn.metrics import confusion_matrix, accuracy_score, classification_report\n",
    "import csv\n",
    "\n",
    "cm = confusion_matrix(Y_test, Y_test_pred)\n",
    "cr = classification_report(Y_test, Y_test_pred)\n",
    "print(cm)\n",
    "print(cr)\n",
    "\n",
    "#output result\n",
    "pd.DataFrame(Y_test_pred).to_csv('output/Best-MLP-DS2.csv', header = None)\n",
    "#append report\n",
    "with open('output/Best-MLP-DS2.csv', 'a') as fd:\n",
    "    fd.write('\\n\\nConfusion Matrix\\n\\n')\n",
    "    fd.write(pd.DataFrame(cm).to_csv())\n",
    "    fd.write('\\n\\n Classification Report\\n\\n')\n",
    "    fd.write(cr)"
   ]
  }
 ],
 "metadata": {
  "celltoolbar": "Raw Cell Format",
  "kernelspec": {
   "display_name": "Python 3",
   "language": "python",
   "name": "python3"
  },
  "language_info": {
   "codemirror_mode": {
    "name": "ipython",
    "version": 3
   },
   "file_extension": ".py",
   "mimetype": "text/x-python",
   "name": "python",
   "nbconvert_exporter": "python",
   "pygments_lexer": "ipython3",
   "version": "3.8.0"
  }
 },
 "nbformat": 4,
 "nbformat_minor": 4
}
