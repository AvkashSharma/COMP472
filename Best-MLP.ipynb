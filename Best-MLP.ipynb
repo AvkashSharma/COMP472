{
 "cells": [
  {
   "cell_type": "markdown",
   "metadata": {},
   "source": [
    "# Best-MLP\n",
    "a better performing Multi-Layered Perceptron found by performing grid search to find the best combination of hyper-parameters. For this, you need to experiment with the following parameter values:\n",
    "* activation function: sigmoid, tanh, relu and identity \n",
    "* 2 network architectures of your choice: for eg 2 hidden layers with 30+50 nodes, 3 hidden layers with 10+10 \n",
    "* solver: Adam and stochastic gradient descent"
   ]
  },
  {
   "cell_type": "markdown",
   "metadata": {},
   "source": [
    "# Best-MLP-DS1"
   ]
  },
  {
   "cell_type": "markdown",
   "metadata": {},
   "source": [
    "#### Import data"
   ]
  },
  {
   "cell_type": "code",
   "execution_count": 1,
   "metadata": {},
   "outputs": [],
   "source": [
    "from sklearn.neural_network import MLPClassifier\n",
    "from sklearn.model_selection import GridSearchCV\n",
    "import numpy as np\n",
    "import pandas as pd\n",
    "import warnings\n",
    "warnings.filterwarnings(\"ignore\")\n",
    "\n",
    "#import data set according to selection\n",
    "dataset_train = pd.read_csv(\"dataset/train_1.csv\", header=None)\n",
    "dataset_val = pd.read_csv(\"dataset/val_1.csv\", header=None)\n",
    "dataset_test = pd.read_csv(\"dataset/test_no_label_1.csv\", header=None)\n",
    "dataset_test_with_label = pd.read_csv(\"dataset/test_with_label_1.csv\", header=None)\n",
    "\n",
    "# X = data, Y = target\n",
    "X_train = dataset_train.iloc[:, :-1].values\n",
    "Y_train = dataset_train.iloc[:, -1].values\n",
    "X_val = dataset_val.iloc[:, :-1].values\n",
    "Y_val = dataset_val.iloc[:, -1].values\n",
    "X_test = dataset_test.iloc[:, ].values\n",
    "Y_test = dataset_test_with_label.iloc[:,-1].values"
   ]
  },
  {
   "cell_type": "markdown",
   "metadata": {},
   "source": [
    "#### Train Model"
   ]
  },
  {
   "cell_type": "code",
   "execution_count": 2,
   "metadata": {},
   "outputs": [
    {
     "data": {
      "text/plain": [
       "MLPClassifier(activation='identity', hidden_layer_sizes=(30, 50))"
      ]
     },
     "execution_count": 2,
     "metadata": {},
     "output_type": "execute_result"
    }
   ],
   "source": [
    "param_grid = {\n",
    "    'hidden_layer_sizes': [(30,50,), (10,10,10,)],\n",
    "    'activation': ['logistic', 'tanh', 'relu', 'identity'],\n",
    "    'solver': ['adam', 'sgd']\n",
    "}\n",
    "# Train model\n",
    "cls = GridSearchCV(MLPClassifier(), param_grid)\n",
    "cls.fit(X_train, Y_train)\n",
    "cls = cls.best_estimator_\n",
    "cls.fit(X_train, Y_train)"
   ]
  },
  {
   "cell_type": "markdown",
   "metadata": {},
   "source": [
    "#### VALIDATE - Predict using Validate set"
   ]
  },
  {
   "cell_type": "code",
   "execution_count": 3,
   "metadata": {},
   "outputs": [],
   "source": [
    "Y_val_pred = cls.predict(X_val)"
   ]
  },
  {
   "cell_type": "markdown",
   "metadata": {},
   "source": [
    "#### VALIDATE - Output - Confusion matrix validate Set"
   ]
  },
  {
   "cell_type": "code",
   "execution_count": 4,
   "metadata": {
    "scrolled": true
   },
   "outputs": [
    {
     "name": "stdout",
     "output_type": "stream",
     "text": [
      "[ 1 17 12 12  1 16 17  9  3  0  3  4 21 24 25 10 18 15 11 15  5  8 19 13\n",
      " 24 10 15 18 20  4 15 20 20  0 24 17 10 21  8 23  3 19 18 20 15  3 25 22\n",
      "  8  2 10 21 12  7 16  9  2  6  3 14 11  6  3 13 23 14 17  9 22 11 10  8\n",
      "  3  4  7 18  8  2 25 14 12  9  5 25  7 14  0 18 14 12 19 17 23  5 25 16\n",
      "  2  0 13 25 20 11  0 13  7 15 10  9 13 13  5 18 11 14 22 21 10 17 18 17\n",
      "  0 15 11 17 17 11 14  7 25 20 21 16 17  8 16 19 22 17 23 23  0  8 13  9\n",
      " 14  6  6  1  3  6 22  1 12 15  5  9  4  8 20 22 13 25  0 12 23 16  4 12\n",
      " 13 18 15 22  6 19 16 15 11 19 10  6  3  0  4  5 24 19 11 22 18  0  2 15\n",
      " 21 15  9 21  2 10  4  1  8 24 15  0  7  5 18  2  2 13 15 21 10 16 11  6\n",
      "  8  9 16 24  0 24  2 13 24  1 21 19 12 14  1 11 24 10 21 24  2  8  5]\n",
      "[[ 9  0  0  0  0  0  0  0  0  0  0  0  0  1  0  0  0  0  0  0  0  0  0  0\n",
      "   0  0]\n",
      " [ 0  6  0  0  0  1  0  0  0  1  0  0  0  0  0  0  0  0  0  0  0  0  0  0\n",
      "   1  0]\n",
      " [ 0  0 10  0  0  0  0  0  0  0  0  0  0  0  0  0  0  0  0  0  0  0  0  0\n",
      "   0  0]\n",
      " [ 0  1  0  7  0  0  0  0  0  0  0  0  0  0  0  0  0  0  0  0  0  0  0  0\n",
      "   0  0]\n",
      " [ 0  0  0  0  7  1  0  0  0  0  0  0  0  0  0  0  0  0  0  0  0  0  0  0\n",
      "   0  0]\n",
      " [ 0  0  0  0  0  5  0  0  0  0  0  0  0  0  0  1  0  1  0  1  0  0  0  0\n",
      "   0  0]\n",
      " [ 0  0  0  0  0  0  8  0  0  0  0  0  0  0  1  0  0  0  0  0  1  0  0  0\n",
      "   0  0]\n",
      " [ 0  0  0  0  0  0  0  6  0  0  0  0  0  0  0  1  0  0  0  0  0  2  0  0\n",
      "   0  0]\n",
      " [ 0  0  0  0  0  0  0  0 10  0  0  0  0  0  0  0  0  0  0  0  0  0  0  0\n",
      "   0  0]\n",
      " [ 1  0  0  1  0  0  0  0  1  6  0  0  0  0  0  0  0  0  1  0  0  0  0  0\n",
      "   0  0]\n",
      " [ 0  0  0  0  0  0  0  0  0  0  9  0  0  0  0  0  0  1  0  0  0  0  0  0\n",
      "   0  0]\n",
      " [ 0  0  0  0  0  0  0  0  0  0  0  9  1  0  0  0  0  0  0  0  0  0  0  0\n",
      "   0  0]\n",
      " [ 0  0  0  0  0  0  0  0  0  0  0  0  8  0  0  1  0  0  0  0  0  1  0  0\n",
      "   0  0]\n",
      " [ 1  0  0  0  0  0  0  0  0  0  1  0  0  6  0  1  0  0  0  0  0  1  0  0\n",
      "   0  0]\n",
      " [ 0  0  0  1  0  0  0  0  0  0  0  1  0  0  8  0  0  0  0  0  0  0  0  0\n",
      "   0  0]\n",
      " [ 0  0  0  0  0  0  0  0  0  0  0  0  0  0  0 10  0  0  0  0  0  0  0  0\n",
      "   0  0]\n",
      " [ 0  0  0  0  0  0  0  0  0  0  0  0  0  1  0  0  9  0  0  0  0  0  0  0\n",
      "   0  0]\n",
      " [ 0  0  0  0  0  0  0  0  0  0  0  0  0  0  0  0  0  9  0  0  0  0  0  0\n",
      "   1  0]\n",
      " [ 0  0  0  0  0  0  0  0  0  0  0  0  0  0  0  0  0  0  9  0  0  0  0  0\n",
      "   0  0]\n",
      " [ 0  0  0  0  0  1  0  0  0  0  0  0  0  0  0  0  0  0  0  7  0  0  0  0\n",
      "   0  0]\n",
      " [ 0  0  0  0  0  0  0  0  0  1  0  1  0  0  0  0  0  0  0  0  6  0  0  0\n",
      "   0  0]\n",
      " [ 0  0  0  0  0  0  0  0  0  0  0  0  0  3  0  0  0  0  0  0  0  5  0  0\n",
      "   0  0]\n",
      " [ 0  0  0  0  0  0  0  0  0  0  1  0  0  0  0  0  0  0  0  0  0  0  8  0\n",
      "   0  0]\n",
      " [ 1  0  0  0  0  0  0  0  0  0  0  0  0  0  0  0  0  0  0  0  0  1  0  6\n",
      "   0  0]\n",
      " [ 0  0  0  0  0  0  0  0  0  0  0  0  0  0  0  0  0  0  0  0  0  0  0  0\n",
      "   8  0]\n",
      " [ 0  0  0  0  0  0  0  0  0  1  0  0  0  0  0  0  0  0  0  0  0  0  0  0\n",
      "   0  8]]\n",
      "              precision    recall  f1-score   support\n",
      "\n",
      "           0       0.75      0.90      0.82        10\n",
      "           1       0.86      0.67      0.75         9\n",
      "           2       1.00      1.00      1.00        10\n",
      "           3       0.78      0.88      0.82         8\n",
      "           4       1.00      0.88      0.93         8\n",
      "           5       0.62      0.62      0.62         8\n",
      "           6       1.00      0.80      0.89        10\n",
      "           7       1.00      0.67      0.80         9\n",
      "           8       0.91      1.00      0.95        10\n",
      "           9       0.67      0.60      0.63        10\n",
      "          10       0.82      0.90      0.86        10\n",
      "          11       0.82      0.90      0.86        10\n",
      "          12       0.89      0.80      0.84        10\n",
      "          13       0.55      0.60      0.57        10\n",
      "          14       0.89      0.80      0.84        10\n",
      "          15       0.71      1.00      0.83        10\n",
      "          16       1.00      0.90      0.95        10\n",
      "          17       0.82      0.90      0.86        10\n",
      "          18       0.90      1.00      0.95         9\n",
      "          19       0.88      0.88      0.88         8\n",
      "          20       0.86      0.75      0.80         8\n",
      "          21       0.50      0.62      0.56         8\n",
      "          22       1.00      0.89      0.94         9\n",
      "          23       1.00      0.75      0.86         8\n",
      "          24       0.80      1.00      0.89         8\n",
      "          25       1.00      0.89      0.94         9\n",
      "\n",
      "    accuracy                           0.83       239\n",
      "   macro avg       0.85      0.83      0.83       239\n",
      "weighted avg       0.85      0.83      0.83       239\n",
      "\n"
     ]
    }
   ],
   "source": [
    "from sklearn.metrics import confusion_matrix, accuracy_score, classification_report\n",
    "cm = confusion_matrix(Y_val, Y_val_pred)\n",
    "cr = classification_report(Y_val, Y_val_pred)\n",
    "print(Y_val_pred)\n",
    "print(cm)\n",
    "print(cr)"
   ]
  },
  {
   "cell_type": "markdown",
   "metadata": {},
   "source": [
    "#### TEST - Predict using Test set"
   ]
  },
  {
   "cell_type": "code",
   "execution_count": 6,
   "metadata": {},
   "outputs": [],
   "source": [
    "Y_test_pred = cls.predict(X_test)"
   ]
  },
  {
   "cell_type": "markdown",
   "metadata": {},
   "source": [
    "#### TEST - Output - Confusion matrix Test Set"
   ]
  },
  {
   "cell_type": "code",
   "execution_count": 7,
   "metadata": {
    "scrolled": true
   },
   "outputs": [
    {
     "name": "stdout",
     "output_type": "stream",
     "text": [
      "[[4 0 0 0 0 0 0 0 0 0 0 0 0 0 0 0 0 0 0 0 0 0 0 0 0 0]\n",
      " [0 2 0 0 0 0 0 0 0 0 0 0 0 0 0 0 0 0 0 0 0 0 0 0 0 0]\n",
      " [0 0 4 0 0 0 0 0 0 0 0 0 0 0 0 0 0 0 0 0 0 0 0 0 0 0]\n",
      " [0 0 0 3 0 0 0 0 0 0 0 0 0 0 0 0 0 0 0 0 0 0 0 0 0 0]\n",
      " [0 0 0 0 2 0 0 0 0 0 0 0 0 0 0 0 0 0 0 0 0 0 0 0 0 0]\n",
      " [0 0 0 0 0 1 0 0 0 0 0 0 0 0 0 1 0 0 0 0 0 0 0 0 0 0]\n",
      " [0 0 0 0 0 0 4 0 0 0 0 0 0 0 0 0 0 0 0 0 0 0 0 0 0 0]\n",
      " [0 0 0 0 0 0 0 3 0 0 0 0 0 0 0 0 0 0 0 0 0 0 0 0 0 0]\n",
      " [0 0 0 0 0 0 0 0 3 0 0 0 0 0 0 0 0 0 0 0 0 0 0 0 0 0]\n",
      " [0 0 0 0 0 0 0 0 1 2 0 0 0 0 0 0 0 0 0 1 0 0 0 0 0 0]\n",
      " [0 0 0 0 0 0 0 1 0 0 1 0 0 0 0 0 0 0 0 0 0 0 0 1 0 0]\n",
      " [0 0 0 0 0 0 0 0 0 0 0 4 0 0 0 0 0 0 0 0 0 0 0 0 0 0]\n",
      " [1 0 0 0 0 0 0 1 0 0 0 0 1 0 0 0 0 0 0 0 0 0 0 0 0 0]\n",
      " [1 0 0 0 0 0 0 0 0 0 0 0 0 3 0 0 0 0 0 0 0 0 0 0 0 0]\n",
      " [0 0 0 0 0 0 0 0 0 0 0 0 0 0 3 0 0 0 0 0 0 0 0 0 0 0]\n",
      " [0 0 0 0 0 0 0 0 0 0 0 0 0 0 0 2 0 1 0 0 0 0 0 0 0 0]\n",
      " [0 0 0 0 0 0 0 0 0 0 0 0 0 0 0 0 3 0 0 0 0 0 0 0 0 0]\n",
      " [0 0 0 0 0 0 0 0 0 0 1 0 0 0 0 0 0 3 0 0 0 0 0 0 0 0]\n",
      " [0 0 0 0 0 0 0 0 0 0 0 0 0 0 0 0 1 0 2 0 0 0 0 0 0 0]\n",
      " [0 0 0 0 0 0 0 0 0 0 0 0 0 0 0 0 0 0 0 2 0 0 0 0 0 0]\n",
      " [0 0 0 0 0 0 0 0 0 0 0 0 0 0 0 0 0 0 0 0 3 0 0 0 0 0]\n",
      " [0 0 0 0 0 0 0 0 0 0 0 0 0 0 0 0 0 0 0 0 0 3 0 0 0 0]\n",
      " [0 0 0 0 0 0 0 0 0 0 0 0 0 0 0 0 0 0 0 0 0 0 3 0 0 0]\n",
      " [0 0 0 0 0 0 0 0 0 0 0 0 0 0 0 0 0 0 0 0 0 0 0 2 0 0]\n",
      " [0 0 0 0 0 0 0 0 0 0 0 0 0 0 0 0 0 0 0 0 0 1 0 0 2 0]\n",
      " [0 0 0 0 0 0 0 0 0 0 1 0 0 0 0 0 0 0 0 0 0 0 0 0 0 2]]\n",
      "              precision    recall  f1-score   support\n",
      "\n",
      "           0       0.67      1.00      0.80         4\n",
      "           1       1.00      1.00      1.00         2\n",
      "           2       1.00      1.00      1.00         4\n",
      "           3       1.00      1.00      1.00         3\n",
      "           4       1.00      1.00      1.00         2\n",
      "           5       1.00      0.50      0.67         2\n",
      "           6       1.00      1.00      1.00         4\n",
      "           7       0.60      1.00      0.75         3\n",
      "           8       0.75      1.00      0.86         3\n",
      "           9       1.00      0.50      0.67         4\n",
      "          10       0.33      0.33      0.33         3\n",
      "          11       1.00      1.00      1.00         4\n",
      "          12       1.00      0.33      0.50         3\n",
      "          13       1.00      0.75      0.86         4\n",
      "          14       1.00      1.00      1.00         3\n",
      "          15       0.67      0.67      0.67         3\n",
      "          16       0.75      1.00      0.86         3\n",
      "          17       0.75      0.75      0.75         4\n",
      "          18       1.00      0.67      0.80         3\n",
      "          19       0.67      1.00      0.80         2\n",
      "          20       1.00      1.00      1.00         3\n",
      "          21       0.75      1.00      0.86         3\n",
      "          22       1.00      1.00      1.00         3\n",
      "          23       0.67      1.00      0.80         2\n",
      "          24       1.00      0.67      0.80         3\n",
      "          25       1.00      0.67      0.80         3\n",
      "\n",
      "    accuracy                           0.84        80\n",
      "   macro avg       0.87      0.84      0.83        80\n",
      "weighted avg       0.87      0.84      0.83        80\n",
      "\n"
     ]
    }
   ],
   "source": [
    "from sklearn.metrics import confusion_matrix, accuracy_score, classification_report\n",
    "import csv\n",
    "\n",
    "cm = confusion_matrix(Y_test, Y_test_pred)\n",
    "cr = classification_report(Y_test, Y_test_pred)\n",
    "print(cm)\n",
    "print(cr)\n",
    "\n",
    "#output result\n",
    "pd.DataFrame(Y_test_pred).to_csv('output/Best-MLP-DS1.csv', header = None)\n",
    "#append report\n",
    "with open('output/Best-MLP-DS1.csv', 'a') as fd:\n",
    "    fd.write('\\n\\nConfusion Matrix\\n\\n')\n",
    "    fd.write(pd.DataFrame(cm).to_csv())\n",
    "    fd.write('\\n\\n Classification Report\\n\\n')\n",
    "    fd.write(cr)\n"
   ]
  },
  {
   "cell_type": "markdown",
   "metadata": {
    "slideshow": {
     "slide_type": "-"
    }
   },
   "source": [
    "# Best-MLP-DS2"
   ]
  },
  {
   "cell_type": "markdown",
   "metadata": {},
   "source": [
    "#### Import data"
   ]
  },
  {
   "cell_type": "code",
   "execution_count": 10,
   "metadata": {},
   "outputs": [],
   "source": [
    "from sklearn.neural_network import MLPClassifier\n",
    "from sklearn.model_selection import GridSearchCV\n",
    "import numpy as np\n",
    "import pandas as pd\n",
    "import warnings\n",
    "warnings.filterwarnings(\"ignore\")\n",
    "\n",
    "#import data set according to selection\n",
    "dataset_train = pd.read_csv(\"dataset/train_2.csv\", header=None)\n",
    "dataset_val = pd.read_csv(\"dataset/val_2.csv\", header=None)\n",
    "dataset_test = pd.read_csv(\"dataset/test_no_label_2.csv\", header=None)\n",
    "dataset_test_with_label = pd.read_csv(\"dataset/test_with_label_2.csv\", header=None)\n",
    "\n",
    "# X = data, Y = target\n",
    "X_train = dataset_train.iloc[:, :-1].values\n",
    "Y_train = dataset_train.iloc[:, -1].values\n",
    "X_val = dataset_val.iloc[:, :-1].values\n",
    "Y_val = dataset_val.iloc[:, -1].values\n",
    "X_test = dataset_test.iloc[:, ].values\n",
    "Y_test = dataset_test_with_label.iloc[:,-1].values"
   ]
  },
  {
   "cell_type": "markdown",
   "metadata": {},
   "source": [
    "#### Train Model"
   ]
  },
  {
   "cell_type": "code",
   "execution_count": 11,
   "metadata": {},
   "outputs": [
    {
     "data": {
      "text/plain": [
       "MLPClassifier(activation='tanh', hidden_layer_sizes=(30, 50), solver='sgd')"
      ]
     },
     "execution_count": 11,
     "metadata": {},
     "output_type": "execute_result"
    }
   ],
   "source": [
    "param_grid = {\n",
    "    'hidden_layer_sizes': [(30,50,), (10,10,10,)],\n",
    "    'activation': ['logistic', 'tanh', 'relu', 'identity'],\n",
    "    'solver': ['adam', 'sgd']\n",
    "}\n",
    "# Train model\n",
    "cls2 = GridSearchCV(MLPClassifier(), param_grid)\n",
    "cls2.fit(X_train, Y_train)\n",
    "cls2 = cls2.best_estimator_\n",
    "cls2.fit(X_train, Y_train)"
   ]
  },
  {
   "cell_type": "markdown",
   "metadata": {},
   "source": [
    "#### VALIDATE - Predict using Validate set"
   ]
  },
  {
   "cell_type": "code",
   "execution_count": 12,
   "metadata": {},
   "outputs": [],
   "source": [
    "Y_val_pred = cls2.predict(X_val)"
   ]
  },
  {
   "cell_type": "markdown",
   "metadata": {},
   "source": [
    "#### VALIDATE - Output - Confusion matrix validate Set"
   ]
  },
  {
   "cell_type": "code",
   "execution_count": 13,
   "metadata": {},
   "outputs": [
    {
     "name": "stdout",
     "output_type": "stream",
     "text": [
      "[9 7 1 ... 8 0 1]\n",
      "[[147   0   0   0   9   1   0   0   7   1]\n",
      " [  4 362   1   4   1   0   2   0   1   0]\n",
      " [  0   0  30   1   2   2   0   0   8   2]\n",
      " [  1   3   0  39   2   0   0   0   0   0]\n",
      " [  9   0   1   1 118   5   0   0   0  16]\n",
      " [  0   4   0   1   2 146   1   1   1   9]\n",
      " [  0   3   0   0   0   0  41   0   1   0]\n",
      " [  0   1   0   0   0   1   0  42   0   1]\n",
      " [  3   4   1   0   5   0   0   0 133   4]\n",
      " [  1   3   3   0   9   6   4   0   6 343]]\n",
      "              precision    recall  f1-score   support\n",
      "\n",
      "           0       0.89      0.89      0.89       165\n",
      "           1       0.95      0.97      0.96       375\n",
      "           2       0.83      0.67      0.74        45\n",
      "           3       0.85      0.87      0.86        45\n",
      "           4       0.80      0.79      0.79       150\n",
      "           5       0.91      0.88      0.90       165\n",
      "           6       0.85      0.91      0.88        45\n",
      "           7       0.98      0.93      0.95        45\n",
      "           8       0.85      0.89      0.87       150\n",
      "           9       0.91      0.91      0.91       375\n",
      "\n",
      "    accuracy                           0.90      1560\n",
      "   macro avg       0.88      0.87      0.88      1560\n",
      "weighted avg       0.90      0.90      0.90      1560\n",
      "\n"
     ]
    }
   ],
   "source": [
    "from sklearn.metrics import confusion_matrix, accuracy_score, classification_report\n",
    "cm = confusion_matrix(Y_val, Y_val_pred)\n",
    "cr = classification_report(Y_val, Y_val_pred)\n",
    "print(Y_val_pred)\n",
    "print(cm)\n",
    "print(cr)"
   ]
  },
  {
   "cell_type": "markdown",
   "metadata": {},
   "source": [
    "#### TEST - Predict using Test set"
   ]
  },
  {
   "cell_type": "code",
   "execution_count": 14,
   "metadata": {},
   "outputs": [],
   "source": [
    "Y_test_pred = cls2.predict(X_test)"
   ]
  },
  {
   "cell_type": "markdown",
   "metadata": {},
   "source": [
    "#### TEST - Output - Confusion matrix Test Set"
   ]
  },
  {
   "cell_type": "code",
   "execution_count": 15,
   "metadata": {},
   "outputs": [
    {
     "name": "stdout",
     "output_type": "stream",
     "text": [
      "[[ 52   0   1   1   0   1   0   0   0   0]\n",
      " [  1 121   0   1   0   0   0   0   2   0]\n",
      " [  0   0   8   0   1   0   0   0   4   2]\n",
      " [  0   0   0  15   0   0   0   0   0   0]\n",
      " [  4   1   0   1  36   2   0   0   2   4]\n",
      " [  0   0   0   0   1  51   0   0   0   3]\n",
      " [  2   2   1   0   0   0   9   0   1   0]\n",
      " [  0   0   0   0   0   0   0  15   0   0]\n",
      " [  0   1   0   0   0   0   0   0  47   2]\n",
      " [  1   0   1   0   8   5   1   0   4 105]]\n",
      "              precision    recall  f1-score   support\n",
      "\n",
      "           0       0.87      0.95      0.90        55\n",
      "           1       0.97      0.97      0.97       125\n",
      "           2       0.73      0.53      0.62        15\n",
      "           3       0.83      1.00      0.91        15\n",
      "           4       0.78      0.72      0.75        50\n",
      "           5       0.86      0.93      0.89        55\n",
      "           6       0.90      0.60      0.72        15\n",
      "           7       1.00      1.00      1.00        15\n",
      "           8       0.78      0.94      0.85        50\n",
      "           9       0.91      0.84      0.87       125\n",
      "\n",
      "    accuracy                           0.88       520\n",
      "   macro avg       0.86      0.85      0.85       520\n",
      "weighted avg       0.88      0.88      0.88       520\n",
      "\n"
     ]
    }
   ],
   "source": [
    "from sklearn.metrics import confusion_matrix, accuracy_score, classification_report\n",
    "import csv\n",
    "\n",
    "cm = confusion_matrix(Y_test, Y_test_pred)\n",
    "cr = classification_report(Y_test, Y_test_pred)\n",
    "print(cm)\n",
    "print(cr)\n",
    "\n",
    "#output result\n",
    "pd.DataFrame(Y_test_pred).to_csv('output/Best-MLP-DS2.csv', header = None)\n",
    "#append report\n",
    "with open('output/Best-MLP-DS2.csv', 'a') as fd:\n",
    "    fd.write('\\n\\nConfusion Matrix\\n\\n')\n",
    "    fd.write(pd.DataFrame(cm).to_csv())\n",
    "    fd.write('\\n\\n Classification Report\\n\\n')\n",
    "    fd.write(cr)"
   ]
  }
 ],
 "metadata": {
  "celltoolbar": "Raw Cell Format",
  "kernelspec": {
   "display_name": "Python 3",
   "language": "python",
   "name": "python3"
  },
  "language_info": {
   "codemirror_mode": {
    "name": "ipython",
    "version": 3
   },
   "file_extension": ".py",
   "mimetype": "text/x-python",
   "name": "python",
   "nbconvert_exporter": "python",
   "pygments_lexer": "ipython3",
   "version": "3.8.0"
  }
 },
 "nbformat": 4,
 "nbformat_minor": 4
}
