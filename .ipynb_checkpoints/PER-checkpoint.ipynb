{
 "cells": [
  {
   "cell_type": "markdown",
   "metadata": {},
   "source": [
    "# PER\n",
    "A Perceptron, with default parameter values"
   ]
  },
  {
   "cell_type": "markdown",
   "metadata": {},
   "source": [
    "# PER-DS1"
   ]
  },
  {
   "cell_type": "markdown",
   "metadata": {},
   "source": [
    "#### Import data"
   ]
  },
  {
   "cell_type": "code",
   "execution_count": 4,
   "metadata": {},
   "outputs": [
    {
     "data": {
      "text/plain": [
       "Perceptron()"
      ]
     },
     "execution_count": 4,
     "metadata": {},
     "output_type": "execute_result"
    }
   ],
   "source": [
    "from sklearn.linear_model import Perceptron\n",
    "import numpy as np\n",
    "import pandas as pd\n",
    "\n",
    "#import data set according to selection\n",
    "dataset_train = pd.read_csv(\"dataset/train_1.csv\", header=None)\n",
    "dataset_val = pd.read_csv(\"dataset/val_1.csv\", header=None)\n",
    "dataset_test = pd.read_csv(\"dataset/test_no_label_1.csv\", header=None)\n",
    "dataset_test_with_label = pd.read_csv(\"dataset/test_with_label_1.csv\", header=None)\n",
    "\n",
    "# X = data, Y = target\n",
    "X_train = dataset_train.iloc[:, :-1].values\n",
    "Y_train = dataset_train.iloc[:, -1].values\n",
    "X_val = dataset_val.iloc[:, :-1].values\n",
    "Y_val = dataset_val.iloc[:, -1].values\n",
    "X_test = dataset_test.iloc[:, ].values\n",
    "Y_test = dataset_test_with_label.iloc[:,-1].values\n",
    "\n",
    "# Train model\n",
    "perClass = Perceptron()\n",
    "perClass.fit(X_train, Y_train)"
   ]
  },
  {
   "cell_type": "markdown",
   "metadata": {},
   "source": [
    "#### VALIDATE - Predict using Validate set"
   ]
  },
  {
   "cell_type": "code",
   "execution_count": 2,
   "metadata": {},
   "outputs": [],
   "source": [
    "Y_val_pred = perClass.predict(X_val)"
   ]
  },
  {
   "cell_type": "markdown",
   "metadata": {},
   "source": [
    "#### VALIDATE - Output - Confusion matrix validate Set"
   ]
  },
  {
   "cell_type": "code",
   "execution_count": 3,
   "metadata": {
    "scrolled": true
   },
   "outputs": [
    {
     "name": "stdout",
     "output_type": "stream",
     "text": [
      "[ 1 17 12 12  1 16 17  9 14  0  3  1 21 17 25 13  3 15 11 15  5  8 19 13\n",
      " 24 22 15  1 20  4 15 20 20  0 13 17 10 21 24 23  3 19 18 20 15  9 25 22\n",
      " 24  2 10 21 12  7 16  9  2  6 20 14 11  6  3 13 23 14 17  9 22 11 10  8\n",
      "  3  5  7 18  8  2  1 14 12  9  5 25  7  6  0 18 14 12 24 10 13  5 25  6\n",
      "  2  0 13 25 20  6  0 13  7 24 17  9 13 13  5  6 11 14 22 21 10 17 18 17\n",
      "  0 15 11 17 17 11 14  7 25 11 22 16 17  5 16  5 22  7 23 23  0  8 13  9\n",
      "  9  6  6  1  3  6 22  1 12 15  5  9  4  0 20 22 13 25 17 12 17 16  4 11\n",
      " 13  9 15 22  6 15 16 15 11 19 10  6  3  5  4  5 24 12 11 22 18  0  2 15\n",
      " 21 15  9 21  2 10 11  1  8  9 13  0  7  5  0  2  2 13 15 21 10 16 11  4\n",
      "  8  9 16 24  0 24  2 13 24  1 21 19 12 14  1 11 24 10 13 24  2  8  5]\n",
      "[[ 7  0  0  0  0  1  0  0  0  0  0  0  0  1  0  0  0  1  0  0  0  0  0  0\n",
      "   0  0]\n",
      " [ 0  6  0  0  0  1  0  0  0  2  0  0  0  0  0  0  0  0  0  0  0  0  0  0\n",
      "   0  0]\n",
      " [ 0  0 10  0  0  0  0  0  0  0  0  0  0  0  0  0  0  0  0  0  0  0  0  0\n",
      "   0  0]\n",
      " [ 0  1  0  6  0  0  0  0  0  0  0  0  0  0  0  0  0  0  0  0  1  0  0  0\n",
      "   0  0]\n",
      " [ 0  1  0  0  4  2  0  0  0  0  0  1  0  0  0  0  0  0  0  0  0  0  0  0\n",
      "   0  0]\n",
      " [ 0  0  0  0  0  5  0  1  0  0  0  0  1  0  0  1  0  0  0  0  0  0  0  0\n",
      "   0  0]\n",
      " [ 0  0  0  0  1  0  8  0  0  0  0  0  0  0  0  0  0  0  0  0  1  0  0  0\n",
      "   0  0]\n",
      " [ 0  0  0  0  0  0  0  6  0  0  0  0  0  0  0  1  0  0  0  0  0  1  1  0\n",
      "   0  0]\n",
      " [ 1  0  0  0  0  0  0  0  7  0  0  0  0  0  0  0  0  0  0  0  0  0  0  0\n",
      "   2  0]\n",
      " [ 2  0  0  0  0  1  0  0  0  7  0  0  0  0  0  0  0  0  0  0  0  0  0  0\n",
      "   0  0]\n",
      " [ 0  0  0  0  0  0  0  0  0  0  9  0  0  1  0  0  0  0  0  0  0  0  0  0\n",
      "   0  0]\n",
      " [ 0  0  0  0  0  0  0  0  0  0  0 10  0  0  0  0  0  0  0  0  0  0  0  0\n",
      "   0  0]\n",
      " [ 0  0  0  0  0  0  0  0  0  0  0  0  8  1  0  0  0  0  0  0  0  1  0  0\n",
      "   0  0]\n",
      " [ 1  0  0  0  0  0  0  0  0  0  0  0  0  6  0  0  0  1  0  0  0  1  0  0\n",
      "   1  0]\n",
      " [ 0  0  0  0  0  0  1  0  0  1  0  0  0  0  8  0  0  0  0  0  0  0  0  0\n",
      "   0  0]\n",
      " [ 0  0  0  0  0  0  0  0  0  0  0  0  0  0  0 10  0  0  0  0  0  0  0  0\n",
      "   0  0]\n",
      " [ 0  0  0  0  0  0  1  0  0  0  0  0  0  1  0  0  8  0  0  0  0  0  0  0\n",
      "   0  0]\n",
      " [ 0  0  0  0  0  0  0  0  0  0  0  0  0  0  0  0  0 10  0  0  0  0  0  0\n",
      "   0  0]\n",
      " [ 0  1  0  1  0  0  1  0  0  1  0  0  0  0  0  0  0  0  5  0  0  0  0  0\n",
      "   0  0]\n",
      " [ 0  0  0  0  0  2  0  0  0  0  0  0  0  0  0  1  0  0  0  4  0  0  0  0\n",
      "   1  0]\n",
      " [ 0  0  0  0  0  0  0  0  0  1  0  2  0  0  0  0  0  0  0  0  5  0  0  0\n",
      "   0  0]\n",
      " [ 0  0  0  0  0  0  0  0  0  0  0  0  0  4  0  0  0  0  0  0  0  4  0  0\n",
      "   0  0]\n",
      " [ 0  0  0  0  0  0  0  0  0  0  0  0  0  0  0  0  0  0  0  0  0  0  9  0\n",
      "   0  0]\n",
      " [ 1  0  0  0  0  0  0  0  0  0  0  0  0  1  0  0  0  1  0  0  0  1  0  4\n",
      "   0  0]\n",
      " [ 0  0  0  0  0  0  0  0  0  0  0  0  0  1  0  0  0  0  0  0  0  0  0  0\n",
      "   7  0]\n",
      " [ 0  1  0  0  0  0  0  0  0  1  0  0  0  0  0  0  0  0  0  0  0  0  0  0\n",
      "   0  7]]\n",
      "              precision    recall  f1-score   support\n",
      "\n",
      "           0       0.58      0.70      0.64        10\n",
      "           1       0.60      0.67      0.63         9\n",
      "           2       1.00      1.00      1.00        10\n",
      "           3       0.86      0.75      0.80         8\n",
      "           4       0.80      0.50      0.62         8\n",
      "           5       0.42      0.62      0.50         8\n",
      "           6       0.73      0.80      0.76        10\n",
      "           7       0.86      0.67      0.75         9\n",
      "           8       1.00      0.70      0.82        10\n",
      "           9       0.54      0.70      0.61        10\n",
      "          10       1.00      0.90      0.95        10\n",
      "          11       0.77      1.00      0.87        10\n",
      "          12       0.89      0.80      0.84        10\n",
      "          13       0.38      0.60      0.46        10\n",
      "          14       1.00      0.80      0.89        10\n",
      "          15       0.77      1.00      0.87        10\n",
      "          16       1.00      0.80      0.89        10\n",
      "          17       0.77      1.00      0.87        10\n",
      "          18       1.00      0.56      0.71         9\n",
      "          19       1.00      0.50      0.67         8\n",
      "          20       0.71      0.62      0.67         8\n",
      "          21       0.50      0.50      0.50         8\n",
      "          22       0.90      1.00      0.95         9\n",
      "          23       1.00      0.50      0.67         8\n",
      "          24       0.64      0.88      0.74         8\n",
      "          25       1.00      0.78      0.88         9\n",
      "\n",
      "    accuracy                           0.75       239\n",
      "   macro avg       0.80      0.74      0.75       239\n",
      "weighted avg       0.80      0.75      0.76       239\n",
      "\n"
     ]
    }
   ],
   "source": [
    "from sklearn.metrics import confusion_matrix, accuracy_score, classification_report\n",
    "cm = confusion_matrix(Y_val, Y_val_pred)\n",
    "cr = classification_report(Y_val, Y_val_pred)\n",
    "print(Y_val_pred)\n",
    "print(cm)\n",
    "print(cr)"
   ]
  },
  {
   "cell_type": "markdown",
   "metadata": {},
   "source": [
    "#### TEST - Predict using Test set"
   ]
  },
  {
   "cell_type": "code",
   "execution_count": 5,
   "metadata": {},
   "outputs": [],
   "source": [
    "Y_test_pred = perClass.predict(X_test)"
   ]
  },
  {
   "cell_type": "markdown",
   "metadata": {},
   "source": [
    "#### TEST - Output - Confusion matrix Test Set"
   ]
  },
  {
   "cell_type": "code",
   "execution_count": 20,
   "metadata": {
    "scrolled": true
   },
   "outputs": [
    {
     "name": "stdout",
     "output_type": "stream",
     "text": [
      "[[3 0 0 0 0 0 0 0 0 0 0 0 0 0 0 0 0 1 0 0 0 0 0 0 0 0]\n",
      " [0 2 0 0 0 0 0 0 0 0 0 0 0 0 0 0 0 0 0 0 0 0 0 0 0 0]\n",
      " [0 0 3 0 0 0 0 0 0 0 0 1 0 0 0 0 0 0 0 0 0 0 0 0 0 0]\n",
      " [0 0 0 3 0 0 0 0 0 0 0 0 0 0 0 0 0 0 0 0 0 0 0 0 0 0]\n",
      " [0 0 0 0 2 0 0 0 0 0 0 0 0 0 0 0 0 0 0 0 0 0 0 0 0 0]\n",
      " [0 0 0 0 0 1 0 0 0 0 0 0 0 0 0 1 0 0 0 0 0 0 0 0 0 0]\n",
      " [1 0 0 0 0 0 3 0 0 0 0 0 0 0 0 0 0 0 0 0 0 0 0 0 0 0]\n",
      " [0 0 0 0 0 0 0 1 0 0 0 0 1 0 0 0 0 1 0 0 0 0 0 0 0 0]\n",
      " [0 0 0 0 0 0 0 0 3 0 0 0 0 0 0 0 0 0 0 0 0 0 0 0 0 0]\n",
      " [0 0 0 0 0 0 0 0 0 3 0 0 0 0 0 0 0 0 0 1 0 0 0 0 0 0]\n",
      " [0 0 0 0 0 0 0 1 0 0 1 0 0 0 0 0 0 1 0 0 0 0 0 0 0 0]\n",
      " [0 0 0 0 0 0 0 0 0 0 0 4 0 0 0 0 0 0 0 0 0 0 0 0 0 0]\n",
      " [1 0 0 0 0 0 0 1 0 0 0 0 1 0 0 0 0 0 0 0 0 0 0 0 0 0]\n",
      " [0 0 0 0 0 0 0 0 0 0 0 0 0 4 0 0 0 0 0 0 0 0 0 0 0 0]\n",
      " [0 0 0 0 0 0 0 0 0 0 0 0 0 0 3 0 0 0 0 0 0 0 0 0 0 0]\n",
      " [0 0 0 0 0 0 0 0 0 0 0 0 0 0 0 3 0 0 0 0 0 0 0 0 0 0]\n",
      " [0 0 0 0 0 0 0 0 0 0 0 0 0 0 0 0 3 0 0 0 0 0 0 0 0 0]\n",
      " [0 0 0 0 0 0 0 0 0 0 1 0 0 0 0 0 0 3 0 0 0 0 0 0 0 0]\n",
      " [0 0 0 0 0 0 0 0 0 0 0 0 0 0 0 0 1 0 2 0 0 0 0 0 0 0]\n",
      " [0 0 0 0 0 2 0 0 0 0 0 0 0 0 0 0 0 0 0 0 0 0 0 0 0 0]\n",
      " [0 0 0 0 0 0 0 0 0 0 0 0 0 0 0 0 0 0 0 0 3 0 0 0 0 0]\n",
      " [0 0 0 0 0 0 0 0 0 0 0 0 0 0 0 0 0 0 0 0 0 3 0 0 0 0]\n",
      " [0 0 0 0 0 0 0 0 0 0 0 0 0 0 0 0 0 0 0 0 0 0 3 0 0 0]\n",
      " [0 0 0 0 0 0 0 0 0 0 0 0 0 0 0 0 0 1 0 0 0 0 0 1 0 0]\n",
      " [0 0 0 0 0 0 0 0 0 0 0 0 0 0 0 0 0 0 0 0 0 0 0 0 3 0]\n",
      " [0 0 0 0 0 0 0 0 0 1 1 0 0 0 0 0 0 0 0 0 0 0 0 0 0 1]]\n",
      "              precision    recall  f1-score   support\n",
      "\n",
      "           0       0.60      0.75      0.67         4\n",
      "           1       1.00      1.00      1.00         2\n",
      "           2       1.00      0.75      0.86         4\n",
      "           3       1.00      1.00      1.00         3\n",
      "           4       1.00      1.00      1.00         2\n",
      "           5       0.33      0.50      0.40         2\n",
      "           6       1.00      0.75      0.86         4\n",
      "           7       0.33      0.33      0.33         3\n",
      "           8       1.00      1.00      1.00         3\n",
      "           9       0.75      0.75      0.75         4\n",
      "          10       0.33      0.33      0.33         3\n",
      "          11       0.80      1.00      0.89         4\n",
      "          12       0.50      0.33      0.40         3\n",
      "          13       1.00      1.00      1.00         4\n",
      "          14       1.00      1.00      1.00         3\n",
      "          15       0.75      1.00      0.86         3\n",
      "          16       0.75      1.00      0.86         3\n",
      "          17       0.43      0.75      0.55         4\n",
      "          18       1.00      0.67      0.80         3\n",
      "          19       0.00      0.00      0.00         2\n",
      "          20       1.00      1.00      1.00         3\n",
      "          21       1.00      1.00      1.00         3\n",
      "          22       1.00      1.00      1.00         3\n",
      "          23       1.00      0.50      0.67         2\n",
      "          24       1.00      1.00      1.00         3\n",
      "          25       1.00      0.33      0.50         3\n",
      "\n",
      "    accuracy                           0.78        80\n",
      "   macro avg       0.79      0.76      0.76        80\n",
      "weighted avg       0.80      0.78      0.77        80\n",
      "\n"
     ]
    }
   ],
   "source": [
    "from sklearn.metrics import confusion_matrix, accuracy_score, classification_report\n",
    "import csv\n",
    "\n",
    "cm = confusion_matrix(Y_test, Y_test_pred)\n",
    "cr = classification_report(Y_test, Y_test_pred)\n",
    "print(cm)\n",
    "print(cr)\n",
    "\n",
    "#output result\n",
    "pd.DataFrame(Y_test_pred).to_csv('output/PER-DS1.csv', header = None)\n",
    "#append report\n",
    "with open('output/PER-DS1.csv', 'a') as fd:\n",
    "    fd.write('\\n\\nConfusion Matrix\\n\\n')\n",
    "    fd.write(pd.DataFrame(cm).to_csv())\n",
    "    fd.write('\\n\\n Classification Report\\n\\n')\n",
    "    fd.write(cr)\n"
   ]
  },
  {
   "cell_type": "markdown",
   "metadata": {
    "slideshow": {
     "slide_type": "-"
    }
   },
   "source": [
    "# PER-DS2"
   ]
  },
  {
   "cell_type": "markdown",
   "metadata": {},
   "source": [
    "#### Import data"
   ]
  },
  {
   "cell_type": "code",
   "execution_count": null,
   "metadata": {},
   "outputs": [],
   "source": [
    "from sklearn.linear_model import Perceptron\n",
    "import numpy as np\n",
    "import pandas as pd\n",
    "\n",
    "#import data set according to selection\n",
    "dataset_train = pd.read_csv(\"dataset/train_2.csv\", header=None)\n",
    "dataset_val = pd.read_csv(\"dataset/val_2.csv\", header=None)\n",
    "dataset_test = pd.read_csv(\"dataset/test_no_label_2.csv\", header=None)\n",
    "dataset_test_with_label = pd.read_csv(\"dataset/test_with_label_2.csv\", header=None)\n",
    "\n",
    "# X = data, Y = target\n",
    "X_train = dataset_train.iloc[:, :-1].values\n",
    "Y_train = dataset_train.iloc[:, -1].values\n",
    "X_val = dataset_val.iloc[:, :-1].values\n",
    "Y_val = dataset_val.iloc[:, -1].values\n",
    "X_test = dataset_test.iloc[:, ].values\n",
    "Y_test = dataset_test_with_label.iloc[:,-1].values\n",
    "\n",
    "# Train model\n",
    "perClass = Perceptron()\n",
    "perClass.fit(X_train, Y_train)"
   ]
  },
  {
   "cell_type": "markdown",
   "metadata": {},
   "source": [
    "#### VALIDATE - Predict using Validate set"
   ]
  },
  {
   "cell_type": "code",
   "execution_count": null,
   "metadata": {},
   "outputs": [],
   "source": [
    "Y_val_pred = perClass.predict(X_val)"
   ]
  },
  {
   "cell_type": "markdown",
   "metadata": {},
   "source": [
    "#### VALIDATE - Output - Confusion matrix validate Set"
   ]
  },
  {
   "cell_type": "code",
   "execution_count": null,
   "metadata": {},
   "outputs": [],
   "source": [
    "from sklearn.metrics import confusion_matrix, accuracy_score, classification_report\n",
    "cm = confusion_matrix(Y_val, Y_val_pred)\n",
    "cr = classification_report(Y_val, Y_val_pred)\n",
    "print(Y_val_pred)\n",
    "print(cm)\n",
    "print(cr)"
   ]
  },
  {
   "cell_type": "markdown",
   "metadata": {},
   "source": [
    "#### TEST - Predict using Test set"
   ]
  },
  {
   "cell_type": "code",
   "execution_count": null,
   "metadata": {},
   "outputs": [],
   "source": [
    "Y_test_pred = perClass.predict(X_test)"
   ]
  },
  {
   "cell_type": "markdown",
   "metadata": {},
   "source": [
    "#### TEST - Output - Confusion matrix Test Set"
   ]
  },
  {
   "cell_type": "code",
   "execution_count": null,
   "metadata": {},
   "outputs": [],
   "source": [
    "from sklearn.metrics import confusion_matrix, accuracy_score, classification_report\n",
    "import csv\n",
    "\n",
    "cm = confusion_matrix(Y_test, Y_test_pred)\n",
    "cr = classification_report(Y_test, Y_test_pred)\n",
    "print(cm)\n",
    "print(cr)\n",
    "\n",
    "#output result\n",
    "pd.DataFrame(Y_test_pred).to_csv('output/PER-DS2.csv', header = None)\n",
    "#append report\n",
    "with open('output/PER-DS2.csv', 'a') as fd:\n",
    "    fd.write('\\n\\nConfusion Matrix\\n\\n')\n",
    "    fd.write(pd.DataFrame(cm).to_csv())\n",
    "    fd.write('\\n\\n Classification Report\\n\\n')\n",
    "    fd.write(cr)"
   ]
  }
 ],
 "metadata": {
  "celltoolbar": "Raw Cell Format",
  "kernelspec": {
   "display_name": "Python 3",
   "language": "python",
   "name": "python3"
  },
  "language_info": {
   "codemirror_mode": {
    "name": "ipython",
    "version": 3
   },
   "file_extension": ".py",
   "mimetype": "text/x-python",
   "name": "python",
   "nbconvert_exporter": "python",
   "pygments_lexer": "ipython3",
   "version": "3.8.0"
  }
 },
 "nbformat": 4,
 "nbformat_minor": 4
}
