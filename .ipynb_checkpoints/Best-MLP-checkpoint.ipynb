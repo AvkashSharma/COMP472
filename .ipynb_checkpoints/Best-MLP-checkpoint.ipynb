{
 "cells": [
  {
   "cell_type": "markdown",
   "metadata": {},
   "source": [
    "# Best-MLP\n",
    "a better performing Multi-Layered Perceptron found by performing grid search to find the best combination of hyper-parameters. For this, you need to experiment with the following parameter values:\n",
    "* activation function: sigmoid, tanh, relu and identity \n",
    "* 2 network architectures of your choice: for eg 2 hidden layers with 30+50 nodes, 3 hidden layers with 10+10 \n",
    "* solver: Adam and stochastic gradient descent"
   ]
  },
  {
   "cell_type": "markdown",
   "metadata": {},
   "source": [
    "# Best-MLP-DS1"
   ]
  },
  {
   "cell_type": "markdown",
   "metadata": {},
   "source": [
    "#### Import data"
   ]
  },
  {
   "cell_type": "code",
   "execution_count": 4,
   "metadata": {},
   "outputs": [],
   "source": [
    "from sklearn.neural_network import MLPClassifier\n",
    "from sklearn.model_selection import GridSearchCV\n",
    "import numpy as np\n",
    "import pandas as pd\n",
    "import warnings\n",
    "warnings.filterwarnings(\"ignore\")\n",
    "\n",
    "#import data set according to selection\n",
    "dataset_train = pd.read_csv(\"dataset/train_1.csv\", header=None)\n",
    "dataset_val = pd.read_csv(\"dataset/val_1.csv\", header=None)\n",
    "dataset_test = pd.read_csv(\"dataset/test_no_label_1.csv\", header=None)\n",
    "dataset_test_with_label = pd.read_csv(\"dataset/test_with_label_1.csv\", header=None)\n",
    "\n",
    "# X = data, Y = target\n",
    "X_train = dataset_train.iloc[:, :-1].values\n",
    "Y_train = dataset_train.iloc[:, -1].values\n",
    "X_val = dataset_val.iloc[:, :-1].values\n",
    "Y_val = dataset_val.iloc[:, -1].values\n",
    "X_test = dataset_test.iloc[:, ].values\n",
    "Y_test = dataset_test_with_label.iloc[:,-1].values"
   ]
  },
  {
   "cell_type": "markdown",
   "metadata": {},
   "source": [
    "#### Train Model"
   ]
  },
  {
   "cell_type": "code",
   "execution_count": 5,
   "metadata": {},
   "outputs": [
    {
     "data": {
      "text/plain": [
       "GridSearchCV(estimator=MLPClassifier(),\n",
       "             param_grid={'activation': ['logistic', 'tanh', 'relu'],\n",
       "                         'hidden_layer_sizes': [(30, 50), (10, 10, 10)],\n",
       "                         'solver': ['adam', 'sgd']})"
      ]
     },
     "execution_count": 5,
     "metadata": {},
     "output_type": "execute_result"
    }
   ],
   "source": [
    "param_grid = {\n",
    "    'hidden_layer_sizes': [(30,50,), (10,10,10,)],\n",
    "    'activation': ['logistic', 'tanh', 'relu'],\n",
    "    'solver': ['adam', 'sgd']\n",
    "}\n",
    "# Train model\n",
    "cls = GridSearchCV(MLPClassifier(), param_grid)\n",
    "cls.fit(X_train, Y_train)"
   ]
  },
  {
   "cell_type": "markdown",
   "metadata": {},
   "source": [
    "#### VALIDATE - Predict using Validate set"
   ]
  },
  {
   "cell_type": "code",
   "execution_count": 6,
   "metadata": {},
   "outputs": [],
   "source": [
    "Y_val_pred = cls.predict(X_val)"
   ]
  },
  {
   "cell_type": "markdown",
   "metadata": {},
   "source": [
    "#### VALIDATE - Output - Confusion matrix validate Set"
   ]
  },
  {
   "cell_type": "code",
   "execution_count": 7,
   "metadata": {
    "scrolled": true
   },
   "outputs": [
    {
     "name": "stdout",
     "output_type": "stream",
     "text": [
      "[ 1 17  7 12  1 16 17 25 14  9 25  4 13 24 25 13 11 15 11 15  5  8 19 21\n",
      " 24 21 15  1 20  4 15 20 20  0 24 17 10 21  8 23  3 19 18  6 15  3 25 22\n",
      "  8  2 10 23 12  7 16  9  2  6  3 14 11  6  3 13 23 14  0  9 20 11 10  8\n",
      "  3  4  7 18  8  2 25 14 12 20  5 25  7 14  0 18 14 12 19 10 23  5 25  6\n",
      "  2  0 13 25 16 16  3 13  7 23 21  9 13 13  5 18 11 14 22 21 10 17 18 17\n",
      "  0 15 11 17 15 11 14  7 25 11 21 16 17  8 16 19 22  5 23 23  0  8 16  9\n",
      "  3  6  6  1  3  6 22  1 19 15  5  9  4  8 20 22 13 25  0 12 23  6  4  2\n",
      " 13  9 15 22  6 15 16 24 11 19 10  6  3  0  4  5 24  2 11 22 18 23  2 15\n",
      " 21 15  9 21  2 10 11  1  8 12  1  0  7  5  9  2  2 13 15 21 10 16 11  6\n",
      "  8  9  6 24  0 24  2 13 24  4 21 19 12 14 14 11 24 10 21 24  2  8  5]\n",
      "[[ 9  0  0  0  0  0  0  0  0  0  0  0  0  1  0  0  0  0  0  0  0  0  0  0\n",
      "   0  0]\n",
      " [ 0  5  0  0  1  1  0  0  0  1  0  0  1  0  0  0  0  0  0  0  0  0  0  0\n",
      "   0  0]\n",
      " [ 0  0 10  0  0  0  0  0  0  0  0  0  0  0  0  0  0  0  0  0  0  0  0  0\n",
      "   0  0]\n",
      " [ 0  0  0  6  0  0  0  0  0  0  0  0  0  0  1  0  0  0  0  0  0  0  0  0\n",
      "   0  1]\n",
      " [ 0  0  0  0  6  1  0  0  0  0  0  1  0  0  0  0  0  0  0  0  0  0  0  0\n",
      "   0  0]\n",
      " [ 0  0  1  0  0  6  0  0  0  0  0  0  0  0  0  1  0  0  0  0  0  0  0  0\n",
      "   0  0]\n",
      " [ 0  0  0  0  0  0  8  0  0  0  0  0  0  0  1  0  1  0  0  0  0  0  0  0\n",
      "   0  0]\n",
      " [ 0  0  0  0  0  0  0  6  0  0  0  0  0  0  0  1  0  0  0  0  0  2  0  0\n",
      "   0  0]\n",
      " [ 0  0  0  0  0  0  0  0 10  0  0  0  0  0  0  0  0  0  0  0  0  0  0  0\n",
      "   0  0]\n",
      " [ 0  0  0  1  0  0  0  0  1  8  0  0  0  0  0  0  0  0  0  0  0  0  0  0\n",
      "   0  0]\n",
      " [ 0  0  0  0  0  0  0  0  0  0  9  0  0  1  0  0  0  0  0  0  0  0  0  0\n",
      "   0  0]\n",
      " [ 0  0  1  0  0  0  0  0  0  0  0  9  0  0  0  0  0  0  0  0  0  0  0  0\n",
      "   0  0]\n",
      " [ 0  1  0  0  0  0  0  1  0  0  0  0  6  0  0  0  0  0  0  1  0  1  0  0\n",
      "   0  0]\n",
      " [ 0  0  0  1  0  0  0  0  0  0  0  0  0  6  0  0  0  0  0  0  0  2  0  1\n",
      "   0  0]\n",
      " [ 0  0  0  1  0  0  0  0  0  0  0  0  0  0  8  0  1  0  0  0  0  0  0  0\n",
      "   0  0]\n",
      " [ 0  0  0  0  0  0  0  0  0  0  0  0  0  0  0  9  0  0  0  0  0  0  0  0\n",
      "   1  0]\n",
      " [ 0  0  0  0  0  0  3  0  0  0  0  0  0  0  0  0  7  0  0  0  0  0  0  0\n",
      "   0  0]\n",
      " [ 1  0  0  0  0  0  0  0  0  0  0  0  0  0  0  1  0  7  0  0  0  0  0  0\n",
      "   1  0]\n",
      " [ 0  1  0  0  0  0  0  0  0  1  0  1  0  0  0  0  0  0  6  0  0  0  0  0\n",
      "   0  0]\n",
      " [ 0  0  0  0  0  1  0  0  0  0  0  0  0  0  0  1  0  0  0  6  0  0  0  0\n",
      "   0  0]\n",
      " [ 0  0  0  0  0  0  1  0  0  0  0  2  0  0  0  0  0  0  0  0  5  0  0  0\n",
      "   0  0]\n",
      " [ 0  0  0  0  0  0  0  0  0  0  0  0  0  3  0  0  0  0  0  0  0  5  0  0\n",
      "   0  0]\n",
      " [ 0  0  0  0  0  0  0  0  0  0  0  0  0  0  0  0  0  0  0  0  1  1  7  0\n",
      "   0  0]\n",
      " [ 0  0  0  0  0  0  0  0  0  0  0  0  0  0  0  0  0  0  0  0  0  0  0  8\n",
      "   0  0]\n",
      " [ 0  0  0  0  0  0  0  0  0  0  0  0  0  0  0  0  0  0  0  0  0  0  0  0\n",
      "   8  0]\n",
      " [ 0  0  0  0  0  0  0  0  0  0  0  0  0  0  0  0  0  0  0  0  0  0  0  0\n",
      "   0  9]]\n",
      "              precision    recall  f1-score   support\n",
      "\n",
      "           0       0.90      0.90      0.90        10\n",
      "           1       0.71      0.56      0.63         9\n",
      "           2       0.83      1.00      0.91        10\n",
      "           3       0.67      0.75      0.71         8\n",
      "           4       0.86      0.75      0.80         8\n",
      "           5       0.67      0.75      0.71         8\n",
      "           6       0.67      0.80      0.73        10\n",
      "           7       0.86      0.67      0.75         9\n",
      "           8       0.91      1.00      0.95        10\n",
      "           9       0.80      0.80      0.80        10\n",
      "          10       1.00      0.90      0.95        10\n",
      "          11       0.69      0.90      0.78        10\n",
      "          12       0.86      0.60      0.71        10\n",
      "          13       0.55      0.60      0.57        10\n",
      "          14       0.80      0.80      0.80        10\n",
      "          15       0.69      0.90      0.78        10\n",
      "          16       0.78      0.70      0.74        10\n",
      "          17       1.00      0.70      0.82        10\n",
      "          18       1.00      0.67      0.80         9\n",
      "          19       0.86      0.75      0.80         8\n",
      "          20       0.83      0.62      0.71         8\n",
      "          21       0.45      0.62      0.53         8\n",
      "          22       1.00      0.78      0.88         9\n",
      "          23       0.89      1.00      0.94         8\n",
      "          24       0.80      1.00      0.89         8\n",
      "          25       0.90      1.00      0.95         9\n",
      "\n",
      "    accuracy                           0.79       239\n",
      "   macro avg       0.81      0.79      0.79       239\n",
      "weighted avg       0.81      0.79      0.79       239\n",
      "\n"
     ]
    }
   ],
   "source": [
    "from sklearn.metrics import confusion_matrix, accuracy_score, classification_report\n",
    "cm = confusion_matrix(Y_val, Y_val_pred)\n",
    "cr = classification_report(Y_val, Y_val_pred)\n",
    "print(Y_val_pred)\n",
    "print(cm)\n",
    "print(cr)"
   ]
  },
  {
   "cell_type": "markdown",
   "metadata": {},
   "source": [
    "#### TEST - Predict using Test set"
   ]
  },
  {
   "cell_type": "code",
   "execution_count": 8,
   "metadata": {},
   "outputs": [],
   "source": [
    "Y_test_pred = cls.predict(X_test)"
   ]
  },
  {
   "cell_type": "markdown",
   "metadata": {},
   "source": [
    "#### TEST - Output - Confusion matrix Test Set"
   ]
  },
  {
   "cell_type": "code",
   "execution_count": 9,
   "metadata": {
    "scrolled": true
   },
   "outputs": [
    {
     "name": "stdout",
     "output_type": "stream",
     "text": [
      "[[3 0 0 0 0 1 0 0 0 0 0 0 0 0 0 0 0 0 0 0 0 0 0 0 0 0]\n",
      " [0 1 0 0 0 0 0 0 0 0 0 0 0 0 0 0 0 1 0 0 0 0 0 0 0 0]\n",
      " [0 0 4 0 0 0 0 0 0 0 0 0 0 0 0 0 0 0 0 0 0 0 0 0 0 0]\n",
      " [0 0 0 2 0 0 0 0 0 0 0 0 0 0 1 0 0 0 0 0 0 0 0 0 0 0]\n",
      " [0 0 0 0 2 0 0 0 0 0 0 0 0 0 0 0 0 0 0 0 0 0 0 0 0 0]\n",
      " [0 0 0 0 0 1 0 0 0 0 0 0 0 0 0 1 0 0 0 0 0 0 0 0 0 0]\n",
      " [0 0 0 0 0 0 4 0 0 0 0 0 0 0 0 0 0 0 0 0 0 0 0 0 0 0]\n",
      " [0 0 0 0 0 0 0 3 0 0 0 0 0 0 0 0 0 0 0 0 0 0 0 0 0 0]\n",
      " [0 0 0 0 0 0 0 0 3 0 0 0 0 0 0 0 0 0 0 0 0 0 0 0 0 0]\n",
      " [0 0 0 0 0 0 0 0 1 2 0 0 0 0 0 0 0 0 0 1 0 0 0 0 0 0]\n",
      " [0 0 0 0 0 0 0 1 0 0 1 0 0 0 0 0 0 0 0 0 0 1 0 0 0 0]\n",
      " [0 0 0 0 0 0 0 0 0 0 0 4 0 0 0 0 0 0 0 0 0 0 0 0 0 0]\n",
      " [0 0 0 0 0 0 1 1 0 0 0 0 1 0 0 0 0 0 0 0 0 0 0 0 0 0]\n",
      " [1 0 0 0 0 0 0 0 0 0 0 0 0 3 0 0 0 0 0 0 0 0 0 0 0 0]\n",
      " [0 0 0 0 0 0 0 0 0 0 0 0 0 0 3 0 0 0 0 0 0 0 0 0 0 0]\n",
      " [0 0 0 0 0 0 0 0 0 0 0 0 0 0 0 3 0 0 0 0 0 0 0 0 0 0]\n",
      " [0 0 0 0 0 0 0 0 0 0 0 0 0 0 0 0 3 0 0 0 0 0 0 0 0 0]\n",
      " [0 0 0 0 0 0 0 0 0 0 1 0 0 0 0 0 0 3 0 0 0 0 0 0 0 0]\n",
      " [0 0 0 0 0 0 1 0 0 0 0 0 0 0 0 0 0 0 2 0 0 0 0 0 0 0]\n",
      " [0 0 0 0 0 0 0 0 0 0 0 0 0 0 0 0 0 0 0 2 0 0 0 0 0 0]\n",
      " [0 0 0 0 0 0 0 0 0 0 0 0 0 0 0 0 0 0 0 0 3 0 0 0 0 0]\n",
      " [0 0 0 0 0 0 0 0 0 0 0 0 0 0 0 0 0 0 0 0 1 2 0 0 0 0]\n",
      " [0 0 0 0 0 0 0 0 0 0 0 0 0 0 0 0 0 0 0 0 0 0 3 0 0 0]\n",
      " [0 0 0 0 0 0 0 0 0 0 0 0 0 0 0 0 0 0 0 0 0 0 0 2 0 0]\n",
      " [0 0 0 0 0 0 0 0 0 0 0 0 0 0 0 0 0 0 0 0 0 0 0 0 3 0]\n",
      " [0 0 0 0 0 0 0 0 0 0 1 0 0 0 0 0 0 0 0 0 0 0 0 0 0 2]]\n",
      "              precision    recall  f1-score   support\n",
      "\n",
      "           0       0.75      0.75      0.75         4\n",
      "           1       1.00      0.50      0.67         2\n",
      "           2       1.00      1.00      1.00         4\n",
      "           3       1.00      0.67      0.80         3\n",
      "           4       1.00      1.00      1.00         2\n",
      "           5       0.50      0.50      0.50         2\n",
      "           6       0.67      1.00      0.80         4\n",
      "           7       0.60      1.00      0.75         3\n",
      "           8       0.75      1.00      0.86         3\n",
      "           9       1.00      0.50      0.67         4\n",
      "          10       0.33      0.33      0.33         3\n",
      "          11       1.00      1.00      1.00         4\n",
      "          12       1.00      0.33      0.50         3\n",
      "          13       1.00      0.75      0.86         4\n",
      "          14       0.75      1.00      0.86         3\n",
      "          15       0.75      1.00      0.86         3\n",
      "          16       1.00      1.00      1.00         3\n",
      "          17       0.75      0.75      0.75         4\n",
      "          18       1.00      0.67      0.80         3\n",
      "          19       0.67      1.00      0.80         2\n",
      "          20       0.75      1.00      0.86         3\n",
      "          21       0.67      0.67      0.67         3\n",
      "          22       1.00      1.00      1.00         3\n",
      "          23       1.00      1.00      1.00         2\n",
      "          24       1.00      1.00      1.00         3\n",
      "          25       1.00      0.67      0.80         3\n",
      "\n",
      "    accuracy                           0.81        80\n",
      "   macro avg       0.84      0.81      0.80        80\n",
      "weighted avg       0.85      0.81      0.81        80\n",
      "\n"
     ]
    }
   ],
   "source": [
    "from sklearn.metrics import confusion_matrix, accuracy_score, classification_report\n",
    "import csv\n",
    "\n",
    "cm = confusion_matrix(Y_test, Y_test_pred)\n",
    "cr = classification_report(Y_test, Y_test_pred)\n",
    "print(cm)\n",
    "print(cr)\n",
    "\n",
    "#output result\n",
    "pd.DataFrame(Y_test_pred).to_csv('output/Best-MLP-DS1.csv', header = None)\n",
    "#append report\n",
    "with open('output/Best-MLP-DS1.csv', 'a') as fd:\n",
    "    fd.write('\\n\\nConfusion Matrix\\n\\n')\n",
    "    fd.write(pd.DataFrame(cm).to_csv())\n",
    "    fd.write('\\n\\n Classification Report\\n\\n')\n",
    "    fd.write(cr)\n"
   ]
  },
  {
   "cell_type": "markdown",
   "metadata": {
    "slideshow": {
     "slide_type": "-"
    }
   },
   "source": [
    "# Best-MLP-DS2"
   ]
  },
  {
   "cell_type": "markdown",
   "metadata": {},
   "source": [
    "#### Import data"
   ]
  },
  {
   "cell_type": "code",
   "execution_count": 10,
   "metadata": {},
   "outputs": [],
   "source": [
    "from sklearn.neural_network import MLPClassifier\n",
    "from sklearn.model_selection import GridSearchCV\n",
    "import numpy as np\n",
    "import pandas as pd\n",
    "import warnings\n",
    "warnings.filterwarnings(\"ignore\")\n",
    "\n",
    "#import data set according to selection\n",
    "dataset_train = pd.read_csv(\"dataset/train_2.csv\", header=None)\n",
    "dataset_val = pd.read_csv(\"dataset/val_2.csv\", header=None)\n",
    "dataset_test = pd.read_csv(\"dataset/test_no_label_2.csv\", header=None)\n",
    "dataset_test_with_label = pd.read_csv(\"dataset/test_with_label_2.csv\", header=None)\n",
    "\n",
    "# X = data, Y = target\n",
    "X_train = dataset_train.iloc[:, :-1].values\n",
    "Y_train = dataset_train.iloc[:, -1].values\n",
    "X_val = dataset_val.iloc[:, :-1].values\n",
    "Y_val = dataset_val.iloc[:, -1].values\n",
    "X_test = dataset_test.iloc[:, ].values\n",
    "Y_test = dataset_test_with_label.iloc[:,-1].values"
   ]
  },
  {
   "cell_type": "markdown",
   "metadata": {},
   "source": [
    "#### Train Model"
   ]
  },
  {
   "cell_type": "code",
   "execution_count": null,
   "metadata": {},
   "outputs": [],
   "source": [
    "param_grid = {\n",
    "    'hidden_layer_sizes': [(30,50,), (10,10,10,)],\n",
    "    'activation': ['logistic', 'tanh', 'relu'],\n",
    "    'solver': ['adam', 'sgd']\n",
    "}\n",
    "# Train model\n",
    "cls2 = GridSearchCV(MLPClassifier(), param_grid)\n",
    "cls2.fit(X_train, Y_train)"
   ]
  },
  {
   "cell_type": "markdown",
   "metadata": {},
   "source": [
    "#### VALIDATE - Predict using Validate set"
   ]
  },
  {
   "cell_type": "code",
   "execution_count": null,
   "metadata": {},
   "outputs": [],
   "source": [
    "Y_val_pred = cls2.predict(X_val)"
   ]
  },
  {
   "cell_type": "markdown",
   "metadata": {},
   "source": [
    "#### VALIDATE - Output - Confusion matrix validate Set"
   ]
  },
  {
   "cell_type": "code",
   "execution_count": null,
   "metadata": {},
   "outputs": [],
   "source": [
    "from sklearn.metrics import confusion_matrix, accuracy_score, classification_report\n",
    "cm = confusion_matrix(Y_val, Y_val_pred)\n",
    "cr = classification_report(Y_val, Y_val_pred)\n",
    "print(Y_val_pred)\n",
    "print(cm)\n",
    "print(cr)"
   ]
  },
  {
   "cell_type": "markdown",
   "metadata": {},
   "source": [
    "#### TEST - Predict using Test set"
   ]
  },
  {
   "cell_type": "code",
   "execution_count": null,
   "metadata": {},
   "outputs": [],
   "source": [
    "Y_test_pred = cls.predict(X_test)"
   ]
  },
  {
   "cell_type": "markdown",
   "metadata": {},
   "source": [
    "#### TEST - Output - Confusion matrix Test Set"
   ]
  },
  {
   "cell_type": "code",
   "execution_count": null,
   "metadata": {},
   "outputs": [],
   "source": [
    "from sklearn.metrics import confusion_matrix, accuracy_score, classification_report\n",
    "import csv\n",
    "\n",
    "cm = confusion_matrix(Y_test, Y_test_pred)\n",
    "cr = classification_report(Y_test, Y_test_pred)\n",
    "print(cm)\n",
    "print(cr)\n",
    "\n",
    "#output result\n",
    "pd.DataFrame(Y_test_pred).to_csv('output/Best-MLP-DS2.csv', header = None)\n",
    "#append report\n",
    "with open('output/Best-MLP-DS2.csv', 'a') as fd:\n",
    "    fd.write('\\n\\nConfusion Matrix\\n\\n')\n",
    "    fd.write(pd.DataFrame(cm).to_csv())\n",
    "    fd.write('\\n\\n Classification Report\\n\\n')\n",
    "    fd.write(cr)"
   ]
  }
 ],
 "metadata": {
  "celltoolbar": "Raw Cell Format",
  "kernelspec": {
   "display_name": "Python 3",
   "language": "python",
   "name": "python3"
  },
  "language_info": {
   "codemirror_mode": {
    "name": "ipython",
    "version": 3
   },
   "file_extension": ".py",
   "mimetype": "text/x-python",
   "name": "python",
   "nbconvert_exporter": "python",
   "pygments_lexer": "ipython3",
   "version": "3.8.0"
  }
 },
 "nbformat": 4,
 "nbformat_minor": 4
}
