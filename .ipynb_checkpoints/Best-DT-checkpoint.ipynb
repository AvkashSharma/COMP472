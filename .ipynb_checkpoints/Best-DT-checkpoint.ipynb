{
 "cells": [
  {
   "cell_type": "markdown",
   "metadata": {},
   "source": [
    "# -------------------Best-DT-------------------\n",
    "a better performing Decision Tree found by performing grid search to find the best combination of hyper-parameters. For this, you need to experiment with the following parameter values:\n",
    "* splitting criterion: gini and entropy\n",
    "* maximum depth of the tree: 10 and no maximum\n",
    "* minimum number of samples to split an internal node: experiment with values of your choice\n",
    "* minimum impurity decrease: experiment with values of your choice\n",
    "* class weight: None and balanced"
   ]
  },
  {
   "cell_type": "markdown",
   "metadata": {},
   "source": [
    "## Importing Libraries"
   ]
  },
  {
   "cell_type": "code",
   "execution_count": 181,
   "metadata": {},
   "outputs": [],
   "source": [
    "import numpy as np\n",
    "import pandas as pd"
   ]
  },
  {
   "cell_type": "markdown",
   "metadata": {},
   "source": [
    "## Importing and Splitting the dataset"
   ]
  },
  {
   "cell_type": "code",
   "execution_count": 182,
   "metadata": {},
   "outputs": [],
   "source": [
    "dataset_train1 = pd.read_csv(\"dataset/train_1.csv\", header=None)\n",
    "dataset_validate1 = pd.read_csv(\"dataset/val_1.csv\",header=None)\n",
    "dataset_test1_no_label_1 = pd.read_csv(\"dataset/test_no_label_1.csv\",header=None)\n",
    "dataset_test1_with_label_1 = pd.read_csv(\"dataset/test_with_label_1.csv\",header=None)\n",
    "X_training_1 = dataset_train1.iloc[:, :-1].values\n",
    "Y_training_1 = dataset_train1.iloc[:, -1].values\n",
    "X_validate_1 = dataset_validate1.iloc[:, :-1].values\n",
    "Y_validate_1 = dataset_validate1.iloc[:, -1].values\n",
    "X_test1 = dataset_test1_no_label_1.iloc[:, ].values\n",
    "Y_test1 = dataset_test1_with_label_1.iloc[:,-1]"
   ]
  },
  {
   "cell_type": "markdown",
   "metadata": {},
   "source": [
    "## Training Using Training set"
   ]
  },
  {
   "cell_type": "code",
   "execution_count": 183,
   "metadata": {},
   "outputs": [
    {
     "data": {
      "text/plain": [
       "DecisionTreeClassifier(criterion='entropy', max_depth=10,\n",
       "                       min_impurity_decrease=0)"
      ]
     },
     "execution_count": 183,
     "metadata": {},
     "output_type": "execute_result"
    }
   ],
   "source": [
    "from sklearn.tree import export_graphviz\n",
    "from sklearn.model_selection   import GridSearchCV, cross_val_score\n",
    "from sklearn.model_selection import cross_val_score\n",
    "from sklearn.tree import DecisionTreeClassifier\n",
    "import warnings\n",
    "warnings.filterwarnings(\"ignore\")\n",
    "\n",
    "tree_para = {'criterion':['gini','entropy'],'max_depth':[10],'min_impurity_decrease':[0,1.0,2.0,3.0,4.0,5.0],'min_samples_split':[2,4,6,8]}\n",
    "classifier_Best_DT = GridSearchCV(DecisionTreeClassifier(), tree_para)\n",
    "classifier_Best_DT.fit(X_training_1, Y_training_1)\n",
    "classifier = classifier_Best_DT.best_estimator_\n",
    "classifier.fit(X_training_1, Y_training_1)"
   ]
  },
  {
   "cell_type": "markdown",
   "metadata": {},
   "source": [
    "## Validate - Predict Using Validate Set"
   ]
  },
  {
   "cell_type": "code",
   "execution_count": 184,
   "metadata": {},
   "outputs": [],
   "source": [
    "Y_validate1_pred = classifier.predict(X_validate_1)"
   ]
  },
  {
   "cell_type": "markdown",
   "metadata": {},
   "source": [
    "## Validate - Output - Confusion Matrix and Classification Report"
   ]
  },
  {
   "cell_type": "code",
   "execution_count": 185,
   "metadata": {},
   "outputs": [
    {
     "name": "stdout",
     "output_type": "stream",
     "text": [
      "[18 17 12 13  1 13 17  9  9  9 18 25 22 15  5 24  6  8 20 15 19  9 25 13\n",
      " 24 12  5  2 20 14 15  1 20  0 24  1 10 22  8 13 18 19 18 20  8 19 14 22\n",
      " 21  2 10  5 24  7 16 11  2  0 20 14 11 13 25 13 13  6 25  3 22 11 24 17\n",
      "  1  1  7  4  3 19 25  3 12 22  5  4  7  6  0 19 14  8 18 10 25  5  5  5\n",
      "  2  0 13 21  6 20 12 13  0 24 13 25 13 13  2  2 11  6 23 21 20  3  6  1\n",
      "  0 17 11 15 15 11 14  7 25 22 22 16 17  3 15 19 22 10 23 13 25  8 18  9\n",
      " 25  6 18  4  3 20 22  4 24 25 10 25  4  0 20 10 22  4  0 13 13  2 11 13\n",
      " 13  6 19 22 11 25 16 15 20 19 23 18 11 14  4 15 24 19 11 24 16 23 13 15\n",
      " 22  4  9 10  2 10 16 17  8  3 23  0 10  5 18  2  2 23 18  9 10 14 22  2\n",
      "  8  3 14 21  0 24  2  7 24 25 25  9 13 25  3 11 21 10 13 24  2  8  5]\n",
      "[[7 0 0 0 0 0 0 0 0 0 0 0 0 0 1 0 0 0 0 0 0 0 0 1 0 1]\n",
      " [0 1 0 1 2 0 0 0 0 1 0 0 0 0 0 1 0 1 1 0 0 0 0 0 0 1]\n",
      " [0 0 8 0 0 0 0 0 0 0 0 0 0 1 0 0 0 0 0 1 0 0 0 0 0 0]\n",
      " [0 1 0 2 0 0 0 0 0 0 0 1 0 0 0 0 0 0 2 0 1 0 0 0 0 1]\n",
      " [0 1 0 0 2 1 0 0 0 0 0 1 0 0 1 0 1 0 0 0 0 0 0 0 0 1]\n",
      " [0 0 1 0 0 2 0 0 0 0 2 0 0 0 0 0 0 0 0 2 0 0 0 0 0 1]\n",
      " [1 0 1 0 0 0 3 0 0 0 0 1 0 1 0 0 0 0 2 0 1 0 0 0 0 0]\n",
      " [1 0 0 0 0 0 0 4 1 1 1 0 0 0 0 0 0 0 0 0 0 0 1 0 0 0]\n",
      " [1 0 0 1 0 0 0 0 5 1 0 0 0 0 0 0 0 1 0 0 0 1 0 0 0 0]\n",
      " [0 0 0 3 0 0 0 0 0 2 0 1 0 0 0 0 0 0 1 1 0 0 0 0 0 2]\n",
      " [0 0 0 0 0 0 0 0 0 0 6 0 0 0 0 0 0 0 0 0 1 0 0 1 2 0]\n",
      " [0 0 0 0 0 0 0 0 0 0 0 7 0 1 0 0 0 0 0 0 1 0 1 0 0 0]\n",
      " [0 0 0 0 0 0 0 0 1 0 0 0 2 3 0 0 0 0 0 0 0 0 0 1 2 1]\n",
      " [0 0 0 0 0 0 0 1 0 0 0 0 1 5 0 0 0 0 0 0 0 0 2 0 1 0]\n",
      " [0 0 0 1 0 0 2 0 0 1 0 0 0 0 3 0 0 0 0 0 1 0 0 0 0 2]\n",
      " [0 0 0 0 1 1 0 0 1 0 0 0 0 0 0 4 0 1 1 1 0 0 0 0 0 0]\n",
      " [0 0 1 0 0 1 0 0 0 0 0 0 0 1 2 1 3 0 1 0 0 0 0 0 0 0]\n",
      " [0 2 0 1 0 0 0 0 0 0 0 0 0 0 0 3 0 3 0 0 0 0 0 0 0 1]\n",
      " [0 0 2 0 1 0 3 0 0 0 0 0 0 0 0 0 1 0 1 1 0 0 0 0 0 0]\n",
      " [0 0 0 0 0 1 0 0 0 1 0 0 0 0 0 0 0 0 1 3 0 0 0 0 0 2]\n",
      " [0 1 0 0 0 0 0 0 0 0 0 0 0 0 0 0 0 0 0 0 5 0 2 0 0 0]\n",
      " [0 0 0 0 0 0 0 0 0 0 1 0 0 4 0 0 0 0 0 0 0 1 2 0 0 0]\n",
      " [0 0 0 0 0 0 0 0 0 0 1 0 1 0 0 0 0 0 0 0 0 0 5 1 1 0]\n",
      " [0 0 0 0 0 1 0 0 0 0 0 0 0 4 0 0 0 0 0 0 0 0 0 2 0 1]\n",
      " [0 0 0 0 0 0 0 0 0 0 0 0 0 0 0 0 0 0 0 0 0 2 0 0 6 0]\n",
      " [0 0 0 0 2 2 0 0 0 1 0 0 0 0 1 0 0 0 0 0 0 1 0 0 0 2]]\n",
      "              precision    recall  f1-score   support\n",
      "\n",
      "           0       0.70      0.70      0.70        10\n",
      "           1       0.17      0.11      0.13         9\n",
      "           2       0.62      0.80      0.70        10\n",
      "           3       0.22      0.25      0.24         8\n",
      "           4       0.25      0.25      0.25         8\n",
      "           5       0.22      0.25      0.24         8\n",
      "           6       0.38      0.30      0.33        10\n",
      "           7       0.80      0.44      0.57         9\n",
      "           8       0.62      0.50      0.56        10\n",
      "           9       0.25      0.20      0.22        10\n",
      "          10       0.55      0.60      0.57        10\n",
      "          11       0.64      0.70      0.67        10\n",
      "          12       0.50      0.20      0.29        10\n",
      "          13       0.25      0.50      0.33        10\n",
      "          14       0.38      0.30      0.33        10\n",
      "          15       0.44      0.40      0.42        10\n",
      "          16       0.60      0.30      0.40        10\n",
      "          17       0.50      0.30      0.37        10\n",
      "          18       0.10      0.11      0.11         9\n",
      "          19       0.33      0.38      0.35         8\n",
      "          20       0.50      0.62      0.56         8\n",
      "          21       0.20      0.12      0.15         8\n",
      "          22       0.38      0.56      0.45         9\n",
      "          23       0.33      0.25      0.29         8\n",
      "          24       0.50      0.75      0.60         8\n",
      "          25       0.12      0.22      0.16         9\n",
      "\n",
      "    accuracy                           0.39       239\n",
      "   macro avg       0.41      0.39      0.38       239\n",
      "weighted avg       0.41      0.39      0.39       239\n",
      "\n"
     ]
    }
   ],
   "source": [
    "from sklearn.metrics import confusion_matrix, classification_report\n",
    "import csv\n",
    "\n",
    "print(Y_validate1_pred)\n",
    "cm = confusion_matrix(Y_validate_1, Y_validate1_pred)\n",
    "print(cm)\n",
    "cr = classification_report(Y_validate_1, Y_validate1_pred)\n",
    "print(cr)"
   ]
  },
  {
   "cell_type": "markdown",
   "metadata": {},
   "source": [
    "## Test - Predict Using Test Set"
   ]
  },
  {
   "cell_type": "code",
   "execution_count": 186,
   "metadata": {},
   "outputs": [],
   "source": [
    "Y_test1_pred = classifier.predict(X_test1)"
   ]
  },
  {
   "cell_type": "markdown",
   "metadata": {},
   "source": [
    "## Test - Output - Confusion Matrix and Classification Report"
   ]
  },
  {
   "cell_type": "code",
   "execution_count": 187,
   "metadata": {
    "scrolled": true
   },
   "outputs": [
    {
     "name": "stdout",
     "output_type": "stream",
     "text": [
      "[25 13 22  2 18 17 11 13 13 20 19  9 11 14  4  5  6  3  2 12  3  0  9 17\n",
      "  9  4 22 20 23 22 25 23 19 14 22 24  2 19  1 17 16 22 13 15 12 13 13 14\n",
      " 24  0  7  3 22 20 15  6 23  9 25 14 22  2 11 10  0  0 16 20 24 21 24 23\n",
      " 21  8 22 18 15  5 14 19]\n",
      "[[3 0 0 0 0 0 0 0 0 0 0 0 1 0 0 0 0 0 0 0 0 0 0 0 0 0]\n",
      " [0 0 0 0 1 0 0 0 0 0 0 0 0 0 0 1 0 0 0 0 0 0 0 0 0 0]\n",
      " [0 0 3 0 0 0 0 0 0 0 0 0 0 0 0 0 0 0 0 1 0 0 0 0 0 0]\n",
      " [0 0 0 1 0 0 0 0 0 0 0 0 0 0 0 1 0 0 0 0 0 0 0 0 0 1]\n",
      " [0 0 0 0 1 0 0 0 0 0 0 0 0 0 0 0 0 0 0 0 0 0 0 0 0 1]\n",
      " [0 0 0 0 0 1 0 0 0 0 0 0 0 0 0 0 0 1 0 0 0 0 0 0 0 0]\n",
      " [1 0 0 0 0 0 1 0 0 0 0 0 0 0 1 0 1 0 0 0 0 0 0 0 0 0]\n",
      " [0 0 0 0 0 0 0 1 0 0 0 0 0 0 0 0 0 0 0 0 0 0 2 0 0 0]\n",
      " [0 0 0 1 0 0 0 0 1 0 0 0 0 0 0 0 0 0 0 0 1 0 0 0 0 0]\n",
      " [0 0 0 0 0 0 0 0 0 3 0 0 0 0 0 0 0 0 0 1 0 0 0 0 0 0]\n",
      " [0 0 0 0 0 0 0 0 0 0 0 0 0 1 0 0 0 0 0 0 0 0 1 0 1 0]\n",
      " [0 0 0 0 0 0 0 0 0 0 0 3 0 0 0 0 0 0 0 0 0 0 1 0 0 0]\n",
      " [0 0 0 0 0 0 0 0 0 0 1 0 0 0 0 0 0 0 0 0 0 0 1 0 1 0]\n",
      " [0 0 0 0 0 0 0 0 0 0 0 0 1 2 0 0 0 0 0 0 0 1 0 0 0 0]\n",
      " [0 0 0 0 0 0 1 0 0 0 0 0 0 0 2 0 0 0 0 0 0 0 0 0 0 0]\n",
      " [0 1 0 0 0 0 0 0 0 0 0 0 0 0 0 1 0 0 0 0 0 0 0 0 0 1]\n",
      " [0 0 0 1 0 0 0 0 0 0 0 0 0 0 1 0 1 0 0 0 0 0 0 0 0 0]\n",
      " [0 0 0 0 0 1 0 0 0 0 0 0 0 0 0 0 0 2 0 1 0 0 0 0 0 0]\n",
      " [0 0 1 0 0 0 0 0 0 0 0 0 0 0 0 0 0 0 2 0 0 0 0 0 0 0]\n",
      " [0 0 0 0 0 0 0 0 0 0 0 0 0 0 1 0 0 0 0 1 0 0 0 0 0 0]\n",
      " [0 0 0 0 0 0 0 0 0 0 0 0 0 0 0 0 0 0 0 0 3 0 0 0 0 0]\n",
      " [0 0 0 0 0 0 0 0 0 0 0 0 0 0 0 0 0 0 0 0 0 1 2 0 0 0]\n",
      " [0 0 0 0 0 0 0 0 0 0 0 0 0 1 0 0 0 0 0 0 0 0 1 1 0 0]\n",
      " [0 0 0 0 0 0 0 0 0 0 0 0 0 1 0 0 0 0 0 0 0 0 0 1 0 0]\n",
      " [0 0 0 0 0 0 0 0 0 0 0 0 0 0 0 0 0 0 0 0 0 0 0 1 2 0]\n",
      " [0 0 0 0 0 0 0 0 0 1 0 0 0 1 0 0 0 0 0 0 0 0 0 1 0 0]]\n",
      "              precision    recall  f1-score   support\n",
      "\n",
      "           0       0.75      0.75      0.75         4\n",
      "           1       0.00      0.00      0.00         2\n",
      "           2       0.75      0.75      0.75         4\n",
      "           3       0.33      0.33      0.33         3\n",
      "           4       0.50      0.50      0.50         2\n",
      "           5       0.50      0.50      0.50         2\n",
      "           6       0.50      0.25      0.33         4\n",
      "           7       1.00      0.33      0.50         3\n",
      "           8       1.00      0.33      0.50         3\n",
      "           9       0.75      0.75      0.75         4\n",
      "          10       0.00      0.00      0.00         3\n",
      "          11       1.00      0.75      0.86         4\n",
      "          12       0.00      0.00      0.00         3\n",
      "          13       0.33      0.50      0.40         4\n",
      "          14       0.40      0.67      0.50         3\n",
      "          15       0.33      0.33      0.33         3\n",
      "          16       0.50      0.33      0.40         3\n",
      "          17       0.67      0.50      0.57         4\n",
      "          18       1.00      0.67      0.80         3\n",
      "          19       0.25      0.50      0.33         2\n",
      "          20       0.75      1.00      0.86         3\n",
      "          21       0.50      0.33      0.40         3\n",
      "          22       0.12      0.33      0.18         3\n",
      "          23       0.25      0.50      0.33         2\n",
      "          24       0.50      0.67      0.57         3\n",
      "          25       0.00      0.00      0.00         3\n",
      "\n",
      "    accuracy                           0.46        80\n",
      "   macro avg       0.49      0.45      0.44        80\n",
      "weighted avg       0.52      0.46      0.46        80\n",
      "\n"
     ]
    }
   ],
   "source": [
    "print(Y_test1_pred)\n",
    "cm = confusion_matrix(Y_test1, Y_test1_pred)\n",
    "print(cm)\n",
    "cr = classification_report(Y_test1, Y_test1_pred)\n",
    "print(cr)\n",
    "\n",
    "pd.DataFrame(Y_test1_pred).to_csv('output/Best-DT-DS1.csv', header = None)\n",
    "with open('output/Best-DT-DS1.csv', 'a') as fd:\n",
    "    fd.write('\\n\\nConfusion Matrix\\n\\n')\n",
    "    fd.write(pd.DataFrame(cm).to_csv())\n",
    "    fd.write('\\n\\n Classification Report\\n\\n')\n",
    "    fd.write(cr)"
   ]
  },
  {
   "cell_type": "markdown",
   "metadata": {},
   "source": [
    "# -------------------Best-DT2-------------------"
   ]
  },
  {
   "cell_type": "markdown",
   "metadata": {},
   "source": [
    "## Importing and Splitting the dataset"
   ]
  },
  {
   "cell_type": "code",
   "execution_count": 188,
   "metadata": {},
   "outputs": [],
   "source": [
    "dataset_train2 = pd.read_csv(\"dataset/train_2.csv\", header=None)\n",
    "dataset_validate2 = pd.read_csv(\"dataset/val_2.csv\",header=None)\n",
    "dataset_test2_no_label_2 = pd.read_csv(\"dataset/test_no_label_2.csv\",header=None)\n",
    "dataset_test2_with_label_2 = pd.read_csv(\"dataset/test_with_label_2.csv\",header=None)\n",
    "X_training_2 = dataset_train2.iloc[:, :-1].values\n",
    "Y_training_2 = dataset_train2.iloc[:, -1].values\n",
    "X_validate_2 = dataset_validate2.iloc[:, :-1].values\n",
    "Y_validate_2 = dataset_validate2.iloc[:, -1].values\n",
    "X_test2 = dataset_test2_no_label_2.iloc[:, ].values\n",
    "Y_test2 = dataset_test2_with_label_2.iloc[:,-1]"
   ]
  },
  {
   "cell_type": "markdown",
   "metadata": {},
   "source": [
    "## Training Using Training set"
   ]
  },
  {
   "cell_type": "code",
   "execution_count": 189,
   "metadata": {},
   "outputs": [
    {
     "data": {
      "text/plain": [
       "DecisionTreeClassifier(max_depth=10, min_impurity_decrease=0,\n",
       "                       min_samples_split=4)"
      ]
     },
     "execution_count": 189,
     "metadata": {},
     "output_type": "execute_result"
    }
   ],
   "source": [
    "tree_para2 = {'criterion':['gini','entropy'],'max_depth':[10],'min_impurity_decrease':[0,1.0,2.0,3.0,4.0,5.0],'min_samples_split':[2,4,6,8]}\n",
    "classifier_Best_DT2 = GridSearchCV(DecisionTreeClassifier(), tree_para2)\n",
    "classifier_Best_DT2.fit(X_training_2, Y_training_2)\n",
    "classifier = classifier_Best_DT2.best_estimator_\n",
    "classifier.fit(X_training_2, Y_training_2)"
   ]
  },
  {
   "cell_type": "markdown",
   "metadata": {},
   "source": [
    "## Validate - Predict Using Validate Set"
   ]
  },
  {
   "cell_type": "code",
   "execution_count": 190,
   "metadata": {},
   "outputs": [],
   "source": [
    "Y_validate2_pred = classifier.predict(X_validate_2)"
   ]
  },
  {
   "cell_type": "markdown",
   "metadata": {},
   "source": [
    "## Validate - Output - Confusion Matrix and Classification Report"
   ]
  },
  {
   "cell_type": "code",
   "execution_count": 191,
   "metadata": {},
   "outputs": [
    {
     "name": "stdout",
     "output_type": "stream",
     "text": [
      "[9 7 1 ... 8 0 1]\n",
      "[[107   4   1   1   9   2   1   0  31   9]\n",
      " [ 11 326   1  11   3   1   1   2  19   0]\n",
      " [  0   2  25   0   1   1   0   0  12   4]\n",
      " [  1  15   0  25   0   2   0   1   0   1]\n",
      " [ 14   3   0   0  82   9   1   0  17  24]\n",
      " [  2   5   2   1  16 102   0   0   1  36]\n",
      " [  3   0   0   0   4   0   0   0  35   3]\n",
      " [  0   1   0   0   4   0   0  39   0   1]\n",
      " [  3   0   3   2   5   0   0   1 134   2]\n",
      " [  1   1   5   0  22  24   2   0  31 289]]\n",
      "              precision    recall  f1-score   support\n",
      "\n",
      "           0       0.75      0.65      0.70       165\n",
      "           1       0.91      0.87      0.89       375\n",
      "           2       0.68      0.56      0.61        45\n",
      "           3       0.62      0.56      0.59        45\n",
      "           4       0.56      0.55      0.55       150\n",
      "           5       0.72      0.62      0.67       165\n",
      "           6       0.00      0.00      0.00        45\n",
      "           7       0.91      0.87      0.89        45\n",
      "           8       0.48      0.89      0.62       150\n",
      "           9       0.78      0.77      0.78       375\n",
      "\n",
      "    accuracy                           0.72      1560\n",
      "   macro avg       0.64      0.63      0.63      1560\n",
      "weighted avg       0.73      0.72      0.72      1560\n",
      "\n"
     ]
    }
   ],
   "source": [
    "print(Y_validate2_pred)\n",
    "cm2 = confusion_matrix(Y_validate_2, Y_validate2_pred)\n",
    "print(cm2)\n",
    "cr2 = classification_report(Y_validate_2, Y_validate2_pred)\n",
    "print(cr2)"
   ]
  },
  {
   "cell_type": "markdown",
   "metadata": {},
   "source": [
    "## Test - Predict Using Test Set"
   ]
  },
  {
   "cell_type": "code",
   "execution_count": 192,
   "metadata": {},
   "outputs": [],
   "source": [
    "Y_test2_pred = classifier.predict(X_test2)"
   ]
  },
  {
   "cell_type": "markdown",
   "metadata": {},
   "source": [
    "## Test - Output - Confusion Matrix and Classification Report"
   ]
  },
  {
   "cell_type": "code",
   "execution_count": 193,
   "metadata": {
    "scrolled": true
   },
   "outputs": [
    {
     "name": "stdout",
     "output_type": "stream",
     "text": [
      "[9 0 0 5 9 1 1 3 8 9 2 1 3 9 1 3 9 4 7 1 8 1 9 7 4 8 1 1 8 8 9 8 8 9 2 1 9\n",
      " 9 1 1 1 7 9 9 9 9 1 8 5 1 4 0 5 4 0 1 8 5 2 1 1 9 0 0 9 0 1 4 0 9 1 0 1 9\n",
      " 9 8 9 1 4 5 2 1 8 5 0 8 9 9 7 8 8 4 0 1 5 1 9 9 0 0 4 8 8 2 5 5 8 5 5 4 1\n",
      " 9 5 9 8 9 8 1 8 9 1 5 5 9 1 0 0 5 4 9 1 3 8 1 9 1 4 9 8 8 5 0 0 9 4 0 9 8\n",
      " 9 1 1 9 9 1 5 0 1 9 5 3 8 8 0 1 1 1 8 3 9 0 5 9 5 0 9 1 1 0 8 5 4 1 9 9 9\n",
      " 8 9 4 8 3 1 9 1 8 2 7 9 8 9 9 9 0 9 0 9 5 8 8 5 8 4 4 8 8 9 8 8 1 3 9 8 1\n",
      " 9 5 9 1 2 5 0 1 9 1 8 8 1 6 5 9 8 1 2 0 9 9 1 1 9 0 9 7 8 1 1 1 9 0 8 5 1\n",
      " 1 9 1 1 1 4 8 9 2 7 8 5 0 5 1 7 8 5 8 9 9 0 1 4 8 1 5 0 1 5 1 1 9 8 8 0 9\n",
      " 1 0 8 5 3 5 9 5 1 1 1 7 8 1 9 9 1 4 1 8 5 5 9 7 9 8 9 8 0 9 9 0 1 9 5 1 9\n",
      " 4 1 9 7 1 9 4 8 8 5 8 0 9 5 5 8 9 9 3 1 8 1 4 5 1 8 3 0 5 2 5 9 8 0 1 1 3\n",
      " 9 5 1 5 1 8 1 9 8 8 1 5 1 1 1 4 0 4 9 8 9 9 0 1 4 1 2 8 2 1 1 9 4 8 8 1 8\n",
      " 9 8 5 5 8 1 9 1 1 9 1 4 5 4 8 3 9 8 0 9 5 0 4 9 0 3 9 9 1 1 9 9 5 1 0 0 1\n",
      " 0 8 8 8 8 9 9 9 1 9 8 0 0 0 1 9 1 8 8 9 8 4 1 8 7 8 9 8 5 9 3 9 5 0 8 8 8\n",
      " 1 1 8 9 8 9 2 9 0 1 5 4 1 8 1 3 0 8 1 9 8 5 0 9 0 2 1 5 8 4 1 1 9 4 0 1 9\n",
      " 8 5]\n",
      "[[ 38   2   2   1   0   0   0   0  10   2]\n",
      " [  6 107   0   5   0   1   0   0   6   0]\n",
      " [  0   0   6   0   0   2   0   0   6   1]\n",
      " [  0   4   0  10   0   1   0   0   0   0]\n",
      " [ 10   2   1   0  20   4   0   0   4   9]\n",
      " [  0   0   1   0   3  40   0   0   1  10]\n",
      " [  1   0   0   0   1   0   1   0  11   1]\n",
      " [  0   1   1   0   0   0   0  12   1   0]\n",
      " [  0   0   3   0   2   0   0   0  45   0]\n",
      " [  1   0   0   0   7  10   0   0  13  94]]\n",
      "              precision    recall  f1-score   support\n",
      "\n",
      "           0       0.68      0.69      0.68        55\n",
      "           1       0.92      0.86      0.89       125\n",
      "           2       0.43      0.40      0.41        15\n",
      "           3       0.62      0.67      0.65        15\n",
      "           4       0.61      0.40      0.48        50\n",
      "           5       0.69      0.73      0.71        55\n",
      "           6       1.00      0.07      0.12        15\n",
      "           7       1.00      0.80      0.89        15\n",
      "           8       0.46      0.90      0.61        50\n",
      "           9       0.80      0.75      0.78       125\n",
      "\n",
      "    accuracy                           0.72       520\n",
      "   macro avg       0.72      0.63      0.62       520\n",
      "weighted avg       0.75      0.72      0.71       520\n",
      "\n"
     ]
    }
   ],
   "source": [
    "print(Y_test2_pred)\n",
    "cm2 = confusion_matrix(Y_test2, Y_test2_pred)\n",
    "print(cm2)\n",
    "cr2 = classification_report(Y_test2, Y_test2_pred)\n",
    "print(cr2)\n",
    "\n",
    "pd.DataFrame(Y_test2_pred).to_csv('output/Best-DT-DS2.csv', header = None)\n",
    "with open('output/Best-DT-DS2.csv', 'a') as fd:\n",
    "    fd.write('\\n\\nConfusion Matrix\\n\\n')\n",
    "    fd.write(pd.DataFrame(cm2).to_csv())\n",
    "    fd.write('\\n\\n Classification Report\\n\\n')\n",
    "    fd.write(cr2)"
   ]
  },
  {
   "cell_type": "code",
   "execution_count": null,
   "metadata": {},
   "outputs": [],
   "source": []
  },
  {
   "cell_type": "code",
   "execution_count": null,
   "metadata": {},
   "outputs": [],
   "source": []
  }
 ],
 "metadata": {
  "kernelspec": {
   "display_name": "Python 3",
   "language": "python",
   "name": "python3"
  },
  "language_info": {
   "codemirror_mode": {
    "name": "ipython",
    "version": 3
   },
   "file_extension": ".py",
   "mimetype": "text/x-python",
   "name": "python",
   "nbconvert_exporter": "python",
   "pygments_lexer": "ipython3",
   "version": "3.8.0"
  }
 },
 "nbformat": 4,
 "nbformat_minor": 4
}
