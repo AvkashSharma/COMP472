{
 "cells": [
  {
   "cell_type": "markdown",
   "metadata": {
    "colab_type": "text",
    "id": "view-in-github"
   },
   "source": [
    "<a href=\"https://colab.research.google.com/github/AvkashSharma/COMP472/blob/master/Assignment_1.ipynb\" target=\"_parent\"><img src=\"https://colab.research.google.com/assets/colab-badge.svg\" alt=\"Open In Colab\"/></a>"
   ]
  },
  {
   "cell_type": "markdown",
   "metadata": {
    "colab": {},
    "colab_type": "code",
    "id": "ADT9l1BDKGcQ"
   },
   "source": [
    "# Example Heading 1\n",
    "\n",
    "## Example Heading 1.1"
   ]
  },
  {
   "cell_type": "code",
   "execution_count": 3,
   "metadata": {},
   "outputs": [
    {
     "name": "stdout",
     "output_type": "stream",
     "text": [
      "testing jupyter\n"
     ]
    }
   ],
   "source": [
    "import numpy as np\n",
    "import scipy.stats as st\n",
    "import sklearn.linear_model as lm\n",
    "import matplotlib.pyplot as plt\n",
    "%matplotlib inline\n",
    "\n",
    "print('testing jupyter')"
   ]
  },
  {
   "cell_type": "markdown",
   "metadata": {},
   "source": [
    "# GNB-DS1\n",
    "Gaussian Naive Bayes Classifier, with default parameter values"
   ]
  },
  {
   "cell_type": "markdown",
   "metadata": {},
   "source": [
    "# GNB-DS2\n",
    "Gaussian Naive Bayes Classifier, with default parameter values"
   ]
  },
  {
   "cell_type": "markdown",
   "metadata": {},
   "source": [
    "## Importing Libraries"
   ]
  },
  {
   "cell_type": "code",
   "execution_count": 12,
   "metadata": {},
   "outputs": [],
   "source": [
    "import numpy as np\n",
    "import pandas as pd"
   ]
  },
  {
   "cell_type": "markdown",
   "metadata": {},
   "source": [
    "## Importing and Splitting the dataset "
   ]
  },
  {
   "cell_type": "code",
   "execution_count": 13,
   "metadata": {},
   "outputs": [],
   "source": [
    "dataset_train1 = pd.read_csv(\"dataset/train_1.csv\")\n",
    "dataset_validate1 = pd.read_csv(\"dataset/val_1.csv\")\n",
    "dataset_test1 = pd.read_csv(\"dataset/test_no_label_1.csv\")\n",
    "X_training_1 = dataset_train1.iloc[:, :-1].values\n",
    "Y_training_1 = dataset_train1.iloc[:, -1].values\n",
    "X_validate_1 = dataset_validate1.iloc[:, :-1].values\n",
    "Y_validate_1 = dataset_validate1.iloc[:, -1].values\n",
    "X_test_1 = dataset_test1.iloc[:, :-1].values"
   ]
  },
  {
   "cell_type": "markdown",
   "metadata": {},
   "source": [
    "## Training the Gaussian Naive Bayes model on the Training set"
   ]
  },
  {
   "cell_type": "code",
   "execution_count": 14,
   "metadata": {},
   "outputs": [
    {
     "data": {
      "text/plain": [
       "GaussianNB(priors=None, var_smoothing=1e-09)"
      ]
     },
     "execution_count": 14,
     "metadata": {},
     "output_type": "execute_result"
    }
   ],
   "source": [
    "from sklearn.naive_bayes import GaussianNB\n",
    "classifier = GaussianNB()\n",
    "classifier.fit(X_training_1,Y_training_1)"
   ]
  },
  {
   "cell_type": "markdown",
   "metadata": {},
   "source": [
    "## Sample prediction using X_Validate_1"
   ]
  },
  {
   "cell_type": "code",
   "execution_count": 15,
   "metadata": {},
   "outputs": [],
   "source": [
    "Y_validate1_pred = classifier.predict(X_validate_1)"
   ]
  },
  {
   "cell_type": "markdown",
   "metadata": {},
   "source": [
    "## Concatenating to confirm results"
   ]
  },
  {
   "cell_type": "code",
   "execution_count": 17,
   "metadata": {},
   "outputs": [
    {
     "name": "stdout",
     "output_type": "stream",
     "text": [
      "[[17 17]\n",
      " [22 12]\n",
      " [ 1 12]\n",
      " [ 1  1]\n",
      " [16 16]\n",
      " [17 17]\n",
      " [25 25]\n",
      " [14 14]\n",
      " [ 9  9]\n",
      " [ 3  3]\n",
      " [ 4  4]\n",
      " [22 21]\n",
      " [12 17]\n",
      " [25 25]\n",
      " [17 10]\n",
      " [16 18]\n",
      " [15 15]\n",
      " [11 11]\n",
      " [25 15]\n",
      " [ 5  5]\n",
      " [ 8  8]\n",
      " [19 19]\n",
      " [21 21]\n",
      " [24 24]\n",
      " [12 22]\n",
      " [15 15]\n",
      " [18 18]\n",
      " [14 20]\n",
      " [ 4  4]\n",
      " [15 15]\n",
      " [20 20]\n",
      " [20 20]\n",
      " [17  0]\n",
      " [24 24]\n",
      " [17 17]\n",
      " [10 10]\n",
      " [13 13]\n",
      " [ 8  8]\n",
      " [23 23]\n",
      " [ 3  3]\n",
      " [ 8 19]\n",
      " [18 18]\n",
      " [20 20]\n",
      " [17  7]\n",
      " [ 1  9]\n",
      " [25 25]\n",
      " [22 22]\n",
      " [ 8  8]\n",
      " [ 2  2]\n",
      " [10 10]\n",
      " [21 23]\n",
      " [13 12]\n",
      " [ 0  7]\n",
      " [16 16]\n",
      " [12  9]\n",
      " [ 2  2]\n",
      " [ 6  6]\n",
      " [ 3  3]\n",
      " [14 14]\n",
      " [11 11]\n",
      " [12  6]\n",
      " [ 3  3]\n",
      " [13 21]\n",
      " [12 23]\n",
      " [14 14]\n",
      " [ 1 17]\n",
      " [16  9]\n",
      " [22 22]\n",
      " [11 11]\n",
      " [10 10]\n",
      " [17  8]\n",
      " [ 3  3]\n",
      " [ 1  4]\n",
      " [ 1  7]\n",
      " [18 18]\n",
      " [ 8  8]\n",
      " [ 4  2]\n",
      " [25 25]\n",
      " [14 14]\n",
      " [ 1 12]\n",
      " [12 20]\n",
      " [ 5 19]\n",
      " [25 25]\n",
      " [ 7  7]\n",
      " [12  6]\n",
      " [17  0]\n",
      " [18 18]\n",
      " [ 3 14]\n",
      " [12 12]\n",
      " [19 19]\n",
      " [ 0 10]\n",
      " [23 23]\n",
      " [ 5  5]\n",
      " [25 25]\n",
      " [12 16]\n",
      " [ 2  2]\n",
      " [12  0]\n",
      " [21 21]\n",
      " [25 25]\n",
      " [16  6]\n",
      " [16 14]\n",
      " [12 13]\n",
      " [13 13]\n",
      " [ 7  7]\n",
      " [15 13]\n",
      " [12 13]\n",
      " [ 9  9]\n",
      " [ 0 13]\n",
      " [13 13]\n",
      " [ 5  5]\n",
      " [ 1 18]\n",
      " [11 11]\n",
      " [14 14]\n",
      " [22 22]\n",
      " [21 21]\n",
      " [10 10]\n",
      " [15 17]\n",
      " [18 18]\n",
      " [10 17]\n",
      " [ 0  0]\n",
      " [15 15]\n",
      " [11 11]\n",
      " [17 17]\n",
      " [17 17]\n",
      " [11 11]\n",
      " [14 14]\n",
      " [ 7  7]\n",
      " [25 25]\n",
      " [22 20]\n",
      " [12  7]\n",
      " [16 16]\n",
      " [17 17]\n",
      " [ 5  9]\n",
      " [12 16]\n",
      " [ 8 19]\n",
      " [22 22]\n",
      " [10  5]\n",
      " [23 23]\n",
      " [12 23]\n",
      " [ 0  0]\n",
      " [ 8  8]\n",
      " [ 1 16]\n",
      " [ 1  1]\n",
      " [ 3 14]\n",
      " [ 6  6]\n",
      " [ 6  6]\n",
      " [ 1  1]\n",
      " [ 3  3]\n",
      " [ 6  6]\n",
      " [22 22]\n",
      " [ 1  1]\n",
      " [12 12]\n",
      " [15  5]\n",
      " [ 5  5]\n",
      " [ 9  9]\n",
      " [ 4  4]\n",
      " [ 8  8]\n",
      " [14 20]\n",
      " [22 22]\n",
      " [13 13]\n",
      " [25 25]\n",
      " [ 0  0]\n",
      " [ 0 12]\n",
      " [12 23]\n",
      " [16 16]\n",
      " [ 4  4]\n",
      " [11 11]\n",
      " [13 13]\n",
      " [ 1 18]\n",
      " [15 15]\n",
      " [22 22]\n",
      " [ 6  6]\n",
      " [25 19]\n",
      " [16 16]\n",
      " [15 15]\n",
      " [14 20]\n",
      " [19 19]\n",
      " [ 3 10]\n",
      " [ 6  6]\n",
      " [ 3  3]\n",
      " [ 1  0]\n",
      " [ 4  4]\n",
      " [12  1]\n",
      " [24 24]\n",
      " [12  5]\n",
      " [11 11]\n",
      " [22 22]\n",
      " [18 18]\n",
      " [12 23]\n",
      " [12  2]\n",
      " [15 15]\n",
      " [22 21]\n",
      " [15 15]\n",
      " [ 9  9]\n",
      " [22 21]\n",
      " [14  2]\n",
      " [10 10]\n",
      " [12  4]\n",
      " [ 1  1]\n",
      " [ 8  8]\n",
      " [ 1  1]\n",
      " [ 1 12]\n",
      " [ 0  0]\n",
      " [ 7  7]\n",
      " [ 1  4]\n",
      " [ 9  9]\n",
      " [ 2  2]\n",
      " [16  2]\n",
      " [12  0]\n",
      " [15 15]\n",
      " [12  7]\n",
      " [10 10]\n",
      " [16 16]\n",
      " [11 11]\n",
      " [ 6  6]\n",
      " [ 8  8]\n",
      " [ 9  9]\n",
      " [16 16]\n",
      " [24 24]\n",
      " [ 0  0]\n",
      " [19 24]\n",
      " [ 2  2]\n",
      " [13 13]\n",
      " [12 24]\n",
      " [ 1  1]\n",
      " [12 12]\n",
      " [19 19]\n",
      " [12 12]\n",
      " [14 14]\n",
      " [ 3  3]\n",
      " [11 11]\n",
      " [24 24]\n",
      " [10 10]\n",
      " [21 21]\n",
      " [24 24]\n",
      " [ 2  2]\n",
      " [ 8  8]\n",
      " [ 5  5]]\n"
     ]
    }
   ],
   "source": [
    "print(np.concatenate((Y_validate1_pred.reshape(len(Y_validate1_pred),1),Y_validate_1.reshape(len(Y_validate_1),1)),1))"
   ]
  },
  {
   "cell_type": "markdown",
   "metadata": {},
   "source": [
    "# Base-DT-DS1\n",
    "a baseline Decision Tree using entropy as decision criterion and using default values values for the rest of the parameters."
   ]
  },
  {
   "cell_type": "markdown",
   "metadata": {},
   "source": [
    "# Base-DT-DS2"
   ]
  },
  {
   "cell_type": "markdown",
   "metadata": {},
   "source": [
    "# Best-DT\n",
    "a better performing Decision Tree found by performing grid search to find the best combination of hyper-parameters. For this, you need to experiment with the following parameter values:\n",
    "* splitting criterion: gini and entropy\n",
    "* maximum depth of the tree: 10 and no maximum\n",
    "* minimum number of samples to split an internal node: experiment with values of your choice\n",
    "* minimum impurity decrease: experiment with values of your choice\n",
    "* class weight: None and balanced"
   ]
  },
  {
   "cell_type": "markdown",
   "metadata": {},
   "source": [
    "# PER\n",
    " a Perceptron, with default parameter values"
   ]
  },
  {
   "cell_type": "markdown",
   "metadata": {},
   "source": [
    "# Base-MLP\n",
    "a baseline Multi-Layered Perceptron with 1 hidden layer of100 neurons, sigmoid/logistic as activation function, stochastic gradient descent, and default values for the rest of the parameters."
   ]
  },
  {
   "cell_type": "markdown",
   "metadata": {},
   "source": [
    "# Best-MLP\n",
    "a better performing Multi-Layered Perceptron found by performing grid search to find the best combination of hyper-parameters. For this, you need to experiment with the following parameter values:\n",
    "* activation function: sigmoid, tanh, relu and identity \n",
    "* 2 network architectures of your choice: for eg 2 hidden layers with 30+50 nodes, 3 hidden layers with 10+10 \n",
    "* solver: Adam and stochastic gradient descent"
   ]
  }
 ],
 "metadata": {
  "colab": {
   "authorship_tag": "ABX9TyPqYdJSk+uj+0safFwOVmXO",
   "include_colab_link": true,
   "name": "Assignment_1.ipynb",
   "provenance": []
  },
  "kernelspec": {
   "display_name": "Python 3",
   "language": "python",
   "name": "python3"
  },
  "language_info": {
   "codemirror_mode": {
    "name": "ipython",
    "version": 3
   },
   "file_extension": ".py",
   "mimetype": "text/x-python",
   "name": "python",
   "nbconvert_exporter": "python",
   "pygments_lexer": "ipython3",
   "version": "3.7.4"
  }
 },
 "nbformat": 4,
 "nbformat_minor": 1
}
